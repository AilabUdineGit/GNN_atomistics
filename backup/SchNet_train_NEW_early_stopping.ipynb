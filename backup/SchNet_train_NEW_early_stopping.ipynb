{
  "nbformat": 4,
  "nbformat_minor": 0,
  "metadata": {
    "accelerator": "GPU",
    "colab": {
      "name": "SchNet train NEW -- early stopping",
      "provenance": [],
      "collapsed_sections": [
        "7zvjB4M2-GrN",
        "N0Yre9_NDrlt",
        "iGGRSBd-sjJV",
        "n4Tf4yRFPo-L"
      ],
      "toc_visible": true,
      "machine_shape": "hm"
    },
    "kernelspec": {
      "display_name": "Python 3",
      "name": "python3"
    }
  },
  "cells": [
    {
      "cell_type": "markdown",
      "metadata": {
        "id": "JT0_A5VWrTzB"
      },
      "source": [
        "*   Make sure you run the model using a GPU (On Google Colab: Runtime -> Change Runtime Type -> GPU)"
      ]
    },
    {
      "cell_type": "markdown",
      "metadata": {
        "id": "o6taqGEe-CA_"
      },
      "source": [
        "# Setup"
      ]
    },
    {
      "cell_type": "code",
      "metadata": {
        "colab": {
          "base_uri": "https://localhost:8080/"
        },
        "id": "zn5U4EE6K86v",
        "outputId": "61fc5bc6-5dcc-465c-9cd8-23af0cae7031"
      },
      "source": [
        "#@title  { vertical-output: true, display-mode: \"both\" }\n",
        "!pip install -q ase\n",
        "!pip install -q torch==1.8.0\n",
        "!pip install  torch-scatter -f https://pytorch-geometric.com/whl/torch-1.8.0+cu102.html\n",
        "!pip install -q torch-sparse -f https://pytorch-geometric.com/whl/torch-1.8.0+cu102.html\n",
        "!pip install -q torch-cluster -f https://pytorch-geometric.com/whl/torch-1.8.0+cu102.html\n",
        "!pip install -q torch-spline-conv -f https://pytorch-geometric.com/whl/torch-1.8.0+cu102.html\n",
        "!pip install -q git+https://github.com/rusty1s/pytorch_geometric.git@1.7.0"
      ],
      "execution_count": null,
      "outputs": [
        {
          "output_type": "stream",
          "text": [
            "\u001b[K     |████████████████████████████████| 2.2MB 14.1MB/s \n",
            "\u001b[K     |████████████████████████████████| 735.5MB 22kB/s \n",
            "\u001b[31mERROR: torchvision 0.10.0+cu102 has requirement torch==1.9.0, but you'll have torch 1.8.0 which is incompatible.\u001b[0m\n",
            "\u001b[31mERROR: torchtext 0.10.0 has requirement torch==1.9.0, but you'll have torch 1.8.0 which is incompatible.\u001b[0m\n",
            "\u001b[?25hLooking in links: https://pytorch-geometric.com/whl/torch-1.8.0+cu102.html\n",
            "Collecting torch-scatter\n",
            "\u001b[?25l  Downloading https://pytorch-geometric.com/whl/torch-1.8.0%2Bcu102/torch_scatter-2.0.7-cp37-cp37m-linux_x86_64.whl (2.7MB)\n",
            "\u001b[K     |████████████████████████████████| 2.7MB 12.5MB/s \n",
            "\u001b[?25hInstalling collected packages: torch-scatter\n",
            "Successfully installed torch-scatter-2.0.7\n",
            "\u001b[K     |████████████████████████████████| 1.6MB 13.7MB/s \n",
            "\u001b[K     |████████████████████████████████| 1.1MB 7.3MB/s \n",
            "\u001b[K     |████████████████████████████████| 399kB 7.2MB/s \n",
            "\u001b[K     |████████████████████████████████| 235kB 14.5MB/s \n",
            "\u001b[K     |████████████████████████████████| 51kB 7.1MB/s \n",
            "\u001b[?25h  Building wheel for torch-geometric (setup.py) ... \u001b[?25l\u001b[?25hdone\n"
          ],
          "name": "stdout"
        }
      ]
    },
    {
      "cell_type": "code",
      "metadata": {
        "id": "eptQXZr-Pb_v"
      },
      "source": [
        "import numpy as np\n",
        "import torch\n",
        "import ase\n",
        "import random\n",
        "from torch_geometric.data import Data, DataLoader\n",
        "from ase.io import read"
      ],
      "execution_count": null,
      "outputs": []
    },
    {
      "cell_type": "code",
      "metadata": {
        "id": "rtW0yjMChDq1"
      },
      "source": [
        "SEED = 55555\n",
        "\n",
        "np.random.seed(SEED)\n",
        "random.seed(SEED)\n",
        "torch.manual_seed(SEED)\n",
        "if torch.cuda.is_available():\n",
        "    torch.cuda.manual_seed(SEED)\n",
        "    torch.cuda.manual_seed_all(SEED)"
      ],
      "execution_count": null,
      "outputs": []
    },
    {
      "cell_type": "markdown",
      "metadata": {
        "id": "c5qrqH66vMjq"
      },
      "source": [
        "## Set training hyperparameters"
      ]
    },
    {
      "cell_type": "code",
      "metadata": {
        "id": "2dDcgTXXFUNd"
      },
      "source": [
        "DEVICE = torch.device('cuda' if torch.cuda.is_available() else 'cpu')  # use GPU if available\n",
        "DTYPE = torch.float64  # data type to use for data and model\n",
        "\n",
        "BASE_PATH = '/content/drive/MyDrive/FeMaterials/'  # path to git repo/colab/gnn_atomistics\n",
        "\n",
        "TRAINING_RATIO = 0.8  # percent of the dataset to use for training\n",
        "OPTIMIZER = torch.optim.Adam  \n",
        "BATCH_SIZE = 6"
      ],
      "execution_count": null,
      "outputs": []
    },
    {
      "cell_type": "code",
      "metadata": {
        "colab": {
          "base_uri": "https://localhost:8080/"
        },
        "id": "EsbdimMLKEeP",
        "outputId": "cec361eb-d432-4cab-d801-718a9fccd514"
      },
      "source": [
        "from google.colab import drive\n",
        "drive.mount('/content/drive')\n",
        "DATA_PATH = BASE_PATH + 'input/'\n",
        "MODELS_PATH = BASE_PATH + \"/models\""
      ],
      "execution_count": null,
      "outputs": [
        {
          "output_type": "stream",
          "text": [
            "Mounted at /content/drive\n"
          ],
          "name": "stdout"
        }
      ]
    },
    {
      "cell_type": "markdown",
      "metadata": {
        "id": "fPt2G_QP2qUL"
      },
      "source": [
        "# Data"
      ]
    },
    {
      "cell_type": "markdown",
      "metadata": {
        "id": "7zvjB4M2-GrN"
      },
      "source": [
        "## Define functions\n"
      ]
    },
    {
      "cell_type": "code",
      "metadata": {
        "id": "00EbIvKFo9qm"
      },
      "source": [
        "M = {}\n",
        "def extend_atoms(atoms, source, target):\n",
        "  global M\n",
        "  if source not in M.keys():\n",
        "    M[source] = {}\n",
        "  if target not in M[source].keys():\n",
        "    M[source][target] = ase.build.find_optimal_cell_shape(atoms.get_cell(), target, \"sc\") \n",
        "  supercell = ase.build.make_supercell(atoms, M[source][target])\n",
        "  supercell.info[\"energy\"] = atoms.info[\"energy\"] * int(target / source)\n",
        "  return supercell"
      ],
      "execution_count": null,
      "outputs": []
    },
    {
      "cell_type": "code",
      "metadata": {
        "id": "kTBJVdzfo_IT"
      },
      "source": [
        "def data_object(atoms: ase.Atoms):\n",
        "\n",
        "  n = atoms.get_global_number_of_atoms()\n",
        "  if n == 1:\n",
        "    atoms = extend_atoms(atoms, 1, 54)\n",
        "    n = atoms.get_global_number_of_atoms()\n",
        "\n",
        "  cell = torch.tensor(atoms.cell, dtype=DTYPE, device=DEVICE)\n",
        "  x = torch.tensor(atoms.get_positions(), dtype=DTYPE, device=DEVICE)\n",
        "  z = torch.tensor(atoms.get_array(\"numbers\", copy=True), dtype=torch.long, device=DEVICE)\n",
        "  y = torch.tensor(atoms.info[\"energy\"], dtype=DTYPE, device=DEVICE)\n",
        "  f = torch.tensor(atoms.get_array(\"force\", copy=True), dtype=DTYPE, device=DEVICE)\n",
        "\n",
        "  return Data(z=z, x=x, cell=cell, y=y, f=f, n=n)"
      ],
      "execution_count": null,
      "outputs": []
    },
    {
      "cell_type": "markdown",
      "metadata": {
        "id": "N0Yre9_NDrlt"
      },
      "source": [
        "## Load data"
      ]
    },
    {
      "cell_type": "code",
      "metadata": {
        "colab": {
          "base_uri": "https://localhost:8080/"
        },
        "id": "L9CTex5KTFbU",
        "outputId": "cfd968ae-e2f4-419c-a53f-46c2f736c72d"
      },
      "source": [
        "data = []\n",
        "file_names = [f\"DB{i}.xyz\" for i in range(1,9)]\n",
        "# file_names = [\"DB1_100.xyz\"]  # only 100 samples from DB1; for debugging\n",
        "file_paths = [f\"{DATA_PATH}/{f}\" for f in file_names]\n",
        "for f in file_paths:\n",
        "  db = read(f, index=\":\")\n",
        "  data += list(map(data_object, db))\n",
        "print(len(data))"
      ],
      "execution_count": null,
      "outputs": [
        {
          "output_type": "stream",
          "text": [
            "12171\n"
          ],
          "name": "stdout"
        }
      ]
    },
    {
      "cell_type": "code",
      "metadata": {
        "colab": {
          "base_uri": "https://localhost:8080/"
        },
        "id": "8cJJoi7fTglo",
        "outputId": "e2801158-6a1e-4b50-d498-54f7b9935247"
      },
      "source": [
        "y_atom = torch.tensor([d.y / d.n for d in data], dtype=DTYPE)\n",
        "y_atom_mean = y_atom.mean().item()\n",
        "y_atom_std = y_atom.std().item()\n",
        "print(y_atom_mean, y_atom_std)"
      ],
      "execution_count": null,
      "outputs": [
        {
          "output_type": "stream",
          "text": [
            "-3460.825847482401 0.16576383029449515\n"
          ],
          "name": "stdout"
        }
      ]
    },
    {
      "cell_type": "code",
      "metadata": {
        "id": "eXR1YDC-ND5f"
      },
      "source": [
        "random.shuffle(data)\n",
        "train_amount = int(len(data) * TRAINING_RATIO)\n",
        "train_data = data[:train_amount]\n",
        "test_data = data[train_amount:]\n",
        "train_loader = DataLoader(train_data, batch_size=BATCH_SIZE, shuffle=True)\n",
        "test_loader = DataLoader(test_data, batch_size=BATCH_SIZE, shuffle=False)"
      ],
      "execution_count": null,
      "outputs": []
    },
    {
      "cell_type": "markdown",
      "metadata": {
        "id": "2TImiW_5YQ_0"
      },
      "source": [
        "##Functions for the training samples cloud (to remove)"
      ]
    },
    {
      "cell_type": "code",
      "metadata": {
        "id": "btPZiA9idojL"
      },
      "source": [
        "EVALUATE_SAMPLE_CLOUD = False"
      ],
      "execution_count": null,
      "outputs": []
    },
    {
      "cell_type": "code",
      "metadata": {
        "id": "kssZuQBHWvih"
      },
      "source": [
        "# save data\n",
        "SAVE_DATA = False\n",
        "if SAVE_DATA and EVALUATE_SAMPLE_CLOUD:\n",
        "  torch.save(data, BASE_PATH + 'dati.pt')"
      ],
      "execution_count": null,
      "outputs": []
    },
    {
      "cell_type": "code",
      "metadata": {
        "id": "L489k55dcv4A",
        "colab": {
          "base_uri": "https://localhost:8080/"
        },
        "outputId": "74a315c6-0a62-4b8f-8a6c-59b13eaa2256"
      },
      "source": [
        "# load data\n",
        "if EVALUATE_SAMPLE_CLOUD:\n",
        "  dati = torch.load(BASE_PATH + 'dati.pt')\n",
        "  print(len(dati))"
      ],
      "execution_count": null,
      "outputs": [
        {
          "output_type": "stream",
          "text": [
            "12171\n"
          ],
          "name": "stdout"
        }
      ]
    },
    {
      "cell_type": "code",
      "metadata": {
        "id": "zQp78X20Xnex",
        "colab": {
          "base_uri": "https://localhost:8080/"
        },
        "outputId": "4854cc15-9290-45ba-8b6c-bf98c94ecf6a"
      },
      "source": [
        "if EVALUATE_SAMPLE_CLOUD:\n",
        "  idx = 12170  # 7000\n",
        "  print(dati[idx])\n",
        "  print(dati[idx].cell)\n",
        "  print(dati[idx].cell[0])\n",
        "  print(dati[idx].cell[0][0])"
      ],
      "execution_count": null,
      "outputs": [
        {
          "output_type": "stream",
          "text": [
            "Data(cell=[3, 3], f=[12, 3], n=12, x=[12, 3], y=-41530.3393752, z=[12])\n",
            "tensor([[13.8817,  1.9632,  2.8051],\n",
            "        [ 0.0000,  2.4540,  0.0000],\n",
            "        [ 0.0000,  0.0000,  4.0073]], device='cuda:0', dtype=torch.float64)\n",
            "tensor([13.8817,  1.9632,  2.8051], device='cuda:0', dtype=torch.float64)\n",
            "tensor(13.8817, device='cuda:0', dtype=torch.float64)\n"
          ],
          "name": "stdout"
        }
      ]
    },
    {
      "cell_type": "code",
      "metadata": {
        "id": "Jpni8YIC_NIw",
        "colab": {
          "base_uri": "https://localhost:8080/"
        },
        "outputId": "9f2d4120-9006-43fa-d8fa-84dfbd923520"
      },
      "source": [
        "# functions to determine a,b ,c and volume\n",
        "# warning: for the volume, divide by the number of atoms (12, 54 or 128)\n",
        "if EVALUATE_SAMPLE_CLOUD:\n",
        "  a = torch.sqrt(dati[0].cell[0][0]**2 + dati[0].cell[0][1]**2 + dati[0].cell[0][2]**2)\n",
        "  b = torch.sqrt(dati[0].cell[1][0]**2 + dati[0].cell[1][1]**2 + dati[0].cell[1][2]**2)\n",
        "  c = torch.sqrt(dati[0].cell[2][0]**2 + dati[0].cell[2][1]**2 + dati[0].cell[2][2]**2)\n",
        "  vol = torch.linalg.det(dati[0].cell)\n",
        "  print('a : ', a)\n",
        "  print('b : ', b)\n",
        "  print('c : ', c)\n",
        "  print('c/a : ', c/a)\n",
        "  print('vol : ', vol)\n",
        "  print('vol/54 : ', vol/54)"
      ],
      "execution_count": null,
      "outputs": [
        {
          "output_type": "stream",
          "text": [
            "a :  tensor(8.5316, device='cuda:0', dtype=torch.float64)\n",
            "b :  tensor(8.5316, device='cuda:0', dtype=torch.float64)\n",
            "c :  tensor(8.5316, device='cuda:0', dtype=torch.float64)\n",
            "c/a :  tensor(1., device='cuda:0', dtype=torch.float64)\n",
            "vol :  tensor(621.0067, device='cuda:0', dtype=torch.float64)\n",
            "vol/54 :  tensor(11.5001, device='cuda:0', dtype=torch.float64)\n"
          ],
          "name": "stdout"
        }
      ]
    },
    {
      "cell_type": "code",
      "metadata": {
        "id": "Nt3lY8QCaQv6",
        "colab": {
          "base_uri": "https://localhost:8080/"
        },
        "outputId": "db64e641-e9b6-48eb-85ca-cef92c7c9e5a"
      },
      "source": [
        "# different number of atoms in lattice\n",
        "if EVALUATE_SAMPLE_CLOUD:\n",
        "  atomic_numbers = [d.n for d in dati]\n",
        "  num = list(set(atomic_numbers))\n",
        "  print(num)"
      ],
      "execution_count": null,
      "outputs": [
        {
          "output_type": "stream",
          "text": [
            "[128, 129, 130, 12, 53, 54, 123, 124, 125, 126, 127]\n"
          ],
          "name": "stdout"
        }
      ]
    },
    {
      "cell_type": "markdown",
      "metadata": {
        "id": "iGGRSBd-sjJV"
      },
      "source": [
        "# Model"
      ]
    },
    {
      "cell_type": "code",
      "metadata": {
        "id": "BI56tgJIpCC2"
      },
      "source": [
        "from ase import Atoms\n",
        "from ase.neighborlist import neighbor_list \n",
        "\n",
        "def pbc_edges(cutoff, z, x, cell, batch, compute_sc=False):\n",
        "\n",
        "  NH1 = torch.tensor([], dtype=torch.long, device=DEVICE)\n",
        "  NH2 = torch.tensor([], dtype=torch.long, device=DEVICE)\n",
        "  S = torch.tensor([], dtype=torch.long, device=DEVICE)\n",
        "  D = torch.tensor([], dtype=DTYPE, device=DEVICE)\n",
        "  SC = torch.tensor([], dtype=DTYPE, device=DEVICE) if compute_sc else None\n",
        "  x_ = torch.clone(x).detach().cpu().numpy()\n",
        "\n",
        "  if batch is not None:\n",
        "    # count number of elements per batch\n",
        "    batch_ids = list(set(batch.cpu().tolist()))\n",
        "    batch_sizes = [ (batch == id).sum().item() for id in batch_ids ]\n",
        "\n",
        "    for i in range(len(batch_sizes)):\n",
        "      offset = sum(batch_sizes[:i]) # to obtain correct atom indices\n",
        "      \n",
        "      atoms = Atoms(charges = (z[offset:offset + batch_sizes[i]]).cpu(), \n",
        "        positions = x_[offset:offset + batch_sizes[i]], \n",
        "        cell = (cell[3*i:3*(i+1)]).cpu(),\n",
        "        pbc = True\n",
        "      ) \n",
        "      \n",
        "      nh1, nh2, s = neighbor_list(\"ijS\", atoms, cutoff, self_interaction=False) \n",
        "      nh1 = torch.tensor(nh1, dtype=torch.long, device=DEVICE)\n",
        "      nh2 = torch.tensor(nh2, dtype=torch.long, device=DEVICE)\n",
        "      nh1 = nh1 + offset\n",
        "      nh2 = nh2 + offset\n",
        "      s = torch.tensor(s, dtype=DTYPE, device=DEVICE)\n",
        "      d = x[nh2] - x[nh1] + torch.matmul(s, cell[3*i:3*(i+1)])\n",
        "      \n",
        "      if compute_sc:\n",
        "        cell_flat = torch.flatten(cell[3*i:3*(i+1)])\n",
        "        sc = torch.tile(cell_flat, (len(d), 1))\n",
        "        sc[:, 0:3] = (sc[:, 0:3].T * s[:, 0]).T\n",
        "        sc[:, 3:6] = (sc[:, 3:6].T * s[:, 1]).T\n",
        "        sc[:, 6:9] = (sc[:, 6:9].T * s[:, 2]).T\n",
        "        SC = torch.cat((SC, sc), 0)      \n",
        "\n",
        "      NH1 = torch.cat((NH1, nh1), 0)\n",
        "      NH2 = torch.cat((NH2, nh2), 0)\n",
        "      S = torch.cat((S, s), 0)\n",
        "      D = torch.cat((D, d), 0)\n",
        "\n",
        "  else: # no batch\n",
        "    atoms = Atoms(charges = z.cpu(), positions = x.cpu(), cell = cell.cpu(), pbc = True)\n",
        "    nh1, nh2, s = neighbor_list(\"ijS\", atoms, cutoff, self_interaction=False)\n",
        "    nh1 = torch.tensor(nh1, dtype=torch.long, device=DEVICE)\n",
        "    nh2 = torch.tensor(nh2, dtype=torch.long, device=DEVICE)\n",
        "    s = torch.tensor(s, dtype=DTYPE, device=DEVICE)\n",
        "    d = x[nh2] - x[nh1] + torch.matmul(s, cell)\n",
        "    \n",
        "    if compute_sc:\n",
        "      cell_flat = torch.flatten(cell)\n",
        "      sc = torch.tile(cell_flat, (len(d), 1))\n",
        "      sc[:, 0:3] = (sc[:, 0:3].T * s[:, 0]).T\n",
        "      sc[:, 3:6] = (sc[:, 3:6].T * s[:, 1]).T\n",
        "      sc[:, 6:9] = (sc[:, 6:9].T * s[:, 2]).T  \n",
        "      SC = sc\n",
        "\n",
        "    NH1, NH2, S, D = nh1, nh2, s, d\n",
        "\n",
        "  D = D.norm(dim=-1)\n",
        "  return  NH1, NH2, D, S, SC "
      ],
      "execution_count": null,
      "outputs": []
    },
    {
      "cell_type": "code",
      "metadata": {
        "id": "VI4ArW8LdbFu"
      },
      "source": [
        "import os\n",
        "import warnings\n",
        "import os.path as ospa\n",
        "from math import pi as PI\n",
        "import torch.nn.functional as F\n",
        "from torch.nn import Embedding, Sequential, Linear, ModuleList\n",
        "from torch_scatter import scatter\n",
        "from torch_geometric.data.makedirs import makedirs\n",
        "from torch_geometric.data import download_url, extract_zip\n",
        "from torch_geometric.nn import radius_graph, MessagePassing\n",
        "\n",
        "class SchNetx(torch.nn.Module):\n",
        "\n",
        "    def __init__(self, hidden_channels=128, num_filters=128,\n",
        "                 num_interactions=6, num_gaussians=50, cutoff=10.0,\n",
        "                 readout='add', dipole=False, mean=None, std=None,\n",
        "                 atomref=None):\n",
        "        super(SchNetx, self).__init__()\n",
        "\n",
        "        assert readout in ['add', 'sum', 'mean']\n",
        "\n",
        "        self.hidden_channels = hidden_channels\n",
        "        self.num_filters = num_filters\n",
        "        self.num_interactions = num_interactions\n",
        "        self.num_gaussians = num_gaussians\n",
        "        self.cutoff = cutoff\n",
        "        self.readout = readout\n",
        "        self.dipole = dipole\n",
        "        self.readout = 'add' if self.dipole else self.readout\n",
        "        self.mean = mean\n",
        "        self.std = std\n",
        "        self.scale = None\n",
        "\n",
        "        atomic_mass = torch.from_numpy(ase.data.atomic_masses)\n",
        "        self.register_buffer('atomic_mass', atomic_mass)\n",
        "\n",
        "        self.embedding = Embedding(100, hidden_channels)\n",
        "        self.distance_expansion = GaussianSmearing(0.0, cutoff, num_gaussians)\n",
        "\n",
        "        self.interactions = ModuleList()\n",
        "        for _ in range(num_interactions):\n",
        "            block = InteractionBlock(hidden_channels, num_gaussians,\n",
        "                                     num_filters, cutoff)\n",
        "            self.interactions.append(block)\n",
        "\n",
        "        self.lin1 = Linear(hidden_channels, hidden_channels // 2)\n",
        "        self.act = ShiftedSoftplus()\n",
        "        self.lin2 = Linear(hidden_channels // 2, 1)\n",
        "\n",
        "        self.register_buffer('initial_atomref', atomref)\n",
        "        self.atomref = None\n",
        "        if atomref is not None:\n",
        "            self.atomref = Embedding(100, 1)\n",
        "            self.atomref.weight.data.copy_(atomref)\n",
        "        \n",
        "        self.reset_parameters()\n",
        "\n",
        "    def reset_parameters(self):\n",
        "        self.embedding.reset_parameters()\n",
        "        for interaction in self.interactions:\n",
        "            interaction.reset_parameters()\n",
        "        torch.nn.init.xavier_uniform_(self.lin1.weight)\n",
        "        self.lin1.bias.data.fill_(0)\n",
        "        torch.nn.init.xavier_uniform_(self.lin2.weight)\n",
        "        self.lin2.bias.data.fill_(0)\n",
        "        if self.atomref is not None:\n",
        "            self.atomref.weight.data.copy_(self.initial_atomref)\n",
        "\n",
        "    def forward(self, z, x, cell=None, batch=None):\n",
        "        assert z.dim() == 1 and z.dtype == torch.long\n",
        "        batch = torch.zeros_like(z) if batch is None else batch\n",
        "\n",
        "        h = self.embedding(z)\n",
        "\n",
        "        if cell != None:\n",
        "          row, col, edge_weight, shift, _ = pbc_edges(self.cutoff, z, x, cell, batch, compute_sc=False)\n",
        "          edge_index = torch.stack((row, col))\n",
        "        else:\n",
        "          edge_index = radius_graph(x, r=self.cutoff, batch=batch)\n",
        "          row, col = edge_index\n",
        "          edge_weight = (x[row] - x[col]).norm(dim=-1)\n",
        "        \n",
        "        edge_attr = self.distance_expansion(edge_weight)\n",
        "\n",
        "        for interaction in self.interactions:\n",
        "            h = h + interaction(h, edge_index, edge_weight, edge_attr)\n",
        "\n",
        "        h = self.lin1(h)\n",
        "        h = self.act(h)\n",
        "        h = self.lin2(h)\n",
        "\n",
        "        if self.dipole:\n",
        "            mass = self.atomic_mass[z].view(-1, 1)\n",
        "            c = scatter(mass * x, batch, dim=0) / scatter(mass, batch, dim=0)\n",
        "            h = h * (pos - c[batch])\n",
        "\n",
        "        if not self.dipole and self.mean is not None and self.std is not None:\n",
        "            h = h * self.std + self.mean\n",
        "\n",
        "        if not self.dipole and self.atomref is not None:\n",
        "            h = h + self.atomref(z)\n",
        "\n",
        "        out = scatter(h, batch, dim=0, reduce=self.readout)\n",
        "        \n",
        "        if self.dipole:\n",
        "            out = torch.norm(out, dim=-1, keepdim=True)\n",
        "\n",
        "        if self.scale is not None:\n",
        "            out = self.scale * out\n",
        "\n",
        "        return out\n",
        "\n",
        "\n",
        "    def __repr__(self):\n",
        "        return (f'{self.__class__.__name__}('\n",
        "                f'hidden_channels={self.hidden_channels}, '\n",
        "                f'num_filters={self.num_filters}, '\n",
        "                f'num_interactions={self.num_interactions}, '\n",
        "                f'num_gaussians={self.num_gaussians}, '\n",
        "                f'cutoff={self.cutoff})')\n",
        "\n",
        "\n",
        "\n",
        "class InteractionBlock(torch.nn.Module):\n",
        "    def __init__(self, hidden_channels, num_gaussians, num_filters, cutoff):\n",
        "        super(InteractionBlock, self).__init__()\n",
        "        self.mlp = Sequential(\n",
        "            Linear(num_gaussians, num_filters),\n",
        "            ShiftedSoftplus(),\n",
        "            Linear(num_filters, num_filters),\n",
        "        )\n",
        "        self.conv = CFConv(hidden_channels, hidden_channels, num_filters,\n",
        "                           self.mlp, cutoff)\n",
        "        self.act = ShiftedSoftplus()\n",
        "        self.lin = Linear(hidden_channels, hidden_channels)\n",
        "\n",
        "        self.reset_parameters()\n",
        "\n",
        "    def reset_parameters(self):\n",
        "        torch.nn.init.xavier_uniform_(self.mlp[0].weight)\n",
        "        self.mlp[0].bias.data.fill_(0)\n",
        "        torch.nn.init.xavier_uniform_(self.mlp[2].weight)\n",
        "        self.mlp[0].bias.data.fill_(0)\n",
        "        self.conv.reset_parameters()\n",
        "        torch.nn.init.xavier_uniform_(self.lin.weight)\n",
        "        self.lin.bias.data.fill_(0)\n",
        "\n",
        "    def forward(self, x, edge_index, edge_weight, edge_attr):\n",
        "        x = self.conv(x, edge_index, edge_weight, edge_attr)\n",
        "        x = self.act(x)\n",
        "        x = self.lin(x)\n",
        "        return x\n",
        "\n",
        "\n",
        "class CFConv(MessagePassing):\n",
        "    def __init__(self, in_channels, out_channels, num_filters, nn, cutoff):\n",
        "        super(CFConv, self).__init__(aggr='add')\n",
        "        self.lin1 = Linear(in_channels, num_filters, bias=False)\n",
        "        self.lin2 = Linear(num_filters, out_channels)\n",
        "        self.nn = nn\n",
        "        self.cutoff = cutoff\n",
        "\n",
        "        self.reset_parameters()\n",
        "\n",
        "    def reset_parameters(self):\n",
        "        torch.nn.init.xavier_uniform_(self.lin1.weight)\n",
        "        torch.nn.init.xavier_uniform_(self.lin2.weight)\n",
        "        self.lin2.bias.data.fill_(0)\n",
        "\n",
        "    def forward(self, x, edge_index, edge_weight, edge_attr):\n",
        "        C = 0.5 * (torch.cos(edge_weight * PI / self.cutoff) + 1.0)\n",
        "        W = self.nn(edge_attr) * C.view(-1, 1)\n",
        "\n",
        "        x = self.lin1(x)\n",
        "        x = self.propagate(edge_index, x=x, W=W)\n",
        "        x = self.lin2(x)\n",
        "        return x\n",
        "\n",
        "    def message(self, x_j, W):\n",
        "        return x_j * W\n",
        "\n",
        "\n",
        "class GaussianSmearing(torch.nn.Module):\n",
        "    def __init__(self, start=0.0, stop=5.0, num_gaussians=50):\n",
        "        super(GaussianSmearing, self).__init__()\n",
        "        offset = torch.linspace(start, stop, num_gaussians)\n",
        "        self.coeff = (-0.5 / (offset[1] - offset[0]).item()**2)\n",
        "        self.register_buffer('offset', offset)\n",
        "\n",
        "    def forward(self, dist):\n",
        "        dist = dist.view(-1, 1) - self.offset.view(1, -1)\n",
        "        res = torch.exp(self.coeff * torch.pow(dist, 2))\n",
        "        return res\n",
        "\n",
        "class ShiftedSoftplus(torch.nn.Module):\n",
        "    def __init__(self):\n",
        "        super(ShiftedSoftplus, self).__init__()\n",
        "        self.shift = torch.log(torch.tensor(2.0)).item()\n",
        "\n",
        "    def forward(self, x):\n",
        "        return F.softplus(x) - self.shift"
      ],
      "execution_count": null,
      "outputs": []
    },
    {
      "cell_type": "markdown",
      "metadata": {
        "id": "2105d1C4Myw9"
      },
      "source": [
        "# Training"
      ]
    },
    {
      "cell_type": "markdown",
      "metadata": {
        "id": "puifUnOPsfwE"
      },
      "source": [
        "## Define functions\n"
      ]
    },
    {
      "cell_type": "code",
      "metadata": {
        "id": "H98w3dSUWths"
      },
      "source": [
        "def energy_loss(data, p_energies):\n",
        "  energies_loss = torch.mean(torch.abs(data.y - p_energies))\n",
        "  return energies_loss"
      ],
      "execution_count": null,
      "outputs": []
    },
    {
      "cell_type": "code",
      "metadata": {
        "id": "IxqIFa9QhPQC"
      },
      "source": [
        "def energy_forces_loss(data, p_energies, p_forces, energy_coeff):\n",
        "  energies_loss = torch.mean(torch.abs(data.y - p_energies))\n",
        "  forces_loss = torch.mean(torch.abs(data.f - p_forces))\n",
        "  total_loss = (energy_coeff)*energies_loss + (1-energy_coeff)*forces_loss\n",
        "  return total_loss, energies_loss, forces_loss"
      ],
      "execution_count": null,
      "outputs": []
    },
    {
      "cell_type": "code",
      "metadata": {
        "id": "kM8OajQfAN1C"
      },
      "source": [
        "def train(model, loader, optimizer, use_forces=False, energy_coeff=None):\n",
        "  if not use_forces:\n",
        "    train_energy(model, loader, optimizer)\n",
        "  else:\n",
        "    train_energy_forces(model, loader, optimizer, energy_coeff)"
      ],
      "execution_count": null,
      "outputs": []
    },
    {
      "cell_type": "code",
      "metadata": {
        "id": "7sUJZK1fWrl5"
      },
      "source": [
        "def train_energy(model, loader, optimizer):\n",
        "  model.train()\n",
        "  for data in loader:\n",
        "    optimizer.zero_grad()\n",
        "\n",
        "    e = model(data.z, data.x, data.cell, data.batch)\n",
        "    e = e.squeeze(1) \n",
        "    e_loss = energy_loss(data, e)\n",
        "\n",
        "    e_loss.backward()\n",
        "    optimizer.step()"
      ],
      "execution_count": null,
      "outputs": []
    },
    {
      "cell_type": "code",
      "metadata": {
        "id": "63JAD6H6M5RC"
      },
      "source": [
        "def train_energy_forces(model, loader, optimizer, energy_coeff):\n",
        "  model.train()\n",
        "  total_e_loss = 0\n",
        "  total_f_loss = 0\n",
        "  total_ef_loss = 0\n",
        "\n",
        "  for data in loader:\n",
        "    data.x.requires_grad = True \n",
        "    optimizer.zero_grad()\n",
        "    \n",
        "    e = model(data.z, data.x, data.cell, data.batch)\n",
        "    f = -1 * torch.autograd.grad(e, data.x, grad_outputs=torch.ones_like(e), create_graph=True, retain_graph=True)[0]\n",
        "    e = e.squeeze(1) \n",
        "    \n",
        "    ef_loss, e_loss, f_loss = energy_forces_loss(data, e, f, energy_coeff)\n",
        "    with torch.no_grad():\n",
        "      total_e_loss += e_loss.item()\n",
        "      total_f_loss += f_loss.item()\n",
        "      total_ef_loss += ef_loss.item()\n",
        "\n",
        "    ef_loss.backward()\n",
        "    optimizer.step()\n",
        "\n",
        "  print(\"Total training loss\\t ef: {}, e: {}, f: {}\".format(total_ef_loss, total_e_loss, total_f_loss))"
      ],
      "execution_count": null,
      "outputs": []
    },
    {
      "cell_type": "code",
      "metadata": {
        "id": "eJwxu2HIM6rE"
      },
      "source": [
        "def test(model, train_loader, test_loader):\n",
        "  model.eval()\n",
        "\n",
        "  with torch.no_grad():\n",
        "    train_errs = torch.tensor([], dtype=DTYPE)\n",
        "    test_errs = torch.tensor([], dtype=DTYPE)\n",
        "  \n",
        "    for data in train_loader:  # Iterate in batches over the training/test dataset.\n",
        "      e = model(data.z, data.x, data.cell, data.batch)\n",
        "      e = e.squeeze(1)\n",
        "      errs = torch.abs(e.view(-1).cpu() - data.y.cpu())\n",
        "      train_errs = torch.cat((train_errs, errs))\n",
        "    train_mae = torch.mean(train_errs).item()\n",
        "\n",
        "    for data in test_loader:  # Iterate in batches over the training/test dataset.\n",
        "      e = model(data.z, data.x, data.cell, data.batch)\n",
        "      e = e.squeeze(1)\n",
        "      errs = torch.abs(e.view(-1).cpu() - data.y.cpu())\n",
        "      test_errs = torch.cat((test_errs, errs))\n",
        "    test_mae = torch.mean(test_errs).item()\n",
        "\n",
        "  return train_mae, test_mae"
      ],
      "execution_count": null,
      "outputs": []
    },
    {
      "cell_type": "code",
      "metadata": {
        "id": "wDdmej-tM8IG"
      },
      "source": [
        "# from datetime import datetime\n",
        "\n",
        "# train_maes = []\n",
        "# test_maes = []\n",
        "# def train_and_test(model, train_loader, test_loader, optimizer, scheduler, \n",
        "#                    use_forces=False, energy_coeff=None, \n",
        "#                    epochs=100, starting_epoch=1, save_every=5, \n",
        "#                    name=None, description=None):\n",
        "#   if name == None:\n",
        "#     name = \"SchNet\"\n",
        "#   if description == None:\n",
        "#     description = datetime.now().strftime('%H:%M:%S')\n",
        "\n",
        "#   for epoch in range(starting_epoch, epochs):\n",
        "#     print(\"\")\n",
        "#     print(f\"Epoch {epoch} ({datetime.now().strftime('%H:%M:%S')})\")\n",
        "#     print(f\"\")\n",
        "#     train(model, train_loader, optimizer, use_forces=use_forces, energy_coeff=energy_coeff)\n",
        "#     train_mae, test_mae = test(model, train_loader, test_loader)\n",
        "#     train_maes.append(train_mae)\n",
        "#     test_maes.append(test_mae)\n",
        "#     scheduler.step(test_mae)\n",
        "#     print(f\"Energy MAE: train {train_mae} eV, test {test_mae} eV\")\n",
        "#     if epoch % save_every == 0:\n",
        "#       save_model(name=name, description=description, epoch=epoch, train_err=train_mae, test_err=test_mae)"
      ],
      "execution_count": null,
      "outputs": []
    },
    {
      "cell_type": "code",
      "metadata": {
        "id": "hQg8wxPMbYx6"
      },
      "source": [
        "from datetime import datetime\n",
        "\n",
        "train_maes = []\n",
        "test_maes = []\n",
        "def train_and_test(model, train_loader, test_loader, optimizer, scheduler, \n",
        "                   use_forces=False, energy_coeff=None, \n",
        "                   epochs=100, starting_epoch=1, save_every=5,\n",
        "                   early_stopping_starting_epoch=100, patience=100,\n",
        "                   name=None, description=None):\n",
        "  if name == None:\n",
        "    name = \"SchNet\"\n",
        "  if description == None:\n",
        "    description = datetime.now().strftime('%H:%M:%S')\n",
        "\n",
        "  lowest_test_mae = 0.05136417386564761  # was 100.\n",
        "  epochs_not_improved = 0\n",
        "  save_model_flag = True\n",
        "  for epoch in range(starting_epoch, epochs):\n",
        "    print(\"\")\n",
        "    print(f\"Epoch {epoch} ({datetime.now().strftime('%H:%M:%S')})\")\n",
        "    print(f\"\")\n",
        "    train(model, train_loader, optimizer, use_forces=use_forces, energy_coeff=energy_coeff)\n",
        "    train_mae, test_mae = test(model, train_loader, test_loader)\n",
        "    train_maes.append(train_mae)\n",
        "    test_maes.append(test_mae)\n",
        "    print(f\"Energy MAE: train {train_mae} eV, test {test_mae} eV\")\n",
        "    if epoch <= early_stopping_starting_epoch:\n",
        "      lowest_test_mae = test_mae\n",
        "      save_model_flag = True\n",
        "    else:\n",
        "      print('Early stopping active')\n",
        "      if test_mae < lowest_test_mae:\n",
        "        epochs_not_improved = 0\n",
        "        lowest_test_mae = test_mae\n",
        "        save_model_flag = True\n",
        "        print('MAE has decreased, saving the model')\n",
        "      else:\n",
        "        epochs_not_improved += 1\n",
        "        save_model_flag = False\n",
        "        if epochs_not_improved > patience:\n",
        "          print('Patience has been finished: end of the training')\n",
        "          break\n",
        "        else:\n",
        "          print('MAE has not decreased for ' + str(epochs_not_improved) + ' epochs, go on without saving the model')\n",
        "    if save_model_flag == True:\n",
        "      save_model(name=name, description=description, epoch=epoch, train_err=train_mae, test_err=test_mae)\n",
        "    scheduler.step(test_mae)"
      ],
      "execution_count": null,
      "outputs": []
    },
    {
      "cell_type": "code",
      "metadata": {
        "id": "2_YW0UDtFlZk"
      },
      "source": [
        "def save_model(name, description, epoch=-1, train_err=-1, test_err=-1):\n",
        "  model_data = {\n",
        "    \"desc\": \"new schnet training\",\n",
        "    \"str\": model_str,\n",
        "    \"mean\": y_atom_mean,\n",
        "    \"std\": y_atom_std,\n",
        "    \"state\": model.state_dict(),\n",
        "    \"optimizer\": optimizer.state_dict(),\n",
        "    \"scheduler\": scheduler.state_dict(),\n",
        "    \"train_err\": train_err,\n",
        "    \"test_err\": test_err\n",
        "  }  \n",
        "  if not epoch == -1:\n",
        "    epoch_str = \"_\" + str(epoch)\n",
        "  else:\n",
        "    epoch_str = \"\"\n",
        "  actual_name = f\"{name}{epoch_str}\"\n",
        "\n",
        "  dir = f\"{MODELS_PATH}/{name}\"\n",
        "  if not os.path.exists(dir):\n",
        "    os.makedirs(dir)\n",
        "    print(f\"Created directory {dir}\")\n",
        "  torch.save(model_data, f\"{dir}/{actual_name}\")\n",
        "  print(f\"Saved {actual_name}\")\n",
        "\n",
        "  if os.path.isfile(f\"{dir}/{name}_best\"):\n",
        "    best = torch.load(f\"{dir}/{name}_best\")\n",
        "    best_train_err = best[\"train_err\"]\n",
        "    best_test_err = best[\"test_err\"]\n",
        "  else:\n",
        "    best_train_err, best_test_err = 10e18, 10e18\n",
        "  # if train_err < best_train_err and test_err < best_test_err:\n",
        "  if test_err < best_test_err:\n",
        "    torch.save(model_data, f\"{dir}/{name}_best\")\n",
        "    print(f\"Saved best\")"
      ],
      "execution_count": null,
      "outputs": []
    },
    {
      "cell_type": "markdown",
      "metadata": {
        "id": "n4Tf4yRFPo-L"
      },
      "source": [
        "## Instantiate model"
      ]
    },
    {
      "cell_type": "code",
      "metadata": {
        "id": "FcvcHgl7Giex"
      },
      "source": [
        "model_name = \"schnet_15giu\" # name of the folder where checkpoints will be saved\n",
        "model_description = \"SchNet new training should be the same as old one (power something)\""
      ],
      "execution_count": null,
      "outputs": []
    },
    {
      "cell_type": "code",
      "metadata": {
        "id": "eUy81bUdBnfy"
      },
      "source": [
        "cutoff = 5.0\n",
        "model = SchNetx(hidden_channels = 128, num_filters=128, num_gaussians=128, cutoff=cutoff, \n",
        "                num_interactions=3, readout=\"sum\", mean=y_atom_mean, std=y_atom_std).to(DEVICE)\n",
        "if DTYPE == torch.float64:\n",
        "  model = model.double()\n",
        "\n",
        "optimizer = torch.optim.AdamW(model.parameters(), lr=1e-3)\n",
        "optimizer.zero_grad()\n",
        "scheduler = torch.optim.lr_scheduler.ReduceLROnPlateau(optimizer, mode='min', factor=0.5, patience=3, threshold=0.05, threshold_mode='rel')\n",
        "use_forces = False\n",
        "energy_coeff = 0.\n",
        "max_epochs = 100"
      ],
      "execution_count": null,
      "outputs": []
    },
    {
      "cell_type": "markdown",
      "metadata": {
        "id": "g_qmy4c8GKio"
      },
      "source": [
        "Copy-paste the content of the previous cell in the following variable to allow for saving of parameters + hyperparameters"
      ]
    },
    {
      "cell_type": "code",
      "metadata": {
        "id": "6d34PRjnGJtj"
      },
      "source": [
        "model_str = \"\"\"\n",
        "cutoff = 5.0\n",
        "model = SchNetx(hidden_channels = 128, num_filters=128, num_gaussians=128, cutoff=cutoff, \n",
        "                num_interactions=3, readout=\"sum\", mean=y_atom_mean, std=y_atom_std).to(DEVICE)\n",
        "if DTYPE == torch.float64:\n",
        "  model = model.double()\n",
        "\n",
        "optimizer = torch.optim.AdamW(model.parameters(), lr=1e-3)\n",
        "optimizer.zero_grad()\n",
        "scheduler = torch.optim.lr_scheduler.ReduceLROnPlateau(optimizer, mode='min', factor=0.5, patience=3, threshold=0.05, threshold_mode='rel')\n",
        "use_forces = False\n",
        "energy_coeff = 0.\n",
        "max_epochs = 100\n",
        "\"\"\""
      ],
      "execution_count": null,
      "outputs": []
    },
    {
      "cell_type": "markdown",
      "metadata": {
        "id": "NKS9DlbFKjeA"
      },
      "source": [
        "## [Restore from checkpoint]"
      ]
    },
    {
      "cell_type": "code",
      "metadata": {
        "id": "6EOoxf5SJ1Rm"
      },
      "source": [
        "RESTORE_FROM_CHECKPOINT = True\n",
        "\n",
        "if RESTORE_FROM_CHECKPOINT:\n",
        "  model_fn = \"schnet_15giu_62\"\n",
        "  checkpoint = torch.load(MODELS_PATH + \"/schnet_15giu/\" + model_fn)\n",
        "  model.load_state_dict(checkpoint[\"state\"])\n",
        "  optimizer.load_state_dict(checkpoint[\"optimizer\"])\n",
        "  scheduler.load_state_dict(checkpoint[\"scheduler\"])"
      ],
      "execution_count": null,
      "outputs": []
    },
    {
      "cell_type": "markdown",
      "metadata": {
        "id": "4bmHNAbvKmnB"
      },
      "source": [
        "## Train"
      ]
    },
    {
      "cell_type": "code",
      "metadata": {
        "colab": {
          "base_uri": "https://localhost:8080/"
        },
        "id": "_eX5FRGrr7zk",
        "outputId": "30dc3f77-924f-45c2-97ba-72ba25a5108f"
      },
      "source": [
        "#@title  { vertical-output: true, display-mode: \"both\" }\n",
        "def experiment_summary():\n",
        "  device = \"CPU\" if DEVICE == torch.device(\"cpu\") else f\"GPU ({torch.cuda.get_device_name(device=DEVICE)})\"\n",
        "  print(f\"Device: {device}\")\n",
        "  print(f\"Data type: {DTYPE}\")\n",
        "  print(f\"Files used: {file_names}\")\n",
        "  print(f\"Cutoff: {3.5}\")\n",
        "  print(f\"Mean: {y_atom_mean}, std: {y_atom_std}\")\n",
        "  print(f\"Training ratio: {TRAINING_RATIO}\")\n",
        "  print(f\"Batch size: {BATCH_SIZE}\")\n",
        "  print(f\"Model: \\n    {model_name}: {model_description}\\n    {str(model)}\")\n",
        "  loss = \"energy\" if not use_forces else f\"energy+forces ({energy_coeff})\"\n",
        "  print(f\"Loss: {loss}\")\n",
        "  print(f\"Optimizer: {optimizer}\")\n",
        "  print(f\"Scheduler: {scheduler}\")\n",
        "  print(f\"Max epochs: {max_epochs}\")\n",
        "experiment_summary()"
      ],
      "execution_count": null,
      "outputs": [
        {
          "output_type": "stream",
          "text": [
            "Device: GPU (Tesla P100-PCIE-16GB)\n",
            "Data type: torch.float64\n",
            "Files used: ['DB1.xyz', 'DB2.xyz', 'DB3.xyz', 'DB4.xyz', 'DB5.xyz', 'DB6.xyz', 'DB7.xyz', 'DB8.xyz']\n",
            "Cutoff: 3.5\n",
            "Mean: -3460.825847482401, std: 0.16576383029449515\n",
            "Training ratio: 0.8\n",
            "Batch size: 6\n",
            "Model: \n",
            "    schnet_15giu: SchNet new training should be the same as old one (power something)\n",
            "    SchNetx(hidden_channels=128, num_filters=128, num_interactions=3, num_gaussians=128, cutoff=5.0)\n",
            "Loss: energy\n",
            "Optimizer: AdamW (\n",
            "Parameter Group 0\n",
            "    amsgrad: False\n",
            "    betas: (0.9, 0.999)\n",
            "    eps: 1e-08\n",
            "    lr: 7.8125e-06\n",
            "    weight_decay: 0.01\n",
            ")\n",
            "Scheduler: <torch.optim.lr_scheduler.ReduceLROnPlateau object at 0x7f4c135f2850>\n",
            "Max epochs: 100\n"
          ],
          "name": "stdout"
        }
      ]
    },
    {
      "cell_type": "code",
      "metadata": {
        "colab": {
          "base_uri": "https://localhost:8080/",
          "height": 35
        },
        "id": "XZ6XNdMbVnCW",
        "outputId": "619e24b8-28d3-41a6-c3fc-1e8c55354fc8"
      },
      "source": [
        "torch.cuda.get_device_name(device=DEVICE)"
      ],
      "execution_count": null,
      "outputs": [
        {
          "output_type": "execute_result",
          "data": {
            "application/vnd.google.colaboratory.intrinsic+json": {
              "type": "string"
            },
            "text/plain": [
              "'Tesla P100-PCIE-16GB'"
            ]
          },
          "metadata": {
            "tags": []
          },
          "execution_count": 26
        }
      ]
    },
    {
      "cell_type": "code",
      "metadata": {
        "colab": {
          "base_uri": "https://localhost:8080/"
        },
        "id": "t9bUjNTRVn9-",
        "outputId": "36b6ecb4-4b18-4a54-99f7-ae13c3dac591"
      },
      "source": [
        "#@title  { vertical-output: true, display-mode: \"both\" }\n",
        "from psutil import *\n",
        "print(cpu_count())\n",
        "print(cpu_stats())\n",
        "!cat /proc/cpuinfo\n",
        "!df -h\n",
        "print(virtual_memory())\n"
      ],
      "execution_count": null,
      "outputs": [
        {
          "output_type": "stream",
          "text": [
            "4\n",
            "scpustats(ctx_switches=4792969, interrupts=2965446, soft_interrupts=1709210, syscalls=0)\n",
            "processor\t: 0\n",
            "vendor_id\t: GenuineIntel\n",
            "cpu family\t: 6\n",
            "model\t\t: 63\n",
            "model name\t: Intel(R) Xeon(R) CPU @ 2.30GHz\n",
            "stepping\t: 0\n",
            "microcode\t: 0x1\n",
            "cpu MHz\t\t: 2299.998\n",
            "cache size\t: 46080 KB\n",
            "physical id\t: 0\n",
            "siblings\t: 4\n",
            "core id\t\t: 0\n",
            "cpu cores\t: 2\n",
            "apicid\t\t: 0\n",
            "initial apicid\t: 0\n",
            "fpu\t\t: yes\n",
            "fpu_exception\t: yes\n",
            "cpuid level\t: 13\n",
            "wp\t\t: yes\n",
            "flags\t\t: fpu vme de pse tsc msr pae mce cx8 apic sep mtrr pge mca cmov pat pse36 clflush mmx fxsr sse sse2 ss ht syscall nx pdpe1gb rdtscp lm constant_tsc rep_good nopl xtopology nonstop_tsc cpuid tsc_known_freq pni pclmulqdq ssse3 fma cx16 pcid sse4_1 sse4_2 x2apic movbe popcnt aes xsave avx f16c rdrand hypervisor lahf_lm abm invpcid_single ssbd ibrs ibpb stibp fsgsbase tsc_adjust bmi1 avx2 smep bmi2 erms invpcid xsaveopt arat md_clear arch_capabilities\n",
            "bugs\t\t: cpu_meltdown spectre_v1 spectre_v2 spec_store_bypass l1tf mds swapgs\n",
            "bogomips\t: 4599.99\n",
            "clflush size\t: 64\n",
            "cache_alignment\t: 64\n",
            "address sizes\t: 46 bits physical, 48 bits virtual\n",
            "power management:\n",
            "\n",
            "processor\t: 1\n",
            "vendor_id\t: GenuineIntel\n",
            "cpu family\t: 6\n",
            "model\t\t: 63\n",
            "model name\t: Intel(R) Xeon(R) CPU @ 2.30GHz\n",
            "stepping\t: 0\n",
            "microcode\t: 0x1\n",
            "cpu MHz\t\t: 2299.998\n",
            "cache size\t: 46080 KB\n",
            "physical id\t: 0\n",
            "siblings\t: 4\n",
            "core id\t\t: 1\n",
            "cpu cores\t: 2\n",
            "apicid\t\t: 2\n",
            "initial apicid\t: 2\n",
            "fpu\t\t: yes\n",
            "fpu_exception\t: yes\n",
            "cpuid level\t: 13\n",
            "wp\t\t: yes\n",
            "flags\t\t: fpu vme de pse tsc msr pae mce cx8 apic sep mtrr pge mca cmov pat pse36 clflush mmx fxsr sse sse2 ss ht syscall nx pdpe1gb rdtscp lm constant_tsc rep_good nopl xtopology nonstop_tsc cpuid tsc_known_freq pni pclmulqdq ssse3 fma cx16 pcid sse4_1 sse4_2 x2apic movbe popcnt aes xsave avx f16c rdrand hypervisor lahf_lm abm invpcid_single ssbd ibrs ibpb stibp fsgsbase tsc_adjust bmi1 avx2 smep bmi2 erms invpcid xsaveopt arat md_clear arch_capabilities\n",
            "bugs\t\t: cpu_meltdown spectre_v1 spectre_v2 spec_store_bypass l1tf mds swapgs\n",
            "bogomips\t: 4599.99\n",
            "clflush size\t: 64\n",
            "cache_alignment\t: 64\n",
            "address sizes\t: 46 bits physical, 48 bits virtual\n",
            "power management:\n",
            "\n",
            "processor\t: 2\n",
            "vendor_id\t: GenuineIntel\n",
            "cpu family\t: 6\n",
            "model\t\t: 63\n",
            "model name\t: Intel(R) Xeon(R) CPU @ 2.30GHz\n",
            "stepping\t: 0\n",
            "microcode\t: 0x1\n",
            "cpu MHz\t\t: 2299.998\n",
            "cache size\t: 46080 KB\n",
            "physical id\t: 0\n",
            "siblings\t: 4\n",
            "core id\t\t: 0\n",
            "cpu cores\t: 2\n",
            "apicid\t\t: 1\n",
            "initial apicid\t: 1\n",
            "fpu\t\t: yes\n",
            "fpu_exception\t: yes\n",
            "cpuid level\t: 13\n",
            "wp\t\t: yes\n",
            "flags\t\t: fpu vme de pse tsc msr pae mce cx8 apic sep mtrr pge mca cmov pat pse36 clflush mmx fxsr sse sse2 ss ht syscall nx pdpe1gb rdtscp lm constant_tsc rep_good nopl xtopology nonstop_tsc cpuid tsc_known_freq pni pclmulqdq ssse3 fma cx16 pcid sse4_1 sse4_2 x2apic movbe popcnt aes xsave avx f16c rdrand hypervisor lahf_lm abm invpcid_single ssbd ibrs ibpb stibp fsgsbase tsc_adjust bmi1 avx2 smep bmi2 erms invpcid xsaveopt arat md_clear arch_capabilities\n",
            "bugs\t\t: cpu_meltdown spectre_v1 spectre_v2 spec_store_bypass l1tf mds swapgs\n",
            "bogomips\t: 4599.99\n",
            "clflush size\t: 64\n",
            "cache_alignment\t: 64\n",
            "address sizes\t: 46 bits physical, 48 bits virtual\n",
            "power management:\n",
            "\n",
            "processor\t: 3\n",
            "vendor_id\t: GenuineIntel\n",
            "cpu family\t: 6\n",
            "model\t\t: 63\n",
            "model name\t: Intel(R) Xeon(R) CPU @ 2.30GHz\n",
            "stepping\t: 0\n",
            "microcode\t: 0x1\n",
            "cpu MHz\t\t: 2299.998\n",
            "cache size\t: 46080 KB\n",
            "physical id\t: 0\n",
            "siblings\t: 4\n",
            "core id\t\t: 1\n",
            "cpu cores\t: 2\n",
            "apicid\t\t: 3\n",
            "initial apicid\t: 3\n",
            "fpu\t\t: yes\n",
            "fpu_exception\t: yes\n",
            "cpuid level\t: 13\n",
            "wp\t\t: yes\n",
            "flags\t\t: fpu vme de pse tsc msr pae mce cx8 apic sep mtrr pge mca cmov pat pse36 clflush mmx fxsr sse sse2 ss ht syscall nx pdpe1gb rdtscp lm constant_tsc rep_good nopl xtopology nonstop_tsc cpuid tsc_known_freq pni pclmulqdq ssse3 fma cx16 pcid sse4_1 sse4_2 x2apic movbe popcnt aes xsave avx f16c rdrand hypervisor lahf_lm abm invpcid_single ssbd ibrs ibpb stibp fsgsbase tsc_adjust bmi1 avx2 smep bmi2 erms invpcid xsaveopt arat md_clear arch_capabilities\n",
            "bugs\t\t: cpu_meltdown spectre_v1 spectre_v2 spec_store_bypass l1tf mds swapgs\n",
            "bogomips\t: 4599.99\n",
            "clflush size\t: 64\n",
            "cache_alignment\t: 64\n",
            "address sizes\t: 46 bits physical, 48 bits virtual\n",
            "power management:\n",
            "\n",
            "Filesystem      Size  Used Avail Use% Mounted on\n",
            "overlay         148G   42G  107G  28% /\n",
            "tmpfs            64M     0   64M   0% /dev\n",
            "tmpfs            13G     0   13G   0% /sys/fs/cgroup\n",
            "shm              13G     0   13G   0% /dev/shm\n",
            "tmpfs            13G   28K   13G   1% /var/colab\n",
            "/dev/sda1       154G   47G  108G  31% /opt/bin\n",
            "tmpfs            13G     0   13G   0% /proc/acpi\n",
            "tmpfs            13G     0   13G   0% /proc/scsi\n",
            "tmpfs            13G     0   13G   0% /sys/firmware\n",
            "drive           100G   18G   83G  18% /content/drive\n",
            "svmem(total=27339640832, available=25154240512, percent=8.0, used=2949537792, free=8726405120, active=2121863168, inactive=15694835712, buffers=130949120, cached=15532748800, shared=15351808, slab=549879808)\n"
          ],
          "name": "stdout"
        }
      ]
    },
    {
      "cell_type": "code",
      "metadata": {
        "colab": {
          "base_uri": "https://localhost:8080/"
        },
        "id": "mXMeAu06Vpn1",
        "outputId": "8ee68402-d7e9-4e2a-bd96-942fa6cf9424"
      },
      "source": [
        "train_and_test(model, train_loader, test_loader, optimizer, scheduler, \n",
        "               use_forces=use_forces, energy_coeff=energy_coeff,\n",
        "               epochs=max_epochs, starting_epoch=63, save_every=1,\n",
        "               early_stopping_starting_epoch=40, patience=10,\n",
        "               name=model_name, description=model_description)"
      ],
      "execution_count": null,
      "outputs": [
        {
          "output_type": "stream",
          "text": [
            "\n",
            "Epoch 63 (10:37:27)\n",
            "\n",
            "Energy MAE: train 0.045858823025664394 eV, test 0.053233723264639134 eV\n",
            "Early stopping active\n",
            "MAE has not decreased for 1 epochs, go on without saving the model\n",
            "\n",
            "Epoch 64 (11:06:27)\n",
            "\n",
            "Energy MAE: train 0.04495390461377666 eV, test 0.05251301282843373 eV\n",
            "Early stopping active\n",
            "MAE has not decreased for 2 epochs, go on without saving the model\n",
            "\n",
            "Epoch 65 (11:35:08)\n",
            "\n",
            "Energy MAE: train 0.04436545693558506 eV, test 0.0522424130949465 eV\n",
            "Early stopping active\n",
            "MAE has not decreased for 3 epochs, go on without saving the model\n",
            "\n",
            "Epoch 66 (12:03:49)\n",
            "\n",
            "Energy MAE: train 0.04514432089419587 eV, test 0.05195313950750649 eV\n",
            "Early stopping active\n",
            "MAE has not decreased for 4 epochs, go on without saving the model\n",
            "\n",
            "Epoch 67 (12:32:31)\n",
            "\n",
            "Energy MAE: train 0.0439818107720717 eV, test 0.05208845941706461 eV\n",
            "Early stopping active\n",
            "MAE has not decreased for 5 epochs, go on without saving the model\n",
            "\n",
            "Epoch 68 (13:02:22)\n",
            "\n",
            "Energy MAE: train 0.04345585736712474 eV, test 0.05147601548045418 eV\n",
            "Early stopping active\n",
            "MAE has not decreased for 6 epochs, go on without saving the model\n",
            "\n",
            "Epoch 69 (13:32:05)\n",
            "\n",
            "Energy MAE: train 0.04358974848137993 eV, test 0.05123480500338025 eV\n",
            "Early stopping active\n",
            "MAE has decreased, saving the model\n",
            "Saved schnet_15giu_69\n",
            "Saved best\n",
            "\n",
            "Epoch 70 (14:01:16)\n",
            "\n",
            "Energy MAE: train 0.04377665243389254 eV, test 0.051914804183976135 eV\n",
            "Early stopping active\n",
            "MAE has not decreased for 1 epochs, go on without saving the model\n",
            "\n",
            "Epoch 71 (14:30:11)\n",
            "\n",
            "Energy MAE: train 0.04379067528612691 eV, test 0.0527774268244729 eV\n",
            "Early stopping active\n",
            "MAE has not decreased for 2 epochs, go on without saving the model\n",
            "\n",
            "Epoch 72 (14:59:07)\n",
            "\n",
            "Energy MAE: train 0.04216184535393236 eV, test 0.05043281259224547 eV\n",
            "Early stopping active\n",
            "MAE has decreased, saving the model\n",
            "Saved schnet_15giu_72\n",
            "Saved best\n",
            "\n",
            "Epoch 73 (15:27:55)\n",
            "\n",
            "Energy MAE: train 0.04282601918852724 eV, test 0.05118057386178078 eV\n",
            "Early stopping active\n",
            "MAE has not decreased for 1 epochs, go on without saving the model\n",
            "\n",
            "Epoch 74 (15:56:36)\n",
            "\n",
            "Energy MAE: train 0.04259358353633283 eV, test 0.05045406382735431 eV\n",
            "Early stopping active\n",
            "MAE has not decreased for 2 epochs, go on without saving the model\n",
            "\n",
            "Epoch 75 (16:25:16)\n",
            "\n",
            "Energy MAE: train 0.04215448386318638 eV, test 0.050387195368355724 eV\n",
            "Early stopping active\n",
            "MAE has decreased, saving the model\n",
            "Saved schnet_15giu_75\n",
            "Saved best\n",
            "\n",
            "Epoch 76 (16:53:57)\n",
            "\n",
            "Energy MAE: train 0.04203199686859362 eV, test 0.050292119197947835 eV\n",
            "Early stopping active\n",
            "MAE has decreased, saving the model\n",
            "Saved schnet_15giu_76\n",
            "Saved best\n",
            "\n",
            "Epoch 77 (17:22:49)\n",
            "\n",
            "Energy MAE: train 0.04235352043650351 eV, test 0.050851231959810506 eV\n",
            "Early stopping active\n",
            "MAE has not decreased for 1 epochs, go on without saving the model\n",
            "\n",
            "Epoch 78 (17:51:42)\n",
            "\n",
            "Energy MAE: train 0.04202843893988341 eV, test 0.05046434026593137 eV\n",
            "Early stopping active\n",
            "MAE has not decreased for 2 epochs, go on without saving the model\n",
            "\n",
            "Epoch 79 (18:20:14)\n",
            "\n",
            "Energy MAE: train 0.0416868027969636 eV, test 0.05019723017167482 eV\n",
            "Early stopping active\n",
            "MAE has decreased, saving the model\n",
            "Saved schnet_15giu_79\n",
            "Saved best\n",
            "\n",
            "Epoch 80 (18:48:34)\n",
            "\n",
            "Energy MAE: train 0.041675841864253244 eV, test 0.05020492074399057 eV\n",
            "Early stopping active\n",
            "MAE has not decreased for 1 epochs, go on without saving the model\n",
            "\n",
            "Epoch 81 (19:17:34)\n",
            "\n",
            "Energy MAE: train 0.04165909650350822 eV, test 0.050106031545747436 eV\n",
            "Early stopping active\n",
            "MAE has decreased, saving the model\n",
            "Saved schnet_15giu_81\n",
            "Saved best\n",
            "\n",
            "Epoch 82 (19:46:38)\n",
            "\n",
            "Energy MAE: train 0.04173056764975985 eV, test 0.050342959073943865 eV\n",
            "Early stopping active\n",
            "MAE has not decreased for 1 epochs, go on without saving the model\n",
            "\n",
            "Epoch 83 (20:14:21)\n",
            "\n",
            "Energy MAE: train 0.041616565057852696 eV, test 0.05013462680828106 eV\n",
            "Early stopping active\n",
            "MAE has not decreased for 2 epochs, go on without saving the model\n",
            "\n",
            "Epoch 84 (20:42:08)\n",
            "\n",
            "Energy MAE: train 0.041659252070819996 eV, test 0.05012257938091636 eV\n",
            "Early stopping active\n",
            "MAE has not decreased for 3 epochs, go on without saving the model\n",
            "\n",
            "Epoch 85 (21:09:50)\n",
            "\n",
            "Energy MAE: train 0.041610648062785784 eV, test 0.05020218518787557 eV\n",
            "Early stopping active\n",
            "MAE has not decreased for 4 epochs, go on without saving the model\n",
            "\n",
            "Epoch 86 (21:37:21)\n",
            "\n",
            "Energy MAE: train 0.04169123547140642 eV, test 0.050213791486820675 eV\n",
            "Early stopping active\n",
            "MAE has not decreased for 5 epochs, go on without saving the model\n",
            "\n",
            "Epoch 87 (22:05:05)\n",
            "\n",
            "Energy MAE: train 0.04154983887122233 eV, test 0.050081711482583904 eV\n",
            "Early stopping active\n",
            "MAE has decreased, saving the model\n",
            "Saved schnet_15giu_87\n",
            "Saved best\n",
            "\n",
            "Epoch 88 (22:32:49)\n",
            "\n",
            "Energy MAE: train 0.04155274563589826 eV, test 0.05007833735043234 eV\n",
            "Early stopping active\n",
            "MAE has decreased, saving the model\n",
            "Saved schnet_15giu_88\n",
            "Saved best\n",
            "\n",
            "Epoch 89 (23:00:41)\n",
            "\n",
            "Energy MAE: train 0.04156700799411093 eV, test 0.0500727510178826 eV\n",
            "Early stopping active\n",
            "MAE has decreased, saving the model\n",
            "Saved schnet_15giu_89\n",
            "Saved best\n",
            "\n",
            "Epoch 90 (23:28:48)\n",
            "\n",
            "Energy MAE: train 0.04157585616910452 eV, test 0.05013720968796944 eV\n",
            "Early stopping active\n",
            "MAE has not decreased for 1 epochs, go on without saving the model\n",
            "\n",
            "Epoch 91 (23:56:53)\n",
            "\n",
            "Energy MAE: train 0.04153048466553642 eV, test 0.05008668331468207 eV\n",
            "Early stopping active\n",
            "MAE has not decreased for 2 epochs, go on without saving the model\n",
            "\n",
            "Epoch 92 (00:25:16)\n",
            "\n",
            "Energy MAE: train 0.04152376247792047 eV, test 0.050075930974162845 eV\n",
            "Early stopping active\n",
            "MAE has not decreased for 3 epochs, go on without saving the model\n",
            "\n",
            "Epoch 93 (00:53:48)\n",
            "\n",
            "Energy MAE: train 0.0415196510509671 eV, test 0.05007807123977072 eV\n",
            "Early stopping active\n",
            "MAE has not decreased for 4 epochs, go on without saving the model\n",
            "\n",
            "Epoch 94 (01:22:30)\n",
            "\n",
            "Energy MAE: train 0.04152398700446124 eV, test 0.05008348570853026 eV\n",
            "Early stopping active\n",
            "MAE has not decreased for 5 epochs, go on without saving the model\n",
            "\n",
            "Epoch 95 (01:51:07)\n",
            "\n",
            "Energy MAE: train 0.04152130159266113 eV, test 0.0500615002415474 eV\n",
            "Early stopping active\n",
            "MAE has decreased, saving the model\n",
            "Saved schnet_15giu_95\n",
            "Saved best\n",
            "\n",
            "Epoch 96 (02:19:44)\n",
            "\n",
            "Energy MAE: train 0.04151773291470703 eV, test 0.05007388973182215 eV\n",
            "Early stopping active\n",
            "MAE has not decreased for 1 epochs, go on without saving the model\n",
            "\n",
            "Epoch 97 (02:48:18)\n",
            "\n",
            "Energy MAE: train 0.04151386713011661 eV, test 0.05008138822100531 eV\n",
            "Early stopping active\n",
            "MAE has not decreased for 2 epochs, go on without saving the model\n",
            "\n",
            "Epoch 98 (03:16:52)\n",
            "\n",
            "Energy MAE: train 0.04151035120862381 eV, test 0.05006968247079342 eV\n",
            "Early stopping active\n",
            "MAE has not decreased for 3 epochs, go on without saving the model\n",
            "\n",
            "Epoch 99 (03:45:24)\n",
            "\n",
            "Energy MAE: train 0.0415089464087789 eV, test 0.05006505902014251 eV\n",
            "Early stopping active\n",
            "MAE has not decreased for 4 epochs, go on without saving the model\n"
          ],
          "name": "stdout"
        }
      ]
    }
  ]
}