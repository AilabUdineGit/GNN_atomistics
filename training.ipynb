{
  "nbformat": 4,
  "nbformat_minor": 0,
  "metadata": {
    "accelerator": "GPU",
    "colab": {
      "name": "training.ipynb",
      "provenance": [],
      "collapsed_sections": [
        "IeZyCbkfkuXx",
        "D_aZDovaoq7J",
        "M0TTCoXzowQi",
        "DG8nOP-zpD7X",
        "k3YWso9Tq8A5",
        "VkKkQ4SazNBo",
        "7WPFM0kz2hoF",
        "NiQx-JJotPPz",
        "usAV1Y-Qth72",
        "GZJuNQEk5pTz",
        "BkMyK0xO5uPr",
        "kxKQFWV_toOq",
        "wSXWWjl0qqIf"
      ],
      "toc_visible": true,
      "machine_shape": "hm"
    },
    "kernelspec": {
      "display_name": "Python 3",
      "name": "python3"
    }
  },
  "cells": [
    {
      "cell_type": "markdown",
      "metadata": {
        "id": "LCADQ_Y-5AZ2"
      },
      "source": [
        "*   Make sure you run this using a GPU (On Google Colab: Runtime -> Change Runtime Type -> GPU)"
      ]
    },
    {
      "cell_type": "markdown",
      "metadata": {
        "id": "IeZyCbkfkuXx"
      },
      "source": [
        "# Setup"
      ]
    },
    {
      "cell_type": "code",
      "metadata": {
        "colab": {
          "base_uri": "https://localhost:8080/"
        },
        "id": "mNXgZoCHklOe",
        "outputId": "9eade7e5-0d7f-48a5-82d5-cc7d2bb6c8e1"
      },
      "source": [
        "#@title  { vertical-output: true, display-mode: \"both\" }\n",
        "!pip install -q ase\n",
        "!pip install -q torch==1.8.0\n",
        "!pip install  torch-scatter -f https://pytorch-geometric.com/whl/torch-1.8.0+cu102.html\n",
        "!pip install -q torch-sparse -f https://pytorch-geometric.com/whl/torch-1.8.0+cu102.html\n",
        "!pip install -q torch-cluster -f https://pytorch-geometric.com/whl/torch-1.8.0+cu102.html\n",
        "!pip install -q torch-spline-conv -f https://pytorch-geometric.com/whl/torch-1.8.0+cu102.html\n",
        "!pip install -q git+https://github.com/rusty1s/pytorch_geometric.git@1.7.0"
      ],
      "execution_count": null,
      "outputs": [
        {
          "output_type": "stream",
          "text": [
            "\u001b[K     |████████████████████████████████| 2.2MB 4.1MB/s \n",
            "\u001b[K     |████████████████████████████████| 735.5MB 23kB/s \n",
            "\u001b[31mERROR: torchvision 0.10.0+cu102 has requirement torch==1.9.0, but you'll have torch 1.8.0 which is incompatible.\u001b[0m\n",
            "\u001b[31mERROR: torchtext 0.10.0 has requirement torch==1.9.0, but you'll have torch 1.8.0 which is incompatible.\u001b[0m\n",
            "\u001b[?25hLooking in links: https://pytorch-geometric.com/whl/torch-1.8.0+cu102.html\n",
            "Collecting torch-scatter\n",
            "\u001b[?25l  Downloading https://pytorch-geometric.com/whl/torch-1.8.0%2Bcu102/torch_scatter-2.0.7-cp37-cp37m-linux_x86_64.whl (2.7MB)\n",
            "\u001b[K     |████████████████████████████████| 2.7MB 2.1MB/s \n",
            "\u001b[?25hInstalling collected packages: torch-scatter\n",
            "Successfully installed torch-scatter-2.0.7\n",
            "\u001b[K     |████████████████████████████████| 1.6MB 5.2MB/s \n",
            "\u001b[K     |████████████████████████████████| 1.1MB 3.9MB/s \n",
            "\u001b[K     |████████████████████████████████| 399kB 4.1MB/s \n",
            "\u001b[K     |████████████████████████████████| 235kB 4.1MB/s \n",
            "\u001b[K     |████████████████████████████████| 51kB 9.0MB/s \n",
            "\u001b[?25h  Building wheel for torch-geometric (setup.py) ... \u001b[?25l\u001b[?25hdone\n"
          ],
          "name": "stdout"
        }
      ]
    },
    {
      "cell_type": "code",
      "metadata": {
        "id": "LI7ky8iYk18J"
      },
      "source": [
        "import numpy as np\n",
        "import torch\n",
        "import ase\n",
        "import random\n",
        "from torch_geometric.data import Data, DataLoader\n",
        "from ase.io import read"
      ],
      "execution_count": null,
      "outputs": []
    },
    {
      "cell_type": "code",
      "metadata": {
        "id": "LIT8KZO9rdrG"
      },
      "source": [
        "SEED = 55555\n",
        "\n",
        "np.random.seed(SEED)\n",
        "random.seed(SEED)\n",
        "torch.manual_seed(SEED)\n",
        "if torch.cuda.is_available():\n",
        "    torch.cuda.manual_seed(SEED)\n",
        "    torch.cuda.manual_seed_all(SEED)"
      ],
      "execution_count": null,
      "outputs": []
    },
    {
      "cell_type": "markdown",
      "metadata": {
        "id": "R-9NRhR_rfne"
      },
      "source": [
        "## Set training hyperparameters"
      ]
    },
    {
      "cell_type": "code",
      "metadata": {
        "id": "6Zgbvaqek4Kb"
      },
      "source": [
        "DEVICE = torch.device('cuda' if torch.cuda.is_available() else 'cpu')  # use GPU if available\n",
        "DTYPE = torch.float64  # data type to use for data and model\n",
        "TRAINING_RATIO = 0.8  # percent of the dataset to use for training\n",
        "OPTIMIZER = torch.optim.Adam  \n",
        "BATCH_SIZE = 6"
      ],
      "execution_count": null,
      "outputs": []
    },
    {
      "cell_type": "code",
      "metadata": {
        "colab": {
          "base_uri": "https://localhost:8080/"
        },
        "id": "pjbYYGWrn5Xf",
        "outputId": "3919fdf3-45c0-4121-874a-1ce4b4e58bf7"
      },
      "source": [
        "from google.colab import drive\n",
        "drive.mount('/content/drive')\n",
        "BASE_PATH = '/content/drive/MyDrive/GNN_atomistics/'  # path to the directory where the git repo is stored\n",
        "DATA_PATH = BASE_PATH + 'data/training'\n",
        "MODELS_PATH = BASE_PATH + \"models\""
      ],
      "execution_count": null,
      "outputs": [
        {
          "output_type": "stream",
          "text": [
            "Mounted at /content/drive\n"
          ],
          "name": "stdout"
        }
      ]
    },
    {
      "cell_type": "markdown",
      "metadata": {
        "id": "D_aZDovaoq7J"
      },
      "source": [
        "# Load data"
      ]
    },
    {
      "cell_type": "markdown",
      "metadata": {
        "id": "M0TTCoXzowQi"
      },
      "source": [
        "## Function definitions"
      ]
    },
    {
      "cell_type": "code",
      "metadata": {
        "id": "dum8n-V9oyw_"
      },
      "source": [
        "M = {}\n",
        "def extend_atoms(atoms, source, target):\n",
        "  global M\n",
        "  if source not in M.keys():\n",
        "    M[source] = {}\n",
        "  if target not in M[source].keys():\n",
        "    M[source][target] = ase.build.find_optimal_cell_shape(atoms.get_cell(), target, \"sc\") \n",
        "  supercell = ase.build.make_supercell(atoms, M[source][target])\n",
        "  supercell.info[\"energy\"] = atoms.info[\"energy\"] * int(target / source)\n",
        "  return supercell"
      ],
      "execution_count": null,
      "outputs": []
    },
    {
      "cell_type": "code",
      "metadata": {
        "id": "gJNeHV88o0TT"
      },
      "source": [
        "def data_object(atoms: ase.Atoms):\n",
        "\n",
        "  n = atoms.get_global_number_of_atoms()\n",
        "  if n == 1:\n",
        "    atoms = extend_atoms(atoms, 1, 54)\n",
        "    n = atoms.get_global_number_of_atoms()\n",
        "\n",
        "  cell = torch.tensor(atoms.cell, dtype=DTYPE, device=DEVICE)\n",
        "  x = torch.tensor(atoms.get_positions(), dtype=DTYPE, device=DEVICE)\n",
        "  z = torch.tensor(atoms.get_array(\"numbers\", copy=True), dtype=torch.long, device=DEVICE)\n",
        "  y = torch.tensor(atoms.info[\"energy\"], dtype=DTYPE, device=DEVICE)\n",
        "  f = torch.tensor(atoms.get_array(\"force\", copy=True), dtype=DTYPE, device=DEVICE)\n",
        "\n",
        "  return Data(z=z, x=x, cell=cell, y=y, f=f, n=n)"
      ],
      "execution_count": null,
      "outputs": []
    },
    {
      "cell_type": "markdown",
      "metadata": {
        "id": "DG8nOP-zpD7X"
      },
      "source": [
        "## Load data"
      ]
    },
    {
      "cell_type": "code",
      "metadata": {
        "colab": {
          "base_uri": "https://localhost:8080/"
        },
        "id": "vthGS5zlph73",
        "outputId": "a112a964-3626-4ad7-d5a4-2628bbed197a"
      },
      "source": [
        "data = []\n",
        "file_names = [f\"DB{i}.xyz\" for i in range(1,9)]\n",
        "# file_names = [\"DB1_100.xyz\"]  # only 100 samples from DB1; for debugging\n",
        "file_paths = [f\"{DATA_PATH}/{f}\" for f in file_names]\n",
        "for f in file_paths:\n",
        "  db = read(f, index=\":\")\n",
        "  data += list(map(data_object, db))\n",
        "print(len(data))"
      ],
      "execution_count": null,
      "outputs": [
        {
          "output_type": "stream",
          "text": [
            "12171\n"
          ],
          "name": "stdout"
        }
      ]
    },
    {
      "cell_type": "code",
      "metadata": {
        "colab": {
          "base_uri": "https://localhost:8080/"
        },
        "id": "EQKv6hfir4Ji",
        "outputId": "4dd6e73d-352a-401d-d3f7-7bb3c69161de"
      },
      "source": [
        "y_atom = torch.tensor([d.y / d.n for d in data], dtype=DTYPE)\n",
        "y_atom_mean = y_atom.mean().item()\n",
        "y_atom_std = y_atom.std().item()\n",
        "print(y_atom_mean, y_atom_std)"
      ],
      "execution_count": null,
      "outputs": [
        {
          "output_type": "stream",
          "text": [
            "-3460.825847482401 0.16576383029449515\n"
          ],
          "name": "stdout"
        }
      ]
    },
    {
      "cell_type": "code",
      "metadata": {
        "id": "w7LU3_vTr48m"
      },
      "source": [
        "random.shuffle(data)\n",
        "train_amount = int(len(data) * TRAINING_RATIO)\n",
        "train_data = data[:train_amount]\n",
        "test_data = data[train_amount:]\n",
        "train_loader = DataLoader(train_data, batch_size=BATCH_SIZE, shuffle=True)\n",
        "test_loader = DataLoader(test_data, batch_size=BATCH_SIZE, shuffle=False)"
      ],
      "execution_count": null,
      "outputs": []
    },
    {
      "cell_type": "markdown",
      "metadata": {
        "id": "k3YWso9Tq8A5"
      },
      "source": [
        "# Model definitions"
      ]
    },
    {
      "cell_type": "code",
      "metadata": {
        "id": "t_hEDx3_47YY"
      },
      "source": [
        "from ase import Atoms\n",
        "from ase.neighborlist import neighbor_list \n",
        "\n",
        "def pbc_edges(cutoff, z, x, cell, batch, compute_sc=False):\n",
        "\n",
        "  NH1 = torch.tensor([], dtype=torch.long, device=DEVICE)\n",
        "  NH2 = torch.tensor([], dtype=torch.long, device=DEVICE)\n",
        "  S = torch.tensor([], dtype=torch.long, device=DEVICE)\n",
        "  D = torch.tensor([], dtype=DTYPE, device=DEVICE)\n",
        "  SC = torch.tensor([], dtype=DTYPE, device=DEVICE) if compute_sc else None\n",
        "  x_ = torch.clone(x).detach().cpu().numpy()\n",
        "\n",
        "  if batch is not None:\n",
        "    # count number of elements per batch\n",
        "    batch_ids = list(set(batch.cpu().tolist()))\n",
        "    batch_sizes = [ (batch == id).sum().item() for id in batch_ids ]\n",
        "\n",
        "    for i in range(len(batch_sizes)):\n",
        "      offset = sum(batch_sizes[:i]) # to obtain correct atom indices\n",
        "      \n",
        "      atoms = Atoms(charges = (z[offset:offset + batch_sizes[i]]).cpu(), \n",
        "        positions = x_[offset:offset + batch_sizes[i]], \n",
        "        cell = (cell[3*i:3*(i+1)]).cpu(),\n",
        "        pbc = True\n",
        "      ) \n",
        "      \n",
        "      nh1, nh2, s = neighbor_list(\"ijS\", atoms, cutoff, self_interaction=False) \n",
        "      nh1 = torch.tensor(nh1, dtype=torch.long, device=DEVICE)\n",
        "      nh2 = torch.tensor(nh2, dtype=torch.long, device=DEVICE)\n",
        "      nh1 = nh1 + offset\n",
        "      nh2 = nh2 + offset\n",
        "      s = torch.tensor(s, dtype=DTYPE, device=DEVICE)\n",
        "      d = x[nh2] - x[nh1] + torch.matmul(s, cell[3*i:3*(i+1)])\n",
        "      \n",
        "      if compute_sc:\n",
        "        cell_flat = torch.flatten(cell[3*i:3*(i+1)])\n",
        "        sc = torch.tile(cell_flat, (len(d), 1))\n",
        "        sc[:, 0:3] = (sc[:, 0:3].T * s[:, 0]).T\n",
        "        sc[:, 3:6] = (sc[:, 3:6].T * s[:, 1]).T\n",
        "        sc[:, 6:9] = (sc[:, 6:9].T * s[:, 2]).T\n",
        "        SC = torch.cat((SC, sc), 0)      \n",
        "\n",
        "      NH1 = torch.cat((NH1, nh1), 0)\n",
        "      NH2 = torch.cat((NH2, nh2), 0)\n",
        "      S = torch.cat((S, s), 0)\n",
        "      D = torch.cat((D, d), 0)\n",
        "\n",
        "  else: # no batch\n",
        "    atoms = Atoms(charges = z.cpu(), positions = x.cpu(), cell = cell.cpu(), pbc = True)\n",
        "    nh1, nh2, s = neighbor_list(\"ijS\", atoms, cutoff, self_interaction=False)\n",
        "    nh1 = torch.tensor(nh1, dtype=torch.long, device=DEVICE)\n",
        "    nh2 = torch.tensor(nh2, dtype=torch.long, device=DEVICE)\n",
        "    s = torch.tensor(s, dtype=DTYPE, device=DEVICE)\n",
        "    d = x[nh2] - x[nh1] + torch.matmul(s, cell)\n",
        "    \n",
        "    if compute_sc:\n",
        "      cell_flat = torch.flatten(cell)\n",
        "      sc = torch.tile(cell_flat, (len(d), 1))\n",
        "      sc[:, 0:3] = (sc[:, 0:3].T * s[:, 0]).T\n",
        "      sc[:, 3:6] = (sc[:, 3:6].T * s[:, 1]).T\n",
        "      sc[:, 6:9] = (sc[:, 6:9].T * s[:, 2]).T  \n",
        "      SC = sc\n",
        "\n",
        "    NH1, NH2, S, D = nh1, nh2, s, d\n",
        "\n",
        "  D = D.norm(dim=-1)\n",
        "  return  NH1, NH2, D, S, SC "
      ],
      "execution_count": null,
      "outputs": []
    },
    {
      "cell_type": "markdown",
      "metadata": {
        "id": "VkKkQ4SazNBo"
      },
      "source": [
        "## Schnet"
      ]
    },
    {
      "cell_type": "code",
      "metadata": {
        "id": "dV6g0S5g8JOR"
      },
      "source": [
        "import os\n",
        "import warnings\n",
        "import os.path as ospa\n",
        "from math import pi as PI\n",
        "import torch.nn.functional as F\n",
        "from torch.nn import Embedding, Sequential, Linear, ModuleList\n",
        "from torch_scatter import scatter\n",
        "from torch_geometric.data.makedirs import makedirs\n",
        "from torch_geometric.data import download_url, extract_zip\n",
        "from torch_geometric.nn import radius_graph, MessagePassing\n",
        "\n",
        "class SchNet2(torch.nn.Module):\n",
        "\n",
        "    def __init__(self, hidden_channels=128, num_filters=128,\n",
        "                 num_interactions=6, num_gaussians=50, cutoff=10.0,\n",
        "                 readout='add', dipole=False, mean=None, std=None,\n",
        "                 atomref=None):\n",
        "        super(SchNetx, self).__init__()\n",
        "\n",
        "        assert readout in ['add', 'sum', 'mean']\n",
        "\n",
        "        self.hidden_channels = hidden_channels\n",
        "        self.num_filters = num_filters\n",
        "        self.num_interactions = num_interactions\n",
        "        self.num_gaussians = num_gaussians\n",
        "        self.cutoff = cutoff\n",
        "        self.readout = readout\n",
        "        self.dipole = dipole\n",
        "        self.readout = 'add' if self.dipole else self.readout\n",
        "        self.mean = mean\n",
        "        self.std = std\n",
        "        self.scale = None\n",
        "\n",
        "        atomic_mass = torch.from_numpy(ase.data.atomic_masses)\n",
        "        self.register_buffer('atomic_mass', atomic_mass)\n",
        "\n",
        "        self.embedding = Embedding(100, hidden_channels)\n",
        "        self.distance_expansion = GaussianSmearing(0.0, cutoff, num_gaussians)\n",
        "\n",
        "        self.interactions = ModuleList()\n",
        "        for _ in range(num_interactions):\n",
        "            block = InteractionBlock(hidden_channels, num_gaussians,\n",
        "                                     num_filters, cutoff)\n",
        "            self.interactions.append(block)\n",
        "\n",
        "        self.lin1 = Linear(hidden_channels, hidden_channels // 2)\n",
        "        self.act = ShiftedSoftplus()\n",
        "        self.lin2 = Linear(hidden_channels // 2, 1)\n",
        "\n",
        "        self.register_buffer('initial_atomref', atomref)\n",
        "        self.atomref = None\n",
        "        if atomref is not None:\n",
        "            self.atomref = Embedding(100, 1)\n",
        "            self.atomref.weight.data.copy_(atomref)\n",
        "        \n",
        "        self.reset_parameters()\n",
        "\n",
        "    def reset_parameters(self):\n",
        "        self.embedding.reset_parameters()\n",
        "        for interaction in self.interactions:\n",
        "            interaction.reset_parameters()\n",
        "        torch.nn.init.xavier_uniform_(self.lin1.weight)\n",
        "        self.lin1.bias.data.fill_(0)\n",
        "        torch.nn.init.xavier_uniform_(self.lin2.weight)\n",
        "        self.lin2.bias.data.fill_(0)\n",
        "        if self.atomref is not None:\n",
        "            self.atomref.weight.data.copy_(self.initial_atomref)\n",
        "\n",
        "    def forward(self, z, x, cell=None, batch=None):\n",
        "        assert z.dim() == 1 and z.dtype == torch.long\n",
        "        batch = torch.zeros_like(z) if batch is None else batch\n",
        "\n",
        "        h = self.embedding(z)\n",
        "\n",
        "        if cell != None:\n",
        "          row, col, edge_weight, shift, _ = pbc_edges(self.cutoff, z, x, cell, batch, compute_sc=False)\n",
        "          edge_index = torch.stack((row, col))\n",
        "        else:\n",
        "          edge_index = radius_graph(x, r=self.cutoff, batch=batch)\n",
        "          row, col = edge_index\n",
        "          edge_weight = (x[row] - x[col]).norm(dim=-1)\n",
        "        \n",
        "        edge_attr = self.distance_expansion(edge_weight)\n",
        "\n",
        "        for interaction in self.interactions:\n",
        "            h = h + interaction(h, edge_index, edge_weight, edge_attr)\n",
        "\n",
        "        h = self.lin1(h)\n",
        "        h = self.act(h)\n",
        "        h = self.lin2(h)\n",
        "\n",
        "        if self.dipole:\n",
        "            mass = self.atomic_mass[z].view(-1, 1)\n",
        "            c = scatter(mass * x, batch, dim=0) / scatter(mass, batch, dim=0)\n",
        "            h = h * (pos - c[batch])\n",
        "\n",
        "        if not self.dipole and self.mean is not None and self.std is not None:\n",
        "            h = h * self.std + self.mean\n",
        "\n",
        "        if not self.dipole and self.atomref is not None:\n",
        "            h = h + self.atomref(z)\n",
        "\n",
        "        out = scatter(h, batch, dim=0, reduce=self.readout)\n",
        "        \n",
        "        if self.dipole:\n",
        "            out = torch.norm(out, dim=-1, keepdim=True)\n",
        "\n",
        "        if self.scale is not None:\n",
        "            out = self.scale * out\n",
        "\n",
        "        return out\n",
        "\n",
        "\n",
        "    def __repr__(self):\n",
        "        return (f'{self.__class__.__name__}('\n",
        "                f'hidden_channels={self.hidden_channels}, '\n",
        "                f'num_filters={self.num_filters}, '\n",
        "                f'num_interactions={self.num_interactions}, '\n",
        "                f'num_gaussians={self.num_gaussians}, '\n",
        "                f'cutoff={self.cutoff})')\n",
        "\n",
        "\n",
        "\n",
        "class InteractionBlock(torch.nn.Module):\n",
        "    def __init__(self, hidden_channels, num_gaussians, num_filters, cutoff):\n",
        "        super(InteractionBlock, self).__init__()\n",
        "        self.mlp = Sequential(\n",
        "            Linear(num_gaussians, num_filters),\n",
        "            ShiftedSoftplus(),\n",
        "            Linear(num_filters, num_filters),\n",
        "        )\n",
        "        self.conv = CFConv(hidden_channels, hidden_channels, num_filters,\n",
        "                           self.mlp, cutoff)\n",
        "        self.act = ShiftedSoftplus()\n",
        "        self.lin = Linear(hidden_channels, hidden_channels)\n",
        "\n",
        "        self.reset_parameters()\n",
        "\n",
        "    def reset_parameters(self):\n",
        "        torch.nn.init.xavier_uniform_(self.mlp[0].weight)\n",
        "        self.mlp[0].bias.data.fill_(0)\n",
        "        torch.nn.init.xavier_uniform_(self.mlp[2].weight)\n",
        "        self.mlp[0].bias.data.fill_(0)\n",
        "        self.conv.reset_parameters()\n",
        "        torch.nn.init.xavier_uniform_(self.lin.weight)\n",
        "        self.lin.bias.data.fill_(0)\n",
        "\n",
        "    def forward(self, x, edge_index, edge_weight, edge_attr):\n",
        "        x = self.conv(x, edge_index, edge_weight, edge_attr)\n",
        "        x = self.act(x)\n",
        "        x = self.lin(x)\n",
        "        return x\n",
        "\n",
        "\n",
        "class CFConv(MessagePassing):\n",
        "    def __init__(self, in_channels, out_channels, num_filters, nn, cutoff):\n",
        "        super(CFConv, self).__init__(aggr='add')\n",
        "        self.lin1 = Linear(in_channels, num_filters, bias=False)\n",
        "        self.lin2 = Linear(num_filters, out_channels)\n",
        "        self.nn = nn\n",
        "        self.cutoff = cutoff\n",
        "\n",
        "        self.reset_parameters()\n",
        "\n",
        "    def reset_parameters(self):\n",
        "        torch.nn.init.xavier_uniform_(self.lin1.weight)\n",
        "        torch.nn.init.xavier_uniform_(self.lin2.weight)\n",
        "        self.lin2.bias.data.fill_(0)\n",
        "\n",
        "    def forward(self, x, edge_index, edge_weight, edge_attr):\n",
        "        C = 0.5 * (torch.cos(edge_weight * PI / self.cutoff) + 1.0)\n",
        "        W = self.nn(edge_attr) * C.view(-1, 1)\n",
        "\n",
        "        x = self.lin1(x)\n",
        "        x = self.propagate(edge_index, x=x, W=W)\n",
        "        x = self.lin2(x)\n",
        "        return x\n",
        "\n",
        "    def message(self, x_j, W):\n",
        "        return x_j * W\n",
        "\n",
        "\n",
        "class GaussianSmearing(torch.nn.Module):\n",
        "    def __init__(self, start=0.0, stop=5.0, num_gaussians=50):\n",
        "        super(GaussianSmearing, self).__init__()\n",
        "        offset = torch.linspace(start, stop, num_gaussians)\n",
        "        self.coeff = (-0.5 / (offset[1] - offset[0]).item()**2)\n",
        "        self.register_buffer('offset', offset)\n",
        "\n",
        "    def forward(self, dist):\n",
        "        dist = dist.view(-1, 1) - self.offset.view(1, -1)\n",
        "        res = torch.exp(self.coeff * torch.pow(dist, 2))\n",
        "        return res\n",
        "\n",
        "class ShiftedSoftplus(torch.nn.Module):\n",
        "    def __init__(self):\n",
        "        super(ShiftedSoftplus, self).__init__()\n",
        "        self.shift = torch.log(torch.tensor(2.0)).item()\n",
        "\n",
        "    def forward(self, x):\n",
        "        return F.softplus(x) - self.shift"
      ],
      "execution_count": null,
      "outputs": []
    },
    {
      "cell_type": "markdown",
      "metadata": {
        "id": "7WPFM0kz2hoF"
      },
      "source": [
        "## Dimenet"
      ]
    },
    {
      "cell_type": "code",
      "metadata": {
        "id": "Bqkjj8bV2zHS"
      },
      "source": [
        "#@title  { vertical-output: true, form-width: \"25%\" }\n",
        "from torch_geometric.nn import DimeNet\n",
        "from torch_geometric.nn.acts import swish\n",
        "from math import sqrt, pi as PI\n",
        "\n",
        "import numpy as np\n",
        "import torch\n",
        "from torch.nn import Linear, Embedding\n",
        "from torch_scatter import scatter\n",
        "from torch_sparse import SparseTensor\n",
        "from torch_geometric.nn import radius_graph\n",
        "from torch_geometric.data import download_url\n",
        "from torch_geometric.data.makedirs import makedirs\n",
        "\n",
        "from torch_geometric.nn.models.dimenet import Envelope\n",
        "from torch_geometric.nn.models.dimenet import BesselBasisLayer\n",
        "from torch_geometric.nn.models.dimenet import SphericalBasisLayer\n",
        "from torch_geometric.nn.models.dimenet import ResidualLayer\n",
        "from torch_geometric.nn.models.dimenet import InteractionBlock\n",
        "from torch_geometric.nn.models.dimenet import OutputBlock\n",
        "\n",
        "from torch_geometric.nn.models.dimenet_utils import bessel_basis, real_sph_harm\n",
        "import ase\n",
        "from ase.neighborlist import neighbor_list \n",
        "from ase import Atoms\n",
        "\n",
        "from torch_geometric.data import DataLoader\n",
        "\n",
        "try:\n",
        "    import sympy as sym\n",
        "except ImportError:\n",
        "    sym = None\n",
        "\n",
        "import os\n",
        "try:\n",
        "    os.environ['TF_CPP_MIN_LOG_LEVEL'] = '3'\n",
        "    import tensorflow as tf\n",
        "except ImportError:\n",
        "    tf = None\n",
        "\n",
        "class EmbeddingBlock(torch.nn.Module):\n",
        "  def __init__(self, num_radial, hidden_channels, act=swish):\n",
        "    super(EmbeddingBlock, self).__init__()\n",
        "    self.act = act\n",
        "\n",
        "    self.emb = Embedding(95, hidden_channels)\n",
        "    self.lin_rbf = Linear(num_radial, hidden_channels, bias=False)\n",
        "    self.lin = Linear(3 * hidden_channels, hidden_channels)\n",
        "\n",
        "    self.reset_parameters()\n",
        "\n",
        "  def reset_parameters(self):\n",
        "    self.emb.weight.data.uniform_(-sqrt(3), sqrt(3))\n",
        "    self.lin_rbf.reset_parameters()\n",
        "    self.lin.reset_parameters()\n",
        "\n",
        "  def forward(self, x, rbf, i, j):\n",
        "    x = self.emb(x)\n",
        "    #rbf = self.act(self.lin_rbf(rbf)) # FIX: this should not have an activation function\n",
        "    rbf = self.lin_rbf(rbf)\n",
        "    return self.act(self.lin(torch.cat([x[i], x[j], rbf], dim=-1)))\n",
        "\n",
        "\n",
        "\n",
        "class DimeNet2(torch.nn.Module):\n",
        "  \n",
        "  def __init__(self, hidden_channels, out_channels, num_blocks, num_bilinear,\n",
        "                 num_spherical, num_radial, cutoff=5.0, envelope_exponent=5,\n",
        "                 num_before_skip=1, num_after_skip=2, num_output_layers=3,\n",
        "                 act=swish, mean=None, std=None):\n",
        "    super(DimeNetx, self).__init__()\n",
        "\n",
        "    self.cutoff = cutoff\n",
        "\n",
        "    #set mean and standard deviation of energies\n",
        "    self.mean = mean \n",
        "    self.std = std\n",
        "\n",
        "    # padding used for PBCs\n",
        "    self.padding = torch.nn.ConstantPad2d((0,6,0,0), 0)\n",
        "\n",
        "    if sym is None:\n",
        "        raise ImportError('Package `sympy` could not be found.')\n",
        "\n",
        "    self.num_blocks = num_blocks\n",
        "\n",
        "    self.rbf = BesselBasisLayer(num_radial, cutoff, envelope_exponent)\n",
        "    self.sbf = SphericalBasisLayer(num_spherical, num_radial, cutoff,\n",
        "                                    envelope_exponent)\n",
        "\n",
        "    self.emb = EmbeddingBlock(num_radial, hidden_channels, act)\n",
        "\n",
        "    self.output_blocks = torch.nn.ModuleList([\n",
        "        OutputBlock(num_radial, hidden_channels, out_channels,\n",
        "                    num_output_layers, act) for _ in range(num_blocks + 1)\n",
        "    ])\n",
        "\n",
        "    self.interaction_blocks = torch.nn.ModuleList([\n",
        "        InteractionBlock(hidden_channels, num_bilinear, num_spherical,\n",
        "                          num_radial, num_before_skip, num_after_skip, act)\n",
        "        for _ in range(num_blocks)\n",
        "    ])\n",
        "\n",
        "    self.reset_parameters()\n",
        "\n",
        "  def reset_parameters(self):\n",
        "    self.rbf.reset_parameters()\n",
        "    self.emb.reset_parameters()\n",
        "    for out in self.output_blocks:\n",
        "      out.reset_parameters()\n",
        "    for interaction in self.interaction_blocks:\n",
        "      interaction.reset_parameters()\n",
        "\n",
        "  def triplets_original(self, edge_index, num_nodes):\n",
        "    row, col = edge_index  # j->i\n",
        "\n",
        "    value = torch.arange(row.size(0), device=row.device)\n",
        "    adj_t = SparseTensor(row=col, col=row, value=value,\n",
        "                         sparse_sizes=(num_nodes, num_nodes))\n",
        "    adj_t_row = adj_t[row]\n",
        "    num_triplets = adj_t_row.set_value(None).sum(dim=1).to(torch.long)\n",
        "\n",
        "    # Node indices (k->j->i) for triplets.\n",
        "    idx_i = col.repeat_interleave(num_triplets)\n",
        "    idx_j = row.repeat_interleave(num_triplets)\n",
        "    idx_k = adj_t_row.storage.col()\n",
        "    mask = (idx_i != idx_k)  # Remove i == k triplets.\n",
        "    idx_i, idx_j, idx_k = idx_i[mask], idx_j[mask], idx_k[mask]\n",
        "\n",
        "    # Edge indices (k-j, j->i) for triplets.\n",
        "    idx_kj = adj_t_row.storage.value()[mask]\n",
        "    idx_ji = adj_t_row.storage.row()[mask]\n",
        "\n",
        "    return col, row, idx_i, idx_j, idx_k, idx_kj, idx_ji\n",
        "\n",
        "\n",
        "  def triplets(self, edge_index, num_nodes, shift_cells=None, shift=None):\n",
        "    row, col = edge_index  # j->i\n",
        "\n",
        "    value = torch.arange(row.size(0), device=row.device)\n",
        "    adj_t = SparseTensor(row=col, col=row, value=value,\n",
        "                         sparse_sizes=(num_nodes, num_nodes))\n",
        "    adj_t_row = adj_t[row]\n",
        "    num_triplets = adj_t_row.set_value(None).sum(dim=1).to(torch.long)\n",
        "\n",
        "    idx_i = col.repeat_interleave(num_triplets)\n",
        "    idx_j = row.repeat_interleave(num_triplets)\n",
        "    idx_k = adj_t_row.storage.col()\n",
        "\n",
        "    if shift_cells is not None: # Update also the shift vectors\n",
        "      shift_cells_i = shift_cells.repeat_interleave(num_triplets, dim=0)\n",
        "      shift_i = shift.repeat_interleave(num_triplets, dim=0)\n",
        "      shift_cells_k = -shift_cells[adj_t_row.storage.value()]\n",
        "      shift_k = -shift[adj_t_row.storage.value()]\n",
        "\n",
        "    mask = torch.all((torch.cat((torch.unsqueeze(idx_i, 1), shift_i), dim=1) ==\\\n",
        "                      torch.cat((torch.unsqueeze(idx_k, 1), shift_k), dim=1)), dim=1)\n",
        "\n",
        "    idx_i, idx_j, idx_k = idx_i[~mask], idx_j[~mask], idx_k[~mask]\n",
        "    if shift_cells is not None: # Remove also from the shift vector\n",
        "      shift_cells_i = shift_cells_i[~mask]\n",
        "      shift_cells_k = shift_cells_k[~mask]\n",
        "      shift_i = shift_i[~mask]\n",
        "      shift_k = shift_k[~mask]\n",
        "\n",
        "    idx_kj = adj_t_row.storage.value()[~mask]\n",
        "    idx_ji = adj_t_row.storage.row()[~mask]\n",
        "\n",
        "    return col, row, idx_i, idx_j, idx_k, idx_kj, idx_ji, shift_cells_i, shift_i, shift_cells_k, shift_k\n",
        "\n",
        "\n",
        "  def forward(self, z, pos, cell=None, batch=None):\n",
        "\n",
        "    edge_index = []\n",
        "    dist = []\n",
        "    shift_cells = None      \n",
        "    \n",
        "    edge_index = radius_graph(pos, r=self.cutoff, batch=batch)\n",
        "    i, j, idx_i, idx_j, idx_k, idx_kj, idx_ji = self.triplets_original(\n",
        "      edge_index, num_nodes=z.size(0))        \n",
        "    dist = (pos[i] - pos[j]).pow(2).sum(dim=-1).sqrt()\n",
        "\n",
        "    # Define atoms position \n",
        "    pos_i = pos[idx_i]\n",
        "    pos_j = pos[idx_j]\n",
        "    pos_k = pos[idx_k]\n",
        "\n",
        "    # Calculate angles - with some Fixes to indexes compared to the orig. version\n",
        "    pos_ji, pos_kj = pos_j - pos_i, pos_k - pos_j\n",
        "    a = (pos_ji * pos_kj).sum(dim=-1)\n",
        "    b = torch.cross(pos_ji, pos_kj)\n",
        "    b = torch.linalg.norm(b + 1e-16, dim=-1)\n",
        "    angle = torch.atan2(b, a)      \n",
        "\n",
        "    rbf = self.rbf(dist)\n",
        "    sbf = self.sbf(dist, angle, idx_kj)\n",
        "\n",
        "    # Embedding block.\n",
        "    x = self.emb(z, rbf, i, j)\n",
        "    P = self.output_blocks[0](x, rbf, i, num_nodes=pos.size(0))\n",
        "\n",
        "    # Interaction blocks.\n",
        "    for interaction_block, output_block in zip(self.interaction_blocks,\n",
        "                                               self.output_blocks[1:]):\n",
        "      x = interaction_block(x, rbf, sbf, idx_kj, idx_ji)\n",
        "      a = output_block(x, rbf, i, num_nodes=pos.size(0))\n",
        "      P += a\n",
        "\n",
        "    # Energy de-standardization\n",
        "    if self.std is not None and self.mean is not None:\n",
        "      P = P * self.std + self.mean\n",
        "    \n",
        "    \n",
        "    return P, (P.sum(dim=0) if batch is None else scatter(P, batch, dim=0))"
      ],
      "execution_count": null,
      "outputs": []
    },
    {
      "cell_type": "markdown",
      "metadata": {
        "id": "DQvcjWezqZof"
      },
      "source": [
        "# Training"
      ]
    },
    {
      "cell_type": "markdown",
      "metadata": {
        "id": "NiQx-JJotPPz"
      },
      "source": [
        "## Function definitions\n"
      ]
    },
    {
      "cell_type": "code",
      "metadata": {
        "id": "YvEPZD8Aqb_m"
      },
      "source": [
        "def energy_loss(data, p_energies):\n",
        "  energies_loss = torch.mean(torch.abs(data.y - p_energies))\n",
        "  return energies_loss"
      ],
      "execution_count": null,
      "outputs": []
    },
    {
      "cell_type": "code",
      "metadata": {
        "id": "8Qub6vw-qeg1"
      },
      "source": [
        "def energy_forces_loss(data, p_energies, p_forces, energy_coeff):\n",
        "  energies_loss = torch.mean(torch.abs(data.y - p_energies))\n",
        "  forces_loss = torch.mean(torch.abs(data.f - p_forces))\n",
        "  total_loss = (energy_coeff)*energies_loss + (1-energy_coeff)*forces_loss\n",
        "  return total_loss, energies_loss, forces_loss"
      ],
      "execution_count": null,
      "outputs": []
    },
    {
      "cell_type": "code",
      "metadata": {
        "id": "4HH1gE7FqgdD"
      },
      "source": [
        "def train(model, loader, optimizer, use_forces=False, energy_coeff=None):\n",
        "  if not use_forces:\n",
        "    train_energy(model, loader, optimizer)\n",
        "  else:\n",
        "    train_energy_forces(model, loader, optimizer, energy_coeff)"
      ],
      "execution_count": null,
      "outputs": []
    },
    {
      "cell_type": "code",
      "metadata": {
        "id": "kpdD5Z3YqiTg"
      },
      "source": [
        "def train_energy(model, loader, optimizer):\n",
        "  model.train()\n",
        "  for data in loader:\n",
        "    optimizer.zero_grad()\n",
        "\n",
        "    e = model(data.z, data.x, data.cell, data.batch)\n",
        "    e = e.squeeze(1) \n",
        "    e_loss = energy_loss(data, e)\n",
        "\n",
        "    e_loss.backward()\n",
        "    optimizer.step()"
      ],
      "execution_count": null,
      "outputs": []
    },
    {
      "cell_type": "code",
      "metadata": {
        "id": "zz9tRBdaql23"
      },
      "source": [
        "def train_energy_forces(model, loader, optimizer, energy_coeff):\n",
        "  model.train()\n",
        "  total_e_loss = 0\n",
        "  total_f_loss = 0\n",
        "  total_ef_loss = 0\n",
        "\n",
        "  for data in loader:\n",
        "    data.x.requires_grad = True \n",
        "    optimizer.zero_grad()\n",
        "    \n",
        "    e = model(data.z, data.x, data.cell, data.batch)\n",
        "    f = -1 * torch.autograd.grad(e, data.x, grad_outputs=torch.ones_like(e), create_graph=True, retain_graph=True)[0]\n",
        "    e = e.squeeze(1) \n",
        "    \n",
        "    ef_loss, e_loss, f_loss = energy_forces_loss(data, e, f, energy_coeff)\n",
        "    with torch.no_grad():\n",
        "      total_e_loss += e_loss.item()\n",
        "      total_f_loss += f_loss.item()\n",
        "      total_ef_loss += ef_loss.item()\n",
        "\n",
        "    ef_loss.backward()\n",
        "    optimizer.step()\n",
        "\n",
        "  print(\"Total training loss\\t ef: {}, e: {}, f: {}\".format(total_ef_loss, total_e_loss, total_f_loss))"
      ],
      "execution_count": null,
      "outputs": []
    },
    {
      "cell_type": "code",
      "metadata": {
        "id": "jOYz8Q0UtWIN"
      },
      "source": [
        "def test(model, train_loader, test_loader):\n",
        "  model.eval()\n",
        "\n",
        "  with torch.no_grad():\n",
        "    train_errs = torch.tensor([], dtype=DTYPE)\n",
        "    test_errs = torch.tensor([], dtype=DTYPE)\n",
        "  \n",
        "    for data in train_loader:  # Iterate in batches over the training/test dataset.\n",
        "      e = model(data.z, data.x, data.cell, data.batch)\n",
        "      e = e.squeeze(1)\n",
        "      errs = torch.abs(e.view(-1).cpu() - data.y.cpu())\n",
        "      train_errs = torch.cat((train_errs, errs))\n",
        "    train_mae = torch.mean(train_errs).item()\n",
        "\n",
        "    for data in test_loader:  # Iterate in batches over the training/test dataset.\n",
        "      e = model(data.z, data.x, data.cell, data.batch)\n",
        "      e = e.squeeze(1)\n",
        "      errs = torch.abs(e.view(-1).cpu() - data.y.cpu())\n",
        "      test_errs = torch.cat((test_errs, errs))\n",
        "    test_mae = torch.mean(test_errs).item()\n",
        "\n",
        "  return train_mae, test_mae"
      ],
      "execution_count": null,
      "outputs": []
    },
    {
      "cell_type": "code",
      "metadata": {
        "id": "2gQAclirtXTC"
      },
      "source": [
        "from datetime import datetime\n",
        "\n",
        "train_maes = []\n",
        "test_maes = []\n",
        "def train_and_test(model, train_loader, test_loader, optimizer, scheduler, \n",
        "                   use_forces=False, energy_coeff=None, \n",
        "                   epochs=100, starting_epoch=1, save_every=5,\n",
        "                   early_stopping_starting_epoch=100, patience=100,\n",
        "                   name=None, description=None):\n",
        "  if name == None:\n",
        "    name = \"SchNet\"\n",
        "  if description == None:\n",
        "    description = datetime.now().strftime('%H:%M:%S')\n",
        "\n",
        "  lowest_test_mae = 100.\n",
        "  epochs_not_improved = 0\n",
        "  save_model_flag = True\n",
        "  for epoch in range(starting_epoch, epochs):\n",
        "    print(\"\")\n",
        "    print(f\"Epoch {epoch} ({datetime.now().strftime('%H:%M:%S')})\")\n",
        "    print(f\"\")\n",
        "    train(model, train_loader, optimizer, use_forces=use_forces, energy_coeff=energy_coeff)\n",
        "    train_mae, test_mae = test(model, train_loader, test_loader)\n",
        "    train_maes.append(train_mae)\n",
        "    test_maes.append(test_mae)\n",
        "    print(f\"Energy MAE: train {train_mae} eV, test {test_mae} eV\")\n",
        "    if epoch <= early_stopping_starting_epoch:\n",
        "      lowest_test_mae = test_mae\n",
        "      save_model_flag = True\n",
        "    else:\n",
        "      print('Early stopping active')\n",
        "      if test_mae < lowest_test_mae:\n",
        "        epochs_not_improved = 0\n",
        "        lowest_test_mae = test_mae\n",
        "        save_model_flag = True\n",
        "        print('MAE has decreased, saving the model')\n",
        "      else:\n",
        "        epochs_not_improved += 1\n",
        "        save_model_flag = False\n",
        "        if epochs_not_improved > patience:\n",
        "          print('Patience has been finished: end of the training')\n",
        "          break\n",
        "        else:\n",
        "          print('MAE has not decreased for ' + str(epochs_not_improved) + ' epochs, go on without saving the model')\n",
        "    if save_model_flag == True:\n",
        "      save_model(name=name, description=description, epoch=epoch, train_err=train_mae, test_err=test_mae)\n",
        "    scheduler.step(test_mae)"
      ],
      "execution_count": null,
      "outputs": []
    },
    {
      "cell_type": "code",
      "metadata": {
        "id": "R34A6noCtYx5"
      },
      "source": [
        "def save_model(name, description, epoch=-1, train_err=-1, test_err=-1):\n",
        "  model_data = {\n",
        "    \"desc\": \"DimeNet new training should be the same as 12Apr\",\n",
        "    \"str\": model_str,\n",
        "    \"mean\": y_atom_mean,\n",
        "    \"std\": y_atom_std,\n",
        "    \"state\": model.state_dict(),\n",
        "    \"optimizer\": optimizer.state_dict(),\n",
        "    \"scheduler\": scheduler.state_dict(),\n",
        "    \"train_err\": train_err,\n",
        "    \"test_err\": test_err\n",
        "  }  \n",
        "  if not epoch == -1:\n",
        "    epoch_str = \"_\" + str(epoch)\n",
        "  else:\n",
        "    epoch_str = \"\"\n",
        "  actual_name = f\"{name}{epoch_str}\"\n",
        "\n",
        "  dir = f\"{MODELS_PATH}/{name}\"\n",
        "  if not os.path.exists(dir):\n",
        "    os.makedirs(dir)\n",
        "    print(f\"Created directory {dir}\")\n",
        "  torch.save(model_data, f\"{dir}/{actual_name}\")\n",
        "  print(f\"Saved {actual_name}\")\n",
        "\n",
        "  if os.path.isfile(f\"{dir}/{name}_best\"):\n",
        "    best = torch.load(f\"{dir}/{name}_best\")\n",
        "    best_train_err = best[\"train_err\"]\n",
        "    best_test_err = best[\"test_err\"]\n",
        "  else:\n",
        "    best_train_err, best_test_err = 10e18, 10e18\n",
        "  # if train_err < best_train_err and test_err < best_test_err:\n",
        "  if test_err < best_test_err:\n",
        "    torch.save(model_data, f\"{dir}/{name}_best\")\n",
        "    print(f\"Saved best\")"
      ],
      "execution_count": null,
      "outputs": []
    },
    {
      "cell_type": "markdown",
      "metadata": {
        "id": "usAV1Y-Qth72"
      },
      "source": [
        "## Instantiate model"
      ]
    },
    {
      "cell_type": "markdown",
      "metadata": {
        "id": "GZJuNQEk5pTz"
      },
      "source": [
        "### Dimenet"
      ]
    },
    {
      "cell_type": "code",
      "metadata": {
        "id": "Iy8vyhFitjda"
      },
      "source": [
        "cutoff = 3.5\n",
        "model = DimeNet2(hidden_channels=128, out_channels=1, num_blocks=7, num_bilinear=8, num_spherical=7, num_radial=6, cutoff=cutoff, std=y_atom_std, mean=y_atom_mean).to(device)\n",
        "\n",
        "if DTYPE == torch.float64:\n",
        "  model = model.double()\n",
        "\n",
        "optimizer = torch.optim.Adam(model.parameters(), lr=0.0001)\n",
        "optimizer.zero_grad()\n",
        "scheduler = torch.optim.lr_scheduler.ReduceLROnPlateau(optimizer, mode='min', factor=0.1, patience=10, threshold=0.01, threshold_mode='abs')\n",
        "use_forces = False\n",
        "energy_coeff = 0.\n",
        "max_epochs = 100"
      ],
      "execution_count": null,
      "outputs": []
    },
    {
      "cell_type": "markdown",
      "metadata": {
        "id": "BkMyK0xO5uPr"
      },
      "source": [
        "### Schnet"
      ]
    },
    {
      "cell_type": "code",
      "metadata": {
        "id": "VBXv8tkY50fl"
      },
      "source": [
        "cutoff = 5.0\n",
        "model = SchNet2(hidden_channels = 128, num_filters=128, num_gaussians=128, cutoff=cutoff, \n",
        "                num_interactions=3, readout=\"sum\", mean=y_atom_mean, std=y_atom_std).to(DEVICE)\n",
        "if DTYPE == torch.float64:\n",
        "  model = model.double()\n",
        "\n",
        "optimizer = torch.optim.AdamW(model.parameters(), lr=1e-3)\n",
        "optimizer.zero_grad()\n",
        "scheduler = torch.optim.lr_scheduler.ReduceLROnPlateau(optimizer, mode='min', factor=0.5, patience=3, threshold=0.05, threshold_mode='rel')\n",
        "use_forces = False\n",
        "energy_coeff = 0.\n",
        "max_epochs = 100"
      ],
      "execution_count": null,
      "outputs": []
    },
    {
      "cell_type": "markdown",
      "metadata": {
        "id": "JaZgQP4j6PVj"
      },
      "source": [
        "### Rest"
      ]
    },
    {
      "cell_type": "code",
      "metadata": {
        "id": "V-Ocgspn6Qxc"
      },
      "source": [
        "model_name = \"\" # name of the folder where checkpoints will be saved\n",
        "model_description = \"\" # description to understand what model is what"
      ],
      "execution_count": null,
      "outputs": []
    },
    {
      "cell_type": "markdown",
      "metadata": {
        "id": "B5Lz3enDtluj"
      },
      "source": [
        "Copy-paste the content of the cell used to instantiate the model in the following variable to allow for saving of hyperparameters in the checkpoint"
      ]
    },
    {
      "cell_type": "code",
      "metadata": {
        "id": "-hA3uobYtml1"
      },
      "source": [
        "model_str = \"\"\"\n",
        "\"\"\""
      ],
      "execution_count": null,
      "outputs": []
    },
    {
      "cell_type": "markdown",
      "metadata": {
        "id": "kxKQFWV_toOq"
      },
      "source": [
        "# [Restore from checkpoint]"
      ]
    },
    {
      "cell_type": "code",
      "metadata": {
        "id": "xnLQn-FbtpK7"
      },
      "source": [
        "RESTORE_FROM_CHECKPOINT = False\n",
        "\n",
        "if RESTORE_FROM_CHECKPOINT:\n",
        "  model_fn = \"path/to/checkpoint_to_restore\"\n",
        "  checkpoint = torch.load(\"path/to/checkpoint\", map_location=DEVICE)\n",
        "  model.load_state_dict(checkpoint[\"state\"])\n",
        "  optimizer.load_state_dict(checkpoint[\"optimizer\"])\n",
        "  scheduler.load_state_dict(checkpoint[\"scheduler\"])"
      ],
      "execution_count": null,
      "outputs": []
    },
    {
      "cell_type": "markdown",
      "metadata": {
        "id": "wSXWWjl0qqIf"
      },
      "source": [
        "# Info"
      ]
    },
    {
      "cell_type": "code",
      "metadata": {
        "colab": {
          "base_uri": "https://localhost:8080/"
        },
        "id": "3eXmO92Jtrkl",
        "outputId": "8c3506c7-e09e-4de2-f6f0-23a94cb8f22c"
      },
      "source": [
        "#@title  { vertical-output: true, display-mode: \"both\" }\n",
        "def experiment_summary():\n",
        "  device = \"CPU\" if DEVICE == torch.device(\"cpu\") else f\"GPU ({torch.cuda.get_device_name(device=DEVICE)})\"\n",
        "  print(f\"Device: {DEVICE}\")\n",
        "  print(f\"Data type: {DTYPE}\")\n",
        "  print(f\"Cutoff: {cutoff}\")\n",
        "  print(f\"Mean: {y_atom_mean}, std: {y_atom_std}\")\n",
        "  print(f\"Training ratio: {TRAINING_RATIO}\")\n",
        "  print(f\"Batch size: {BATCH_SIZE}\")\n",
        "  print(f\"Model: \\n    {model_name}: {model_description}\\n    {str(model)}\")\n",
        "  loss = \"energy\" if not use_forces else f\"energy+forces ({energy_coeff})\"\n",
        "  print(f\"Loss: {loss}\")\n",
        "  print(f\"Optimizer: {optimizer}\")\n",
        "  print(f\"Scheduler: {scheduler}\")\n",
        "  print(f\"Max epochs: {max_epochs}\")\n",
        "experiment_summary()"
      ],
      "execution_count": null,
      "outputs": [
        {
          "output_type": "stream",
          "text": [
            "Device: GPU (Tesla P100-PCIE-16GB)\n",
            "Data type: torch.float64\n",
            "Files used: ['DB1.xyz', 'DB2.xyz', 'DB3.xyz', 'DB4.xyz', 'DB5.xyz', 'DB6.xyz', 'DB7.xyz', 'DB8.xyz']\n",
            "Cutoff: 3.5\n",
            "Mean: -3460.825847482401, std: 0.16576383029449515\n",
            "Training ratio: 0.8\n",
            "Batch size: 6\n",
            "Model: \n",
            "    dimenet_no_PBC: DimeNet no PBC for LAMMPS testing\n",
            "    DimeNetx(\n",
            "  (padding): ConstantPad2d(padding=(0, 6, 0, 0), value=0)\n",
            "  (rbf): BesselBasisLayer(\n",
            "    (envelope): Envelope()\n",
            "  )\n",
            "  (sbf): SphericalBasisLayer(\n",
            "    (envelope): Envelope()\n",
            "  )\n",
            "  (emb): EmbeddingBlock(\n",
            "    (emb): Embedding(95, 128)\n",
            "    (lin_rbf): Linear(in_features=6, out_features=128, bias=False)\n",
            "    (lin): Linear(in_features=384, out_features=128, bias=True)\n",
            "  )\n",
            "  (output_blocks): ModuleList(\n",
            "    (0): OutputBlock(\n",
            "      (lin_rbf): Linear(in_features=6, out_features=128, bias=False)\n",
            "      (lins): ModuleList(\n",
            "        (0): Linear(in_features=128, out_features=128, bias=True)\n",
            "        (1): Linear(in_features=128, out_features=128, bias=True)\n",
            "        (2): Linear(in_features=128, out_features=128, bias=True)\n",
            "      )\n",
            "      (lin): Linear(in_features=128, out_features=1, bias=False)\n",
            "    )\n",
            "    (1): OutputBlock(\n",
            "      (lin_rbf): Linear(in_features=6, out_features=128, bias=False)\n",
            "      (lins): ModuleList(\n",
            "        (0): Linear(in_features=128, out_features=128, bias=True)\n",
            "        (1): Linear(in_features=128, out_features=128, bias=True)\n",
            "        (2): Linear(in_features=128, out_features=128, bias=True)\n",
            "      )\n",
            "      (lin): Linear(in_features=128, out_features=1, bias=False)\n",
            "    )\n",
            "    (2): OutputBlock(\n",
            "      (lin_rbf): Linear(in_features=6, out_features=128, bias=False)\n",
            "      (lins): ModuleList(\n",
            "        (0): Linear(in_features=128, out_features=128, bias=True)\n",
            "        (1): Linear(in_features=128, out_features=128, bias=True)\n",
            "        (2): Linear(in_features=128, out_features=128, bias=True)\n",
            "      )\n",
            "      (lin): Linear(in_features=128, out_features=1, bias=False)\n",
            "    )\n",
            "    (3): OutputBlock(\n",
            "      (lin_rbf): Linear(in_features=6, out_features=128, bias=False)\n",
            "      (lins): ModuleList(\n",
            "        (0): Linear(in_features=128, out_features=128, bias=True)\n",
            "        (1): Linear(in_features=128, out_features=128, bias=True)\n",
            "        (2): Linear(in_features=128, out_features=128, bias=True)\n",
            "      )\n",
            "      (lin): Linear(in_features=128, out_features=1, bias=False)\n",
            "    )\n",
            "    (4): OutputBlock(\n",
            "      (lin_rbf): Linear(in_features=6, out_features=128, bias=False)\n",
            "      (lins): ModuleList(\n",
            "        (0): Linear(in_features=128, out_features=128, bias=True)\n",
            "        (1): Linear(in_features=128, out_features=128, bias=True)\n",
            "        (2): Linear(in_features=128, out_features=128, bias=True)\n",
            "      )\n",
            "      (lin): Linear(in_features=128, out_features=1, bias=False)\n",
            "    )\n",
            "    (5): OutputBlock(\n",
            "      (lin_rbf): Linear(in_features=6, out_features=128, bias=False)\n",
            "      (lins): ModuleList(\n",
            "        (0): Linear(in_features=128, out_features=128, bias=True)\n",
            "        (1): Linear(in_features=128, out_features=128, bias=True)\n",
            "        (2): Linear(in_features=128, out_features=128, bias=True)\n",
            "      )\n",
            "      (lin): Linear(in_features=128, out_features=1, bias=False)\n",
            "    )\n",
            "    (6): OutputBlock(\n",
            "      (lin_rbf): Linear(in_features=6, out_features=128, bias=False)\n",
            "      (lins): ModuleList(\n",
            "        (0): Linear(in_features=128, out_features=128, bias=True)\n",
            "        (1): Linear(in_features=128, out_features=128, bias=True)\n",
            "        (2): Linear(in_features=128, out_features=128, bias=True)\n",
            "      )\n",
            "      (lin): Linear(in_features=128, out_features=1, bias=False)\n",
            "    )\n",
            "    (7): OutputBlock(\n",
            "      (lin_rbf): Linear(in_features=6, out_features=128, bias=False)\n",
            "      (lins): ModuleList(\n",
            "        (0): Linear(in_features=128, out_features=128, bias=True)\n",
            "        (1): Linear(in_features=128, out_features=128, bias=True)\n",
            "        (2): Linear(in_features=128, out_features=128, bias=True)\n",
            "      )\n",
            "      (lin): Linear(in_features=128, out_features=1, bias=False)\n",
            "    )\n",
            "  )\n",
            "  (interaction_blocks): ModuleList(\n",
            "    (0): InteractionBlock(\n",
            "      (lin_rbf): Linear(in_features=6, out_features=128, bias=False)\n",
            "      (lin_sbf): Linear(in_features=42, out_features=8, bias=False)\n",
            "      (lin_kj): Linear(in_features=128, out_features=128, bias=True)\n",
            "      (lin_ji): Linear(in_features=128, out_features=128, bias=True)\n",
            "      (layers_before_skip): ModuleList(\n",
            "        (0): ResidualLayer(\n",
            "          (lin1): Linear(in_features=128, out_features=128, bias=True)\n",
            "          (lin2): Linear(in_features=128, out_features=128, bias=True)\n",
            "        )\n",
            "      )\n",
            "      (lin): Linear(in_features=128, out_features=128, bias=True)\n",
            "      (layers_after_skip): ModuleList(\n",
            "        (0): ResidualLayer(\n",
            "          (lin1): Linear(in_features=128, out_features=128, bias=True)\n",
            "          (lin2): Linear(in_features=128, out_features=128, bias=True)\n",
            "        )\n",
            "        (1): ResidualLayer(\n",
            "          (lin1): Linear(in_features=128, out_features=128, bias=True)\n",
            "          (lin2): Linear(in_features=128, out_features=128, bias=True)\n",
            "        )\n",
            "      )\n",
            "    )\n",
            "    (1): InteractionBlock(\n",
            "      (lin_rbf): Linear(in_features=6, out_features=128, bias=False)\n",
            "      (lin_sbf): Linear(in_features=42, out_features=8, bias=False)\n",
            "      (lin_kj): Linear(in_features=128, out_features=128, bias=True)\n",
            "      (lin_ji): Linear(in_features=128, out_features=128, bias=True)\n",
            "      (layers_before_skip): ModuleList(\n",
            "        (0): ResidualLayer(\n",
            "          (lin1): Linear(in_features=128, out_features=128, bias=True)\n",
            "          (lin2): Linear(in_features=128, out_features=128, bias=True)\n",
            "        )\n",
            "      )\n",
            "      (lin): Linear(in_features=128, out_features=128, bias=True)\n",
            "      (layers_after_skip): ModuleList(\n",
            "        (0): ResidualLayer(\n",
            "          (lin1): Linear(in_features=128, out_features=128, bias=True)\n",
            "          (lin2): Linear(in_features=128, out_features=128, bias=True)\n",
            "        )\n",
            "        (1): ResidualLayer(\n",
            "          (lin1): Linear(in_features=128, out_features=128, bias=True)\n",
            "          (lin2): Linear(in_features=128, out_features=128, bias=True)\n",
            "        )\n",
            "      )\n",
            "    )\n",
            "    (2): InteractionBlock(\n",
            "      (lin_rbf): Linear(in_features=6, out_features=128, bias=False)\n",
            "      (lin_sbf): Linear(in_features=42, out_features=8, bias=False)\n",
            "      (lin_kj): Linear(in_features=128, out_features=128, bias=True)\n",
            "      (lin_ji): Linear(in_features=128, out_features=128, bias=True)\n",
            "      (layers_before_skip): ModuleList(\n",
            "        (0): ResidualLayer(\n",
            "          (lin1): Linear(in_features=128, out_features=128, bias=True)\n",
            "          (lin2): Linear(in_features=128, out_features=128, bias=True)\n",
            "        )\n",
            "      )\n",
            "      (lin): Linear(in_features=128, out_features=128, bias=True)\n",
            "      (layers_after_skip): ModuleList(\n",
            "        (0): ResidualLayer(\n",
            "          (lin1): Linear(in_features=128, out_features=128, bias=True)\n",
            "          (lin2): Linear(in_features=128, out_features=128, bias=True)\n",
            "        )\n",
            "        (1): ResidualLayer(\n",
            "          (lin1): Linear(in_features=128, out_features=128, bias=True)\n",
            "          (lin2): Linear(in_features=128, out_features=128, bias=True)\n",
            "        )\n",
            "      )\n",
            "    )\n",
            "    (3): InteractionBlock(\n",
            "      (lin_rbf): Linear(in_features=6, out_features=128, bias=False)\n",
            "      (lin_sbf): Linear(in_features=42, out_features=8, bias=False)\n",
            "      (lin_kj): Linear(in_features=128, out_features=128, bias=True)\n",
            "      (lin_ji): Linear(in_features=128, out_features=128, bias=True)\n",
            "      (layers_before_skip): ModuleList(\n",
            "        (0): ResidualLayer(\n",
            "          (lin1): Linear(in_features=128, out_features=128, bias=True)\n",
            "          (lin2): Linear(in_features=128, out_features=128, bias=True)\n",
            "        )\n",
            "      )\n",
            "      (lin): Linear(in_features=128, out_features=128, bias=True)\n",
            "      (layers_after_skip): ModuleList(\n",
            "        (0): ResidualLayer(\n",
            "          (lin1): Linear(in_features=128, out_features=128, bias=True)\n",
            "          (lin2): Linear(in_features=128, out_features=128, bias=True)\n",
            "        )\n",
            "        (1): ResidualLayer(\n",
            "          (lin1): Linear(in_features=128, out_features=128, bias=True)\n",
            "          (lin2): Linear(in_features=128, out_features=128, bias=True)\n",
            "        )\n",
            "      )\n",
            "    )\n",
            "    (4): InteractionBlock(\n",
            "      (lin_rbf): Linear(in_features=6, out_features=128, bias=False)\n",
            "      (lin_sbf): Linear(in_features=42, out_features=8, bias=False)\n",
            "      (lin_kj): Linear(in_features=128, out_features=128, bias=True)\n",
            "      (lin_ji): Linear(in_features=128, out_features=128, bias=True)\n",
            "      (layers_before_skip): ModuleList(\n",
            "        (0): ResidualLayer(\n",
            "          (lin1): Linear(in_features=128, out_features=128, bias=True)\n",
            "          (lin2): Linear(in_features=128, out_features=128, bias=True)\n",
            "        )\n",
            "      )\n",
            "      (lin): Linear(in_features=128, out_features=128, bias=True)\n",
            "      (layers_after_skip): ModuleList(\n",
            "        (0): ResidualLayer(\n",
            "          (lin1): Linear(in_features=128, out_features=128, bias=True)\n",
            "          (lin2): Linear(in_features=128, out_features=128, bias=True)\n",
            "        )\n",
            "        (1): ResidualLayer(\n",
            "          (lin1): Linear(in_features=128, out_features=128, bias=True)\n",
            "          (lin2): Linear(in_features=128, out_features=128, bias=True)\n",
            "        )\n",
            "      )\n",
            "    )\n",
            "    (5): InteractionBlock(\n",
            "      (lin_rbf): Linear(in_features=6, out_features=128, bias=False)\n",
            "      (lin_sbf): Linear(in_features=42, out_features=8, bias=False)\n",
            "      (lin_kj): Linear(in_features=128, out_features=128, bias=True)\n",
            "      (lin_ji): Linear(in_features=128, out_features=128, bias=True)\n",
            "      (layers_before_skip): ModuleList(\n",
            "        (0): ResidualLayer(\n",
            "          (lin1): Linear(in_features=128, out_features=128, bias=True)\n",
            "          (lin2): Linear(in_features=128, out_features=128, bias=True)\n",
            "        )\n",
            "      )\n",
            "      (lin): Linear(in_features=128, out_features=128, bias=True)\n",
            "      (layers_after_skip): ModuleList(\n",
            "        (0): ResidualLayer(\n",
            "          (lin1): Linear(in_features=128, out_features=128, bias=True)\n",
            "          (lin2): Linear(in_features=128, out_features=128, bias=True)\n",
            "        )\n",
            "        (1): ResidualLayer(\n",
            "          (lin1): Linear(in_features=128, out_features=128, bias=True)\n",
            "          (lin2): Linear(in_features=128, out_features=128, bias=True)\n",
            "        )\n",
            "      )\n",
            "    )\n",
            "    (6): InteractionBlock(\n",
            "      (lin_rbf): Linear(in_features=6, out_features=128, bias=False)\n",
            "      (lin_sbf): Linear(in_features=42, out_features=8, bias=False)\n",
            "      (lin_kj): Linear(in_features=128, out_features=128, bias=True)\n",
            "      (lin_ji): Linear(in_features=128, out_features=128, bias=True)\n",
            "      (layers_before_skip): ModuleList(\n",
            "        (0): ResidualLayer(\n",
            "          (lin1): Linear(in_features=128, out_features=128, bias=True)\n",
            "          (lin2): Linear(in_features=128, out_features=128, bias=True)\n",
            "        )\n",
            "      )\n",
            "      (lin): Linear(in_features=128, out_features=128, bias=True)\n",
            "      (layers_after_skip): ModuleList(\n",
            "        (0): ResidualLayer(\n",
            "          (lin1): Linear(in_features=128, out_features=128, bias=True)\n",
            "          (lin2): Linear(in_features=128, out_features=128, bias=True)\n",
            "        )\n",
            "        (1): ResidualLayer(\n",
            "          (lin1): Linear(in_features=128, out_features=128, bias=True)\n",
            "          (lin2): Linear(in_features=128, out_features=128, bias=True)\n",
            "        )\n",
            "      )\n",
            "    )\n",
            "  )\n",
            ")\n",
            "Loss: energy\n",
            "Optimizer: Adam (\n",
            "Parameter Group 0\n",
            "    amsgrad: False\n",
            "    betas: (0.9, 0.999)\n",
            "    eps: 1e-08\n",
            "    lr: 0.0001\n",
            "    weight_decay: 0\n",
            ")\n",
            "Scheduler: <torch.optim.lr_scheduler.ReduceLROnPlateau object at 0x7efe35fc7590>\n",
            "Max epochs: 100\n"
          ],
          "name": "stdout"
        }
      ]
    },
    {
      "cell_type": "code",
      "metadata": {
        "colab": {
          "base_uri": "https://localhost:8080/"
        },
        "id": "KRxUXTjY5cO1",
        "outputId": "a67ff458-3102-4f1b-f475-65151c22f4d4"
      },
      "source": [
        "#@title  { vertical-output: true, display-mode: \"both\" }\n",
        "from psutil import *\n",
        "print(cpu_count())\n",
        "print(cpu_stats())\n",
        "!cat /proc/cpuinfo\n",
        "!df -h\n",
        "print(virtual_memory())\n"
      ],
      "execution_count": null,
      "outputs": [
        {
          "output_type": "stream",
          "text": [
            "4\n",
            "scpustats(ctx_switches=4921552, interrupts=2873079, soft_interrupts=1748261, syscalls=0)\n",
            "processor\t: 0\n",
            "vendor_id\t: GenuineIntel\n",
            "cpu family\t: 6\n",
            "model\t\t: 79\n",
            "model name\t: Intel(R) Xeon(R) CPU @ 2.20GHz\n",
            "stepping\t: 0\n",
            "microcode\t: 0x1\n",
            "cpu MHz\t\t: 2199.998\n",
            "cache size\t: 56320 KB\n",
            "physical id\t: 0\n",
            "siblings\t: 4\n",
            "core id\t\t: 0\n",
            "cpu cores\t: 2\n",
            "apicid\t\t: 0\n",
            "initial apicid\t: 0\n",
            "fpu\t\t: yes\n",
            "fpu_exception\t: yes\n",
            "cpuid level\t: 13\n",
            "wp\t\t: yes\n",
            "flags\t\t: fpu vme de pse tsc msr pae mce cx8 apic sep mtrr pge mca cmov pat pse36 clflush mmx fxsr sse sse2 ss ht syscall nx pdpe1gb rdtscp lm constant_tsc rep_good nopl xtopology nonstop_tsc cpuid tsc_known_freq pni pclmulqdq ssse3 fma cx16 pcid sse4_1 sse4_2 x2apic movbe popcnt aes xsave avx f16c rdrand hypervisor lahf_lm abm 3dnowprefetch invpcid_single ssbd ibrs ibpb stibp fsgsbase tsc_adjust bmi1 hle avx2 smep bmi2 erms invpcid rtm rdseed adx smap xsaveopt arat md_clear arch_capabilities\n",
            "bugs\t\t: cpu_meltdown spectre_v1 spectre_v2 spec_store_bypass l1tf mds swapgs taa\n",
            "bogomips\t: 4399.99\n",
            "clflush size\t: 64\n",
            "cache_alignment\t: 64\n",
            "address sizes\t: 46 bits physical, 48 bits virtual\n",
            "power management:\n",
            "\n",
            "processor\t: 1\n",
            "vendor_id\t: GenuineIntel\n",
            "cpu family\t: 6\n",
            "model\t\t: 79\n",
            "model name\t: Intel(R) Xeon(R) CPU @ 2.20GHz\n",
            "stepping\t: 0\n",
            "microcode\t: 0x1\n",
            "cpu MHz\t\t: 2199.998\n",
            "cache size\t: 56320 KB\n",
            "physical id\t: 0\n",
            "siblings\t: 4\n",
            "core id\t\t: 1\n",
            "cpu cores\t: 2\n",
            "apicid\t\t: 2\n",
            "initial apicid\t: 2\n",
            "fpu\t\t: yes\n",
            "fpu_exception\t: yes\n",
            "cpuid level\t: 13\n",
            "wp\t\t: yes\n",
            "flags\t\t: fpu vme de pse tsc msr pae mce cx8 apic sep mtrr pge mca cmov pat pse36 clflush mmx fxsr sse sse2 ss ht syscall nx pdpe1gb rdtscp lm constant_tsc rep_good nopl xtopology nonstop_tsc cpuid tsc_known_freq pni pclmulqdq ssse3 fma cx16 pcid sse4_1 sse4_2 x2apic movbe popcnt aes xsave avx f16c rdrand hypervisor lahf_lm abm 3dnowprefetch invpcid_single ssbd ibrs ibpb stibp fsgsbase tsc_adjust bmi1 hle avx2 smep bmi2 erms invpcid rtm rdseed adx smap xsaveopt arat md_clear arch_capabilities\n",
            "bugs\t\t: cpu_meltdown spectre_v1 spectre_v2 spec_store_bypass l1tf mds swapgs taa\n",
            "bogomips\t: 4399.99\n",
            "clflush size\t: 64\n",
            "cache_alignment\t: 64\n",
            "address sizes\t: 46 bits physical, 48 bits virtual\n",
            "power management:\n",
            "\n",
            "processor\t: 2\n",
            "vendor_id\t: GenuineIntel\n",
            "cpu family\t: 6\n",
            "model\t\t: 79\n",
            "model name\t: Intel(R) Xeon(R) CPU @ 2.20GHz\n",
            "stepping\t: 0\n",
            "microcode\t: 0x1\n",
            "cpu MHz\t\t: 2199.998\n",
            "cache size\t: 56320 KB\n",
            "physical id\t: 0\n",
            "siblings\t: 4\n",
            "core id\t\t: 0\n",
            "cpu cores\t: 2\n",
            "apicid\t\t: 1\n",
            "initial apicid\t: 1\n",
            "fpu\t\t: yes\n",
            "fpu_exception\t: yes\n",
            "cpuid level\t: 13\n",
            "wp\t\t: yes\n",
            "flags\t\t: fpu vme de pse tsc msr pae mce cx8 apic sep mtrr pge mca cmov pat pse36 clflush mmx fxsr sse sse2 ss ht syscall nx pdpe1gb rdtscp lm constant_tsc rep_good nopl xtopology nonstop_tsc cpuid tsc_known_freq pni pclmulqdq ssse3 fma cx16 pcid sse4_1 sse4_2 x2apic movbe popcnt aes xsave avx f16c rdrand hypervisor lahf_lm abm 3dnowprefetch invpcid_single ssbd ibrs ibpb stibp fsgsbase tsc_adjust bmi1 hle avx2 smep bmi2 erms invpcid rtm rdseed adx smap xsaveopt arat md_clear arch_capabilities\n",
            "bugs\t\t: cpu_meltdown spectre_v1 spectre_v2 spec_store_bypass l1tf mds swapgs taa\n",
            "bogomips\t: 4399.99\n",
            "clflush size\t: 64\n",
            "cache_alignment\t: 64\n",
            "address sizes\t: 46 bits physical, 48 bits virtual\n",
            "power management:\n",
            "\n",
            "processor\t: 3\n",
            "vendor_id\t: GenuineIntel\n",
            "cpu family\t: 6\n",
            "model\t\t: 79\n",
            "model name\t: Intel(R) Xeon(R) CPU @ 2.20GHz\n",
            "stepping\t: 0\n",
            "microcode\t: 0x1\n",
            "cpu MHz\t\t: 2199.998\n",
            "cache size\t: 56320 KB\n",
            "physical id\t: 0\n",
            "siblings\t: 4\n",
            "core id\t\t: 1\n",
            "cpu cores\t: 2\n",
            "apicid\t\t: 3\n",
            "initial apicid\t: 3\n",
            "fpu\t\t: yes\n",
            "fpu_exception\t: yes\n",
            "cpuid level\t: 13\n",
            "wp\t\t: yes\n",
            "flags\t\t: fpu vme de pse tsc msr pae mce cx8 apic sep mtrr pge mca cmov pat pse36 clflush mmx fxsr sse sse2 ss ht syscall nx pdpe1gb rdtscp lm constant_tsc rep_good nopl xtopology nonstop_tsc cpuid tsc_known_freq pni pclmulqdq ssse3 fma cx16 pcid sse4_1 sse4_2 x2apic movbe popcnt aes xsave avx f16c rdrand hypervisor lahf_lm abm 3dnowprefetch invpcid_single ssbd ibrs ibpb stibp fsgsbase tsc_adjust bmi1 hle avx2 smep bmi2 erms invpcid rtm rdseed adx smap xsaveopt arat md_clear arch_capabilities\n",
            "bugs\t\t: cpu_meltdown spectre_v1 spectre_v2 spec_store_bypass l1tf mds swapgs taa\n",
            "bogomips\t: 4399.99\n",
            "clflush size\t: 64\n",
            "cache_alignment\t: 64\n",
            "address sizes\t: 46 bits physical, 48 bits virtual\n",
            "power management:\n",
            "\n",
            "Filesystem      Size  Used Avail Use% Mounted on\n",
            "overlay         148G   42G  107G  28% /\n",
            "tmpfs            64M     0   64M   0% /dev\n",
            "tmpfs            13G     0   13G   0% /sys/fs/cgroup\n",
            "shm              13G     0   13G   0% /dev/shm\n",
            "tmpfs            13G   48K   13G   1% /var/colab\n",
            "/dev/sda1       154G   47G  108G  31% /opt/bin\n",
            "tmpfs            13G     0   13G   0% /proc/acpi\n",
            "tmpfs            13G     0   13G   0% /proc/scsi\n",
            "tmpfs            13G     0   13G   0% /sys/firmware\n",
            "drive           100G   21G   80G  21% /content/drive\n",
            "svmem(total=27339640832, available=25148489728, percent=8.0, used=3048595456, free=8614944768, active=2149126144, inactive=15774486528, buffers=135950336, cached=15540150272, shared=15372288, slab=552972288)\n"
          ],
          "name": "stdout"
        }
      ]
    },
    {
      "cell_type": "markdown",
      "metadata": {
        "id": "N8_7lXy_6rMf"
      },
      "source": [
        "# Training"
      ]
    },
    {
      "cell_type": "code",
      "metadata": {
        "id": "-G4PXuDW9Hgt"
      },
      "source": [
        "train_and_test(model, train_loader, test_loader, optimizer, scheduler, \n",
        "               use_forces=use_forces, energy_coeff=energy_coeff,\n",
        "               epochs=max_epochs, starting_epoch=1, save_every=1,\n",
        "               early_stopping_starting_epoch=40, patience=10,\n",
        "               name=model_name, description=model_description)"
      ],
      "execution_count": null,
      "outputs": []
    }
  ]
}