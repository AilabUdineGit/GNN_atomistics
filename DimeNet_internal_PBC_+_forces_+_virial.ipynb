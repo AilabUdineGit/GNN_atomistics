{
  "nbformat": 4,
  "nbformat_minor": 0,
  "metadata": {
    "accelerator": "GPU",
    "colab": {
      "name": "DimeNet internal PBC + forces + virial",
      "provenance": [],
      "collapsed_sections": [
        "DG8nOP-zpD7X",
        "Ds3hZ1RSp2xq",
        "NiQx-JJotPPz",
        "usAV1Y-Qth72"
      ],
      "machine_shape": "hm"
    },
    "kernelspec": {
      "display_name": "Python 3",
      "name": "python3"
    }
  },
  "cells": [
    {
      "cell_type": "markdown",
      "metadata": {
        "id": "LCADQ_Y-5AZ2"
      },
      "source": [
        "*   Make sure you run this using a GPU (On Google Colab: Runtime -> Change Runtime Type -> GPU)"
      ]
    },
    {
      "cell_type": "markdown",
      "metadata": {
        "id": "IeZyCbkfkuXx"
      },
      "source": [
        "# Setup"
      ]
    },
    {
      "cell_type": "code",
      "metadata": {
        "colab": {
          "base_uri": "https://localhost:8080/"
        },
        "id": "mNXgZoCHklOe",
        "outputId": "dee1a647-0760-412c-b528-697bf6e81f65"
      },
      "source": [
        "#@title  { vertical-output: true, display-mode: \"both\" }\n",
        "!pip install -q ase\n",
        "!pip install -q torch==1.8.0\n",
        "!pip install  torch-scatter -f https://pytorch-geometric.com/whl/torch-1.8.0+cu102.html\n",
        "!pip install -q torch-sparse -f https://pytorch-geometric.com/whl/torch-1.8.0+cu102.html\n",
        "!pip install -q torch-cluster -f https://pytorch-geometric.com/whl/torch-1.8.0+cu102.html\n",
        "!pip install -q torch-spline-conv -f https://pytorch-geometric.com/whl/torch-1.8.0+cu102.html\n",
        "!pip install -q git+https://github.com/rusty1s/pytorch_geometric.git@1.7.0"
      ],
      "execution_count": null,
      "outputs": [
        {
          "output_type": "stream",
          "name": "stdout",
          "text": [
            "\u001b[K     |████████████████████████████████| 2.2 MB 5.2 MB/s \n",
            "\u001b[K     |████████████████████████████████| 735.5 MB 12 kB/s \n",
            "\u001b[31mERROR: pip's dependency resolver does not currently take into account all the packages that are installed. This behaviour is the source of the following dependency conflicts.\n",
            "torchvision 0.10.0+cu102 requires torch==1.9.0, but you have torch 1.8.0 which is incompatible.\n",
            "torchtext 0.10.0 requires torch==1.9.0, but you have torch 1.8.0 which is incompatible.\u001b[0m\n",
            "\u001b[?25hLooking in links: https://pytorch-geometric.com/whl/torch-1.8.0+cu102.html\n",
            "Collecting torch-scatter\n",
            "  Downloading https://data.pyg.org/whl/torch-1.8.0%2Bcu102/torch_scatter-2.0.8-cp37-cp37m-linux_x86_64.whl (8.1 MB)\n",
            "\u001b[K     |████████████████████████████████| 8.1 MB 2.6 MB/s \n",
            "\u001b[?25hInstalling collected packages: torch-scatter\n",
            "Successfully installed torch-scatter-2.0.8\n",
            "\u001b[K     |████████████████████████████████| 3.1 MB 2.5 MB/s eta 0:00:01"
          ]
        }
      ]
    },
    {
      "cell_type": "code",
      "metadata": {
        "id": "LI7ky8iYk18J"
      },
      "source": [
        "import numpy as np\n",
        "import torch\n",
        "import ase\n",
        "import random\n",
        "from torch_geometric.data import Data, DataLoader\n",
        "from ase.io import read"
      ],
      "execution_count": null,
      "outputs": []
    },
    {
      "cell_type": "code",
      "metadata": {
        "id": "LIT8KZO9rdrG"
      },
      "source": [
        "SEED = 55555\n",
        "\n",
        "np.random.seed(SEED)\n",
        "random.seed(SEED)\n",
        "torch.manual_seed(SEED)\n",
        "if torch.cuda.is_available():\n",
        "    torch.cuda.manual_seed(SEED)\n",
        "    torch.cuda.manual_seed_all(SEED)"
      ],
      "execution_count": null,
      "outputs": []
    },
    {
      "cell_type": "markdown",
      "metadata": {
        "id": "R-9NRhR_rfne"
      },
      "source": [
        "## Set training hyperparameters"
      ]
    },
    {
      "cell_type": "code",
      "metadata": {
        "id": "6Zgbvaqek4Kb"
      },
      "source": [
        "DEVICE = torch.device('cuda' if torch.cuda.is_available() else 'cpu')  # use GPU if available\n",
        "DTYPE = torch.float64  # data type to use for data and model\n",
        "\n",
        "BASE_PATH = '/content/drive/MyDrive/gnn_atomistics/'  # path to git repo/colab/gnn_atomistics\n",
        "\n",
        "TRAINING_RATIO = 0.8  # percent of the dataset to use for training\n",
        "OPTIMIZER = torch.optim.Adam  \n",
        "BATCH_SIZE = 4"
      ],
      "execution_count": null,
      "outputs": []
    },
    {
      "cell_type": "code",
      "metadata": {
        "id": "pjbYYGWrn5Xf"
      },
      "source": [
        "from google.colab import drive\n",
        "drive.mount('/content/drive')\n",
        "DATA_PATH = BASE_PATH + 'data/training/'\n",
        "MODELS_PATH = BASE_PATH + \"/models\""
      ],
      "execution_count": null,
      "outputs": []
    },
    {
      "cell_type": "markdown",
      "metadata": {
        "id": "D_aZDovaoq7J"
      },
      "source": [
        "# Data"
      ]
    },
    {
      "cell_type": "markdown",
      "metadata": {
        "id": "M0TTCoXzowQi"
      },
      "source": [
        "## Define functions"
      ]
    },
    {
      "cell_type": "code",
      "metadata": {
        "id": "dum8n-V9oyw_"
      },
      "source": [
        "M = {}\n",
        "def extend_atoms(atoms, source, target):\n",
        "  global M\n",
        "  if source not in M.keys():\n",
        "    M[source] = {}\n",
        "  if target not in M[source].keys():\n",
        "    M[source][target] = ase.build.find_optimal_cell_shape(atoms.get_cell(), target, \"sc\") \n",
        "  supercell = ase.build.make_supercell(atoms, M[source][target])\n",
        "  supercell.info[\"energy\"] = atoms.info[\"energy\"] * int(target / source)\n",
        "  supercell.info[\"virial\"] = atoms.info[\"virial\"] * int(target / source)\n",
        "  return supercell"
      ],
      "execution_count": null,
      "outputs": []
    },
    {
      "cell_type": "code",
      "metadata": {
        "id": "gJNeHV88o0TT"
      },
      "source": [
        "def data_object(atoms: ase.Atoms, db = None, device = DEVICE):\n",
        "\n",
        "  n = atoms.get_global_number_of_atoms()\n",
        "  if n == 1:\n",
        "    atoms = extend_atoms(atoms, 1, 54)\n",
        "    n = atoms.get_global_number_of_atoms()\n",
        "\n",
        "  cell = torch.tensor(atoms.cell, dtype=DTYPE, device=device)\n",
        "  x = torch.tensor(atoms.get_positions(), dtype=DTYPE, device=device)\n",
        "  z = torch.tensor(atoms.get_array(\"numbers\", copy=True), dtype=torch.long, device=device)\n",
        "  y = torch.tensor(atoms.info[\"energy\"], dtype=DTYPE, device=device)\n",
        "  f = torch.tensor(atoms.get_array(\"force\", copy=True), dtype=DTYPE, device=device)\n",
        "  if db == 1:\n",
        "    v = torch.tensor(atoms.info[\"virial\"], dtype=DTYPE, device=device)\n",
        "  else:\n",
        "    v = torch.zeros((3,3), dtype=DTYPE, device=device)\n",
        "  db = torch.tensor(db, dtype=torch.long, device=device)\n",
        "\n",
        "  return Data(z=z, x=x, cell=cell, y=y, f=f, v=v, n=n, db=db)"
      ],
      "execution_count": null,
      "outputs": []
    },
    {
      "cell_type": "markdown",
      "metadata": {
        "id": "DG8nOP-zpD7X"
      },
      "source": [
        "## Load data"
      ]
    },
    {
      "cell_type": "code",
      "metadata": {
        "id": "vthGS5zlph73"
      },
      "source": [
        "data = []\n",
        "for i in range(1,9):\n",
        "  fn = f\"{DATA_PATH}/DB{i}.xyz\"\n",
        "  db = read(fn, index=\":\")\n",
        "  data += [data_object(a, db = i, device = \"cpu\") for a in db]\n",
        "print(len(data))"
      ],
      "execution_count": null,
      "outputs": []
    },
    {
      "cell_type": "code",
      "metadata": {
        "id": "T2jlOu_Gnrqo"
      },
      "source": [
        "print(data[0])"
      ],
      "execution_count": null,
      "outputs": []
    },
    {
      "cell_type": "code",
      "metadata": {
        "id": "EQKv6hfir4Ji"
      },
      "source": [
        "y_atom = torch.tensor([d.y / d.n for d in data], dtype=DTYPE)\n",
        "y_atom_mean = y_atom.mean()\n",
        "y_atom_std = y_atom.std()\n",
        "print(y_atom_mean, y_atom_std)"
      ],
      "execution_count": null,
      "outputs": []
    },
    {
      "cell_type": "code",
      "metadata": {
        "id": "EUNEIZp6n0jH"
      },
      "source": [
        "v_atom = torch.stack([d.v / d.n for d in data if d.db == torch.tensor(1)])\n",
        "v_atom_mean = v_atom.mean(dim=0)\n",
        "v_atom_std = v_atom.std(dim=0)\n",
        "print(v_atom_mean)\n",
        "print(v_atom_std)"
      ],
      "execution_count": null,
      "outputs": []
    },
    {
      "cell_type": "code",
      "metadata": {
        "id": "x0ISpgIErtew"
      },
      "source": [
        "mean = torch.cat((y_atom_mean.unsqueeze(0), torch.flatten(v_atom_mean))).to(DEVICE)\n",
        "std = torch.cat((y_atom_std.unsqueeze(0), torch.flatten(v_atom_std))).to(DEVICE)\n",
        "print(mean)\n",
        "print(std)"
      ],
      "execution_count": null,
      "outputs": []
    },
    {
      "cell_type": "code",
      "metadata": {
        "id": "w7LU3_vTr48m"
      },
      "source": [
        "random.shuffle(data)\n",
        "train_amount = int(len(data) * TRAINING_RATIO)\n",
        "train_data = data[:train_amount]\n",
        "test_data = data[train_amount:]\n",
        "train_loader = DataLoader(train_data, batch_size=BATCH_SIZE, shuffle=True)\n",
        "test_loader = DataLoader(test_data, batch_size=BATCH_SIZE, shuffle=False)"
      ],
      "execution_count": null,
      "outputs": []
    },
    {
      "cell_type": "markdown",
      "metadata": {
        "id": "Ds3hZ1RSp2xq"
      },
      "source": [
        "# Model\n"
      ]
    },
    {
      "cell_type": "code",
      "metadata": {
        "id": "kKkXNgk25L0J"
      },
      "source": [
        "#@title  { vertical-output: true, form-width: \"25%\" }\n",
        "from torch_geometric.nn import DimeNet\n",
        "from torch_geometric.nn.acts import swish\n",
        "from math import sqrt, pi as PI\n",
        "\n",
        "import numpy as np\n",
        "import torch\n",
        "from torch.nn import Linear, Embedding\n",
        "from torch_scatter import scatter\n",
        "from torch_sparse import SparseTensor\n",
        "from torch_geometric.nn import radius_graph\n",
        "from torch_geometric.data import download_url\n",
        "from torch_geometric.data.makedirs import makedirs\n",
        "\n",
        "from torch_geometric.nn.models.dimenet import Envelope\n",
        "from torch_geometric.nn.models.dimenet import BesselBasisLayer\n",
        "from torch_geometric.nn.models.dimenet import SphericalBasisLayer\n",
        "from torch_geometric.nn.models.dimenet import ResidualLayer\n",
        "from torch_geometric.nn.models.dimenet import InteractionBlock\n",
        "from torch_geometric.nn.models.dimenet import OutputBlock\n",
        "\n",
        "from torch_geometric.nn.models.dimenet_utils import bessel_basis, real_sph_harm\n",
        "import ase\n",
        "from ase.neighborlist import neighbor_list \n",
        "from ase import Atoms\n",
        "\n",
        "from torch_geometric.data import DataLoader\n",
        "\n",
        "try:\n",
        "    import sympy as sym\n",
        "except ImportError:\n",
        "    sym = None\n",
        "\n",
        "import os\n",
        "try:\n",
        "    os.environ['TF_CPP_MIN_LOG_LEVEL'] = '3'\n",
        "    import tensorflow as tf\n",
        "except ImportError:\n",
        "    tf = None\n",
        "\n",
        "# TODO: move this somewhere else\n",
        "device = DEVICE = torch.device('cuda' if torch.cuda.is_available() else 'cpu')\n",
        "DTYPE = torch.float64\n",
        "\n",
        "\n",
        "def pbc_edges(cutoff, z, x, cell, batch, compute_sc=False):\n",
        "\n",
        "  NH1 = torch.tensor([], dtype=torch.long, device=DEVICE)\n",
        "  NH2 = torch.tensor([], dtype=torch.long, device=DEVICE)\n",
        "  S = torch.tensor([], dtype=torch.long, device=DEVICE)\n",
        "  D = torch.tensor([], dtype=DTYPE, device=DEVICE)\n",
        "  SC = torch.tensor([], dtype=DTYPE, device=DEVICE) if compute_sc else None\n",
        "  x_ = torch.clone(x).detach().cpu().numpy()\n",
        "\n",
        "  if batch is not None:\n",
        "    # count number of elements for each batch\n",
        "    batch_ids = list(set(batch.cpu().tolist()))\n",
        "    batch_sizes = [ (batch == id).sum().item() for id in batch_ids ]\n",
        "\n",
        "    for i in range(len(batch_sizes)):\n",
        "      offset = sum(batch_sizes[:i]) # to obtain correct atom indices\n",
        "      \n",
        "      atoms = Atoms(charges = (z[offset:offset + batch_sizes[i]]).cpu(), \n",
        "        positions = x_[offset:offset + batch_sizes[i]], \n",
        "        cell = (cell[3*i:3*(i+1)]).cpu(),\n",
        "        pbc=True\n",
        "      ) \n",
        "      \n",
        "      nh1, nh2, s = neighbor_list(\"ijS\", atoms, cutoff, self_interaction=False) \n",
        "      nh1 = torch.tensor(nh1, dtype=torch.long, device=DEVICE)\n",
        "      nh2 = torch.tensor(nh2, dtype=torch.long, device=DEVICE)\n",
        "      nh1 = nh1 + offset\n",
        "      nh2 = nh2 + offset\n",
        "      s = torch.tensor(s, dtype=DTYPE, device=DEVICE)\n",
        "      d = x[nh2] - x[nh1] + torch.matmul(s, cell[3*i:3*(i+1)])\n",
        "      \n",
        "      if compute_sc:\n",
        "        cell_flat = torch.flatten(cell[3*i:3*(i+1)])\n",
        "        sc = torch.tile(cell_flat, (len(d), 1))\n",
        "        sc[:, 0:3] = (sc[:, 0:3].T * s[:, 0]).T\n",
        "        sc[:, 3:6] = (sc[:, 3:6].T * s[:, 1]).T\n",
        "        sc[:, 6:9] = (sc[:, 6:9].T * s[:, 2]).T\n",
        "        SC = torch.cat((SC, sc), 0)      \n",
        "\n",
        "      NH1 = torch.cat((NH1, nh1), 0)\n",
        "      NH2 = torch.cat((NH2, nh2), 0)\n",
        "      S = torch.cat((S, s), 0)\n",
        "      D = torch.cat((D, d), 0)\n",
        "\n",
        "  else: # no batch\n",
        "    atoms = Atoms(charges = z.cpu(), positions = x.detach().numpy(), cell = cell.cpu(), pbc=True)\n",
        "    nh1, nh2, s = neighbor_list(\"ijS\", atoms, cutoff, self_interaction=False)\n",
        "    nh1 = torch.tensor(nh1, dtype=torch.long, device=DEVICE)\n",
        "    nh2 = torch.tensor(nh2, dtype=torch.long, device=DEVICE)\n",
        "    s = torch.tensor(s, dtype=DTYPE, device=DEVICE)\n",
        "    d = x[nh2] - x[nh1] + torch.matmul(s, cell)\n",
        "    \n",
        "    if compute_sc:\n",
        "      cell_flat = torch.flatten(cell)\n",
        "      sc = torch.tile(cell_flat, (len(d), 1))\n",
        "      sc[:, 0:3] = (sc[:, 0:3].T * s[:, 0]).T\n",
        "      sc[:, 3:6] = (sc[:, 3:6].T * s[:, 1]).T\n",
        "      sc[:, 6:9] = (sc[:, 6:9].T * s[:, 2]).T  \n",
        "      SC = sc\n",
        "\n",
        "    NH1, NH2, S, D = nh1, nh2, s, d\n",
        "\n",
        "  D = D.norm(dim=-1)\n",
        "  return  NH1, NH2, D, S, SC \n",
        "\n",
        "class EmbeddingBlock(torch.nn.Module):\n",
        "  def __init__(self, num_radial, hidden_channels, act=swish):\n",
        "    super(EmbeddingBlock, self).__init__()\n",
        "    self.act = act\n",
        "\n",
        "    self.emb = Embedding(95, hidden_channels)\n",
        "    self.lin_rbf = Linear(num_radial, hidden_channels, bias=False)\n",
        "    self.lin = Linear(3 * hidden_channels, hidden_channels)\n",
        "\n",
        "    self.reset_parameters()\n",
        "\n",
        "  def reset_parameters(self):\n",
        "    self.emb.weight.data.uniform_(-sqrt(3), sqrt(3))\n",
        "    self.lin_rbf.reset_parameters()\n",
        "    self.lin.reset_parameters()\n",
        "\n",
        "  def forward(self, x, rbf, i, j):\n",
        "    x = self.emb(x)\n",
        "    #rbf = self.act(self.lin_rbf(rbf)) # FIX: this should not have an activation function\n",
        "    rbf = self.lin_rbf(rbf)\n",
        "    return self.act(self.lin(torch.cat([x[i], x[j], rbf], dim=-1)))\n",
        "\n",
        "\n",
        "\n",
        "class DimeNetx(torch.nn.Module):\n",
        "  \n",
        "  def __init__(self, hidden_channels, out_channels, num_blocks, num_bilinear,\n",
        "                 num_spherical, num_radial, cutoff=5.0, envelope_exponent=5,\n",
        "                 num_before_skip=1, num_after_skip=2, num_output_layers=3,\n",
        "                 act=swish, mean=None, std=None):\n",
        "    super(DimeNetx, self).__init__()\n",
        "\n",
        "    self.cutoff = cutoff\n",
        "\n",
        "    #set mean and standard deviation of energies\n",
        "    self.mean = mean \n",
        "    self.std = std\n",
        "\n",
        "    # padding used for PBCs\n",
        "    self.padding = torch.nn.ConstantPad2d((0,6,0,0), 0)\n",
        "\n",
        "    if sym is None:\n",
        "        raise ImportError('Package `sympy` could not be found.')\n",
        "\n",
        "    self.num_blocks = num_blocks\n",
        "\n",
        "    self.rbf = BesselBasisLayer(num_radial, cutoff, envelope_exponent)\n",
        "    self.sbf = SphericalBasisLayer(num_spherical, num_radial, cutoff,\n",
        "                                    envelope_exponent)\n",
        "\n",
        "    self.emb = EmbeddingBlock(num_radial, hidden_channels, act)\n",
        "\n",
        "    self.output_blocks = torch.nn.ModuleList([\n",
        "        OutputBlock(num_radial, hidden_channels, out_channels,\n",
        "                    num_output_layers, act) for _ in range(num_blocks + 1)\n",
        "    ])\n",
        "\n",
        "    self.interaction_blocks = torch.nn.ModuleList([\n",
        "        InteractionBlock(hidden_channels, num_bilinear, num_spherical,\n",
        "                          num_radial, num_before_skip, num_after_skip, act)\n",
        "        for _ in range(num_blocks)\n",
        "    ])\n",
        "\n",
        "    self.reset_parameters()\n",
        "\n",
        "  def reset_parameters(self):\n",
        "    self.rbf.reset_parameters()\n",
        "    self.emb.reset_parameters()\n",
        "    for out in self.output_blocks:\n",
        "      out.reset_parameters()\n",
        "    for interaction in self.interaction_blocks:\n",
        "      interaction.reset_parameters()\n",
        "\n",
        "  def triplets_original(self, edge_index, num_nodes):\n",
        "    row, col = edge_index  # j->i\n",
        "\n",
        "    value = torch.arange(row.size(0), device=row.device)\n",
        "    adj_t = SparseTensor(row=col, col=row, value=value,\n",
        "                         sparse_sizes=(num_nodes, num_nodes))\n",
        "    adj_t_row = adj_t[row]\n",
        "    num_triplets = adj_t_row.set_value(None).sum(dim=1).to(torch.long)\n",
        "\n",
        "    # Node indices (k->j->i) for triplets.\n",
        "    idx_i = col.repeat_interleave(num_triplets)\n",
        "    idx_j = row.repeat_interleave(num_triplets)\n",
        "    idx_k = adj_t_row.storage.col()\n",
        "    mask = (idx_i != idx_k)  # Remove i == k triplets.\n",
        "    idx_i, idx_j, idx_k = idx_i[mask], idx_j[mask], idx_k[mask]\n",
        "\n",
        "    # Edge indices (k-j, j->i) for triplets.\n",
        "    idx_kj = adj_t_row.storage.value()[mask]\n",
        "    idx_ji = adj_t_row.storage.row()[mask]\n",
        "\n",
        "    return col, row, idx_i, idx_j, idx_k, idx_kj, idx_ji\n",
        "\n",
        "\n",
        "  def triplets(self, edge_index, num_nodes, shift_cells=None, shift=None):\n",
        "    row, col = edge_index  # j->i\n",
        "\n",
        "    value = torch.arange(row.size(0), device=row.device)\n",
        "    adj_t = SparseTensor(row=col, col=row, value=value,\n",
        "                         sparse_sizes=(num_nodes, num_nodes))\n",
        "    adj_t_row = adj_t[row]\n",
        "    num_triplets = adj_t_row.set_value(None).sum(dim=1).to(torch.long)\n",
        "\n",
        "    idx_i = col.repeat_interleave(num_triplets)\n",
        "    idx_j = row.repeat_interleave(num_triplets)\n",
        "    idx_k = adj_t_row.storage.col()\n",
        "\n",
        "    if shift_cells is not None: # Update also the shift vectors\n",
        "      shift_cells_i = shift_cells.repeat_interleave(num_triplets, dim=0)\n",
        "      shift_i = shift.repeat_interleave(num_triplets, dim=0)\n",
        "      shift_cells_k = -shift_cells[adj_t_row.storage.value()]\n",
        "      shift_k = -shift[adj_t_row.storage.value()]\n",
        "\n",
        "    mask = torch.all((torch.cat((torch.unsqueeze(idx_i, 1), shift_i), dim=1) ==\\\n",
        "                      torch.cat((torch.unsqueeze(idx_k, 1), shift_k), dim=1)), dim=1)\n",
        "\n",
        "    idx_i, idx_j, idx_k = idx_i[~mask], idx_j[~mask], idx_k[~mask]\n",
        "    if shift_cells is not None: # Remove also from the shift vector\n",
        "      shift_cells_i = shift_cells_i[~mask]\n",
        "      shift_cells_k = shift_cells_k[~mask]\n",
        "      shift_i = shift_i[~mask]\n",
        "      shift_k = shift_k[~mask]\n",
        "\n",
        "    idx_kj = adj_t_row.storage.value()[~mask]\n",
        "    idx_ji = adj_t_row.storage.row()[~mask]\n",
        "\n",
        "    return col, row, idx_i, idx_j, idx_k, idx_kj, idx_ji, shift_cells_i, shift_i, shift_cells_k, shift_k\n",
        "\n",
        "\n",
        "  def forward(self, z, pos, cell=None, batch=None):\n",
        "        \n",
        "    edge_index = []\n",
        "    dist = []\n",
        "    shift_cells = None\n",
        "    if cell is not None: # implement PBC\n",
        "      r1, r2, dist, shift, shift_cells = pbc_edges(self.cutoff, z, pos, cell, batch, compute_sc=True) \n",
        "      edge_index = [r1, r2]\n",
        "\n",
        "        \n",
        "      i, j, idx_i, idx_j, idx_k, idx_kj, idx_ji, shift_cells_i, shift_i, shift_cells_k, shift_k = self.triplets(\n",
        "          edge_index, num_nodes=z.size(0), shift_cells=shift_cells, shift=shift)        \n",
        "    else: # old method without PBC\n",
        "      edge_index = radius_graph(pos, r=self.cutoff, batch=batch)\n",
        "      i, j, idx_i, idx_j, idx_k, idx_kj, idx_ji = self.triplets_original(\n",
        "          edge_index, num_nodes=z.size(0))        \n",
        "      dist = (pos[i] - pos[j]).pow(2).sum(dim=-1).sqrt()\n",
        "\n",
        "    # Define atoms position \n",
        "    pos_i = pos[idx_i]\n",
        "    pos_j = pos[idx_j]\n",
        "    pos_k = pos[idx_k]\n",
        "\n",
        "    if cell is not None: # Fix coordinates for PBCs\n",
        "\n",
        "      pos_i = pos_i + shift_cells_i[:, 0:3] + shift_cells_i[:, 3:6] + shift_cells_i[:, 6:9]\n",
        "      pos_k = pos_k + shift_cells_k[:, 0:3] + shift_cells_k[:, 3:6] + shift_cells_k[:, 6:9]\n",
        "      sc_ij = torch.all(~torch.all(pos_i == pos_j, dim=1)) \n",
        "      sc_kj = torch.all(~torch.all(pos_k == pos_j, dim=1))\n",
        "      #if not (sc_ij and sc_kj):\n",
        "      #   raise NameError('Found same position for different atoms!')\n",
        "\n",
        "    # Calculate angles - with some Fixes to indexes compared to the orig. version\n",
        "    pos_ji, pos_kj = pos_j - pos_i, pos_k - pos_j\n",
        "    a = (pos_ji * pos_kj).sum(dim=-1)\n",
        "    b = torch.cross(pos_ji, pos_kj)\n",
        "    b = torch.linalg.norm(b + 1e-16, dim=-1)  # following https://github.com/pytorch/pytorch/issues/2421\n",
        "    angle = torch.atan2(b, a)\n",
        "\n",
        "    rbf = self.rbf(dist)\n",
        "    sbf = self.sbf(dist, angle, idx_kj)\n",
        "\n",
        "    # Embedding block.\n",
        "    x = self.emb(z, rbf, i, j)\n",
        "    P = self.output_blocks[0](x, rbf, i, num_nodes=pos.size(0))\n",
        "\n",
        "    # Interaction blocks.\n",
        "    for interaction_block, output_block in zip(self.interaction_blocks,\n",
        "                                               self.output_blocks[1:]):\n",
        "      x = interaction_block(x, rbf, sbf, idx_kj, idx_ji)\n",
        "      a = output_block(x, rbf, i, num_nodes=pos.size(0))\n",
        "      P += a\n",
        "\n",
        "    # Energy de-standardization\n",
        "    if self.std is not None and self.mean is not None:\n",
        "      P = P * self.std + self.mean\n",
        "\n",
        "    res = P.sum(dim=0) if batch is None else scatter(P, batch, dim=0)\n",
        "    return res"
      ],
      "execution_count": null,
      "outputs": []
    },
    {
      "cell_type": "markdown",
      "metadata": {
        "id": "DQvcjWezqZof"
      },
      "source": [
        "# Training"
      ]
    },
    {
      "cell_type": "markdown",
      "metadata": {
        "id": "NiQx-JJotPPz"
      },
      "source": [
        "## Define functions\n"
      ]
    },
    {
      "cell_type": "code",
      "metadata": {
        "id": "FF5Cr_8nvIQ-"
      },
      "source": [
        "def loss_energy_forces_virial(data, e, f, v, c_e, c_f, c_v):\n",
        "  \n",
        "  d_e, d_f, d_v = data.y.to(DEVICE), data.f.to(DEVICE), data.v.to(DEVICE)\n",
        "\n",
        "  acc = 0\n",
        "  batched_db = torch.tensor([], dtype=torch.long)\n",
        "  for i in range(data.num_graphs):\n",
        "    db = data.get_example(i).db\n",
        "    batched_db = torch.cat((batched_db, db.repeat(3))) \n",
        "  db1_mask = (batched_db == 1)\n",
        "  db1_mask = db1_mask.to(DEVICE)\n",
        "\n",
        "  v_ok = v[db1_mask]\n",
        "  if len(v_ok) != 0:\n",
        "    loss_v = torch.mean(torch.abs(v_ok - d_v[db1_mask])) \n",
        "  else:\n",
        "    loss_v = torch.tensor(0)\n",
        "  loss_e = torch.mean(torch.abs(e - d_e))\n",
        "  loss_f = torch.mean(torch.abs(f - d_f))\n",
        "  loss = c_e * loss_e + c_f * loss_f + c_v * loss_v\n",
        "  return loss_e, loss_f, loss_v, loss  "
      ],
      "execution_count": null,
      "outputs": []
    },
    {
      "cell_type": "code",
      "metadata": {
        "id": "Fbg5zobWusJS"
      },
      "source": [
        "def train_energy_forces_virial(model, loader, optimizer, c_e, c_f, c_v):\n",
        "  model.train()\n",
        "  total_loss = total_loss_e = total_loss_f = total_loss_v = 0\n",
        "\n",
        "  for data in loader:\n",
        "    z, x, cell, batch = data.z.to(DEVICE), data.x.to(DEVICE), data.cell.to(DEVICE), data.batch.to(DEVICE)\n",
        "    x.requires_grad = True \n",
        "    optimizer.zero_grad()\n",
        "    \n",
        "    pred = model(z, x, cell, batch)\n",
        "    e = pred[:,:1]\n",
        "    f = -1 * torch.autograd.grad(e, x, grad_outputs=torch.ones_like(e), create_graph=True, retain_graph=True)[0]\n",
        "    e = e.squeeze(1)\n",
        "    v = pred[:,1:].reshape(-1, 3)\n",
        "\n",
        "    loss_e, loss_f, loss_v, loss = loss_energy_forces_virial(data, e, f, v, c_e, c_f, c_v)\n",
        "    total_loss_e += loss_e.item()\n",
        "    total_loss_f += loss_f.item()\n",
        "    total_loss_v += loss_v.item()\n",
        "    total_loss += loss.item()\n",
        "\n",
        "    loss.backward()\n",
        "    optimizer.step()\n",
        "  print(\"Total training loss\\t e: {}, f: {}, v: {}, all (scaled): {}\".format(total_loss_e, total_loss_f, total_loss_v, total_loss))"
      ],
      "execution_count": null,
      "outputs": []
    },
    {
      "cell_type": "code",
      "metadata": {
        "id": "KFOT2gfFC3d-"
      },
      "source": [
        "def test(model, train_loader, test_loader):\n",
        "  model.eval()\n",
        "\n",
        "  with torch.no_grad():\n",
        "    train_errs = torch.tensor([], dtype=DTYPE)\n",
        "    test_errs = torch.tensor([], dtype=DTYPE)\n",
        "  \n",
        "    for data in train_loader:  # Iterate in batches over the training/test dataset.\n",
        "      z, x, cell, batch, d_e = data.z.to(DEVICE), data.x.to(DEVICE), data.cell.to(DEVICE), data.batch.to(DEVICE)\n",
        "      e = model(data.z, data.x, data.cell, data.batch)\n",
        "      e = e.squeeze(1)\n",
        "      errs = torch.abs(e.view(-1).cpu() - data.y.cpu())\n",
        "      train_errs = torch.cat((train_errs, errs))\n",
        "    train_mae = torch.mean(train_errs).item()\n",
        "\n",
        "    for data in test_loader:  # Iterate in batches over the training/test dataset.\n",
        "      z, x, cell, batch = data.z.to(DEVICE), data.x.to(DEVICE), data.cell.to(DEVICE), data.batch.to(DEVICE)\n",
        "      e = model(data.z, data.x, data.cell, data.batch)\n",
        "      e = e.squeeze(1)\n",
        "      errs = torch.abs(e.view(-1).cpu() - data.y.cpu())\n",
        "      test_errs = torch.cat((test_errs, errs))\n",
        "    test_mae = torch.mean(test_errs).item()\n",
        "\n",
        "  return train_mae, test_mae"
      ],
      "execution_count": null,
      "outputs": []
    },
    {
      "cell_type": "code",
      "metadata": {
        "id": "2gQAclirtXTC"
      },
      "source": [
        "from datetime import datetime\n",
        "\n",
        "train_maes = []\n",
        "test_maes = []\n",
        "def train_and_test(model, train_loader, test_loader, optimizer, scheduler, \n",
        "                   energy_coeff, forces_coeff, virial_coeff, \n",
        "                   epochs=100, starting_epoch=1, save_every=5,\n",
        "                   early_stopping_starting_epoch=100, patience=100,\n",
        "                   name=None, description=None):\n",
        "  if description == None:\n",
        "    description = datetime.now().strftime('%H:%M:%S')\n",
        "\n",
        "  lowest_test_mae = 100.\n",
        "  epochs_not_improved = 0\n",
        "  save_model_flag = True\n",
        "  for epoch in range(starting_epoch, epochs):\n",
        "    print(\"\")\n",
        "    print(f\"Epoch {epoch} ({datetime.now().strftime('%H:%M:%S')})\")\n",
        "    print(f\"\")\n",
        "    train_energy_forces_virial(model, train_loader, optimizer, energy_coeff, forces_coeff, virial_coeff)\n",
        "    train_mae, test_mae = test(model, train_loader, test_loader)\n",
        "    train_maes.append(train_mae)\n",
        "    test_maes.append(test_mae)\n",
        "    print(f\"Energy MAE: train {train_mae} eV, test {test_mae} eV\")\n",
        "    if epoch <= early_stopping_starting_epoch:\n",
        "      lowest_test_mae = test_mae\n",
        "      save_model_flag = True\n",
        "    else:\n",
        "      print('Early stopping active')\n",
        "      if test_mae < lowest_test_mae:\n",
        "        epochs_not_improved = 0\n",
        "        lowest_test_mae = test_mae\n",
        "        save_model_flag = True\n",
        "        print('MAE has decreased, saving the model')\n",
        "      else:\n",
        "        epochs_not_improved += 1\n",
        "        save_model_flag = False\n",
        "        if epochs_not_improved > patience:\n",
        "          print('Patience has been finished: end of the training')\n",
        "          break\n",
        "        else:\n",
        "          print('MAE has not decreased for ' + str(epochs_not_improved) + ' epochs, go on without saving the model')\n",
        "    if save_model_flag == True:\n",
        "      save_model(name=name, description=description, epoch=epoch, train_err=train_mae, test_err=test_mae)\n",
        "    scheduler.step(test_mae)"
      ],
      "execution_count": null,
      "outputs": []
    },
    {
      "cell_type": "code",
      "metadata": {
        "id": "R34A6noCtYx5"
      },
      "source": [
        "def save_model(name, description, epoch=-1, train_err=-1, test_err=-1):\n",
        "  model_data = {\n",
        "    \"desc\": description,\n",
        "    \"str\": model_str,\n",
        "    \"mean\": mean,\n",
        "    \"std\": std,\n",
        "    \"state\": model.state_dict(),\n",
        "    \"optimizer\": optimizer.state_dict(),\n",
        "    \"scheduler\": scheduler.state_dict(),\n",
        "    \"train_err\": train_err,\n",
        "    \"test_err\": test_err\n",
        "  }  \n",
        "  if not epoch == -1:\n",
        "    epoch_str = \"_\" + str(epoch)\n",
        "  else:\n",
        "    epoch_str = \"\"\n",
        "  actual_name = f\"{name}{epoch_str}\"\n",
        "\n",
        "  dir = f\"{MODELS_PATH}/{name}\"\n",
        "  if not os.path.exists(dir):\n",
        "    os.makedirs(dir)\n",
        "    print(f\"Created directory {dir}\")\n",
        "  torch.save(model_data, f\"{dir}/{actual_name}\")\n",
        "  print(f\"Saved {actual_name}\")\n",
        "\n",
        "  if os.path.isfile(f\"{dir}/{name}_best\"):\n",
        "    best = torch.load(f\"{dir}/{name}_best\")\n",
        "    best_train_err = best[\"train_err\"]\n",
        "    best_test_err = best[\"test_err\"]\n",
        "  else:\n",
        "    best_train_err, best_test_err = 10e18, 10e18\n",
        "  # if train_err < best_train_err and test_err < best_test_err:\n",
        "  if test_err < best_test_err:\n",
        "    torch.save(model_data, f\"{dir}/{name}_best\")\n",
        "    print(f\"Saved best\")"
      ],
      "execution_count": null,
      "outputs": []
    },
    {
      "cell_type": "markdown",
      "metadata": {
        "id": "usAV1Y-Qth72"
      },
      "source": [
        "## Instantiate model"
      ]
    },
    {
      "cell_type": "code",
      "metadata": {
        "id": "4jgbJMqotifV"
      },
      "source": [
        "model_name = \"dimenet_efv_22set\" # name of the folder where checkpoints will be saved\n",
        "model_description = \"DimeNet internal PBC, energy 10 + forces 1000 + virial (DB1) 1\""
      ],
      "execution_count": null,
      "outputs": []
    },
    {
      "cell_type": "code",
      "metadata": {
        "id": "Iy8vyhFitjda"
      },
      "source": [
        "model = DimeNetx(hidden_channels=128, out_channels=10, num_blocks=7, num_bilinear=8, num_spherical=7, num_radial=6, cutoff=3.5, mean=mean, std=std).to(DEVICE)\n",
        "\n",
        "if DTYPE == torch.float64:\n",
        "  model = model.double()\n",
        "\n",
        "optimizer = torch.optim.Adam(model.parameters(), lr=0.0001)\n",
        "optimizer.zero_grad()\n",
        "scheduler = torch.optim.lr_scheduler.ReduceLROnPlateau(optimizer, mode='min', factor=0.1, patience=10, threshold=0.01, threshold_mode='abs')\n",
        "max_epochs = 100\n",
        "energy_coeff = 10\n",
        "forces_coeff = 1000\n",
        "virial_coeff = 1"
      ],
      "execution_count": null,
      "outputs": []
    },
    {
      "cell_type": "markdown",
      "metadata": {
        "id": "B5Lz3enDtluj"
      },
      "source": [
        "Copy-paste the content of the previous cell in the following variable to allow for saving of parameters + hyperparameters"
      ]
    },
    {
      "cell_type": "code",
      "metadata": {
        "id": "-hA3uobYtml1"
      },
      "source": [
        "model_str = \"\"\"\n",
        "model = DimeNetx(hidden_channels=128, out_channels=10, num_blocks=7, num_bilinear=8, num_spherical=7, num_radial=6, cutoff=3.5, mean=mean, std=std).to(DEVICE)\n",
        "\n",
        "if DTYPE == torch.float64:\n",
        "  model = model.double()\n",
        "\n",
        "optimizer = torch.optim.Adam(model.parameters(), lr=0.0001)\n",
        "optimizer.zero_grad()\n",
        "scheduler = torch.optim.lr_scheduler.ReduceLROnPlateau(optimizer, mode='min', factor=0.1, patience=10, threshold=0.01, threshold_mode='abs')\n",
        "max_epochs = 100\n",
        "energy_coeff = 10\n",
        "forces_coeff = 1000\n",
        "virial_coeff = 1\n",
        "\"\"\""
      ],
      "execution_count": null,
      "outputs": []
    },
    {
      "cell_type": "markdown",
      "metadata": {
        "id": "kxKQFWV_toOq"
      },
      "source": [
        "# [Restore from checkpoint]"
      ]
    },
    {
      "cell_type": "code",
      "metadata": {
        "id": "xnLQn-FbtpK7"
      },
      "source": [
        "RESTORE_FROM_CHECKPOINT = False\n",
        "\n",
        "if RESTORE_FROM_CHECKPOINT:\n",
        "  model_fn = \"\"\n",
        "  checkpoint = torch.load(MODELS_PATH + \"/dimenet_last/\" + model_fn)\n",
        "  model.load_state_dict(checkpoint[\"state\"])\n",
        "  optimizer.load_state_dict(checkpoint[\"optimizer\"])\n",
        "  scheduler.load_state_dict(checkpoint[\"scheduler\"])\n",
        "\n",
        "# print(model)\n",
        "# print(optimizer)\n",
        "# print(scheduler)"
      ],
      "execution_count": null,
      "outputs": []
    },
    {
      "cell_type": "markdown",
      "metadata": {
        "id": "wSXWWjl0qqIf"
      },
      "source": [
        "# Info"
      ]
    },
    {
      "cell_type": "code",
      "metadata": {
        "colab": {
          "base_uri": "https://localhost:8080/"
        },
        "id": "3eXmO92Jtrkl",
        "outputId": "b85adef9-e4cc-4459-fc93-cf02ccc3883c"
      },
      "source": [
        "#@title  { vertical-output: true, display-mode: \"both\" }\n",
        "def experiment_summary():\n",
        "  device = \"CPU\" if DEVICE == torch.device(\"cpu\") else f\"GPU ({torch.cuda.get_device_name(device=DEVICE)})\"\n",
        "  print(f\"Device: {device}\")\n",
        "  print(f\"Data type: {DTYPE}\")\n",
        "  #print(f\"Files used: {file_names}\")\n",
        "  print(f\"Cutoff: {3.5}\")\n",
        "  print(f\"Mean: {y_atom_mean}, std: {y_atom_std}\")\n",
        "  print(f\"Training ratio: {TRAINING_RATIO}\")\n",
        "  print(f\"Batch size: {BATCH_SIZE}\")\n",
        "  print(f\"Model: \\n    {model_name}: {model_description}\\n    {str(model)}\")\n",
        "  #loss = \"energy\" if not use_forces else f\"energy+forces ({energy_coeff})\"\n",
        "  #print(f\"Loss: {loss}\")\n",
        "  print(f\"Optimizer: {optimizer}\")\n",
        "  print(f\"Scheduler: {scheduler}\")\n",
        "  print(f\"Max epochs: {max_epochs}\")\n",
        "experiment_summary()"
      ],
      "execution_count": null,
      "outputs": [
        {
          "output_type": "stream",
          "name": "stdout",
          "text": [
            "Device: GPU (Tesla K80)\n",
            "Data type: torch.float64\n",
            "Cutoff: 3.5\n",
            "Mean: -3460.8258474824015, std: 0.1657638302944937\n",
            "Training ratio: 0.8\n",
            "Batch size: 3\n",
            "Model: \n",
            "    dimenet_efv_22set: DimeNet internal PBC, energy 10 + forces 1000 + virial (DB1) 1\n",
            "    DimeNetx(\n",
            "  (padding): ConstantPad2d(padding=(0, 6, 0, 0), value=0)\n",
            "  (rbf): BesselBasisLayer(\n",
            "    (envelope): Envelope()\n",
            "  )\n",
            "  (sbf): SphericalBasisLayer(\n",
            "    (envelope): Envelope()\n",
            "  )\n",
            "  (emb): EmbeddingBlock(\n",
            "    (emb): Embedding(95, 128)\n",
            "    (lin_rbf): Linear(in_features=6, out_features=128, bias=False)\n",
            "    (lin): Linear(in_features=384, out_features=128, bias=True)\n",
            "  )\n",
            "  (output_blocks): ModuleList(\n",
            "    (0): OutputBlock(\n",
            "      (lin_rbf): Linear(in_features=6, out_features=128, bias=False)\n",
            "      (lins): ModuleList(\n",
            "        (0): Linear(in_features=128, out_features=128, bias=True)\n",
            "        (1): Linear(in_features=128, out_features=128, bias=True)\n",
            "        (2): Linear(in_features=128, out_features=128, bias=True)\n",
            "      )\n",
            "      (lin): Linear(in_features=128, out_features=10, bias=False)\n",
            "    )\n",
            "    (1): OutputBlock(\n",
            "      (lin_rbf): Linear(in_features=6, out_features=128, bias=False)\n",
            "      (lins): ModuleList(\n",
            "        (0): Linear(in_features=128, out_features=128, bias=True)\n",
            "        (1): Linear(in_features=128, out_features=128, bias=True)\n",
            "        (2): Linear(in_features=128, out_features=128, bias=True)\n",
            "      )\n",
            "      (lin): Linear(in_features=128, out_features=10, bias=False)\n",
            "    )\n",
            "    (2): OutputBlock(\n",
            "      (lin_rbf): Linear(in_features=6, out_features=128, bias=False)\n",
            "      (lins): ModuleList(\n",
            "        (0): Linear(in_features=128, out_features=128, bias=True)\n",
            "        (1): Linear(in_features=128, out_features=128, bias=True)\n",
            "        (2): Linear(in_features=128, out_features=128, bias=True)\n",
            "      )\n",
            "      (lin): Linear(in_features=128, out_features=10, bias=False)\n",
            "    )\n",
            "    (3): OutputBlock(\n",
            "      (lin_rbf): Linear(in_features=6, out_features=128, bias=False)\n",
            "      (lins): ModuleList(\n",
            "        (0): Linear(in_features=128, out_features=128, bias=True)\n",
            "        (1): Linear(in_features=128, out_features=128, bias=True)\n",
            "        (2): Linear(in_features=128, out_features=128, bias=True)\n",
            "      )\n",
            "      (lin): Linear(in_features=128, out_features=10, bias=False)\n",
            "    )\n",
            "    (4): OutputBlock(\n",
            "      (lin_rbf): Linear(in_features=6, out_features=128, bias=False)\n",
            "      (lins): ModuleList(\n",
            "        (0): Linear(in_features=128, out_features=128, bias=True)\n",
            "        (1): Linear(in_features=128, out_features=128, bias=True)\n",
            "        (2): Linear(in_features=128, out_features=128, bias=True)\n",
            "      )\n",
            "      (lin): Linear(in_features=128, out_features=10, bias=False)\n",
            "    )\n",
            "    (5): OutputBlock(\n",
            "      (lin_rbf): Linear(in_features=6, out_features=128, bias=False)\n",
            "      (lins): ModuleList(\n",
            "        (0): Linear(in_features=128, out_features=128, bias=True)\n",
            "        (1): Linear(in_features=128, out_features=128, bias=True)\n",
            "        (2): Linear(in_features=128, out_features=128, bias=True)\n",
            "      )\n",
            "      (lin): Linear(in_features=128, out_features=10, bias=False)\n",
            "    )\n",
            "    (6): OutputBlock(\n",
            "      (lin_rbf): Linear(in_features=6, out_features=128, bias=False)\n",
            "      (lins): ModuleList(\n",
            "        (0): Linear(in_features=128, out_features=128, bias=True)\n",
            "        (1): Linear(in_features=128, out_features=128, bias=True)\n",
            "        (2): Linear(in_features=128, out_features=128, bias=True)\n",
            "      )\n",
            "      (lin): Linear(in_features=128, out_features=10, bias=False)\n",
            "    )\n",
            "    (7): OutputBlock(\n",
            "      (lin_rbf): Linear(in_features=6, out_features=128, bias=False)\n",
            "      (lins): ModuleList(\n",
            "        (0): Linear(in_features=128, out_features=128, bias=True)\n",
            "        (1): Linear(in_features=128, out_features=128, bias=True)\n",
            "        (2): Linear(in_features=128, out_features=128, bias=True)\n",
            "      )\n",
            "      (lin): Linear(in_features=128, out_features=10, bias=False)\n",
            "    )\n",
            "  )\n",
            "  (interaction_blocks): ModuleList(\n",
            "    (0): InteractionBlock(\n",
            "      (lin_rbf): Linear(in_features=6, out_features=128, bias=False)\n",
            "      (lin_sbf): Linear(in_features=42, out_features=8, bias=False)\n",
            "      (lin_kj): Linear(in_features=128, out_features=128, bias=True)\n",
            "      (lin_ji): Linear(in_features=128, out_features=128, bias=True)\n",
            "      (layers_before_skip): ModuleList(\n",
            "        (0): ResidualLayer(\n",
            "          (lin1): Linear(in_features=128, out_features=128, bias=True)\n",
            "          (lin2): Linear(in_features=128, out_features=128, bias=True)\n",
            "        )\n",
            "      )\n",
            "      (lin): Linear(in_features=128, out_features=128, bias=True)\n",
            "      (layers_after_skip): ModuleList(\n",
            "        (0): ResidualLayer(\n",
            "          (lin1): Linear(in_features=128, out_features=128, bias=True)\n",
            "          (lin2): Linear(in_features=128, out_features=128, bias=True)\n",
            "        )\n",
            "        (1): ResidualLayer(\n",
            "          (lin1): Linear(in_features=128, out_features=128, bias=True)\n",
            "          (lin2): Linear(in_features=128, out_features=128, bias=True)\n",
            "        )\n",
            "      )\n",
            "    )\n",
            "    (1): InteractionBlock(\n",
            "      (lin_rbf): Linear(in_features=6, out_features=128, bias=False)\n",
            "      (lin_sbf): Linear(in_features=42, out_features=8, bias=False)\n",
            "      (lin_kj): Linear(in_features=128, out_features=128, bias=True)\n",
            "      (lin_ji): Linear(in_features=128, out_features=128, bias=True)\n",
            "      (layers_before_skip): ModuleList(\n",
            "        (0): ResidualLayer(\n",
            "          (lin1): Linear(in_features=128, out_features=128, bias=True)\n",
            "          (lin2): Linear(in_features=128, out_features=128, bias=True)\n",
            "        )\n",
            "      )\n",
            "      (lin): Linear(in_features=128, out_features=128, bias=True)\n",
            "      (layers_after_skip): ModuleList(\n",
            "        (0): ResidualLayer(\n",
            "          (lin1): Linear(in_features=128, out_features=128, bias=True)\n",
            "          (lin2): Linear(in_features=128, out_features=128, bias=True)\n",
            "        )\n",
            "        (1): ResidualLayer(\n",
            "          (lin1): Linear(in_features=128, out_features=128, bias=True)\n",
            "          (lin2): Linear(in_features=128, out_features=128, bias=True)\n",
            "        )\n",
            "      )\n",
            "    )\n",
            "    (2): InteractionBlock(\n",
            "      (lin_rbf): Linear(in_features=6, out_features=128, bias=False)\n",
            "      (lin_sbf): Linear(in_features=42, out_features=8, bias=False)\n",
            "      (lin_kj): Linear(in_features=128, out_features=128, bias=True)\n",
            "      (lin_ji): Linear(in_features=128, out_features=128, bias=True)\n",
            "      (layers_before_skip): ModuleList(\n",
            "        (0): ResidualLayer(\n",
            "          (lin1): Linear(in_features=128, out_features=128, bias=True)\n",
            "          (lin2): Linear(in_features=128, out_features=128, bias=True)\n",
            "        )\n",
            "      )\n",
            "      (lin): Linear(in_features=128, out_features=128, bias=True)\n",
            "      (layers_after_skip): ModuleList(\n",
            "        (0): ResidualLayer(\n",
            "          (lin1): Linear(in_features=128, out_features=128, bias=True)\n",
            "          (lin2): Linear(in_features=128, out_features=128, bias=True)\n",
            "        )\n",
            "        (1): ResidualLayer(\n",
            "          (lin1): Linear(in_features=128, out_features=128, bias=True)\n",
            "          (lin2): Linear(in_features=128, out_features=128, bias=True)\n",
            "        )\n",
            "      )\n",
            "    )\n",
            "    (3): InteractionBlock(\n",
            "      (lin_rbf): Linear(in_features=6, out_features=128, bias=False)\n",
            "      (lin_sbf): Linear(in_features=42, out_features=8, bias=False)\n",
            "      (lin_kj): Linear(in_features=128, out_features=128, bias=True)\n",
            "      (lin_ji): Linear(in_features=128, out_features=128, bias=True)\n",
            "      (layers_before_skip): ModuleList(\n",
            "        (0): ResidualLayer(\n",
            "          (lin1): Linear(in_features=128, out_features=128, bias=True)\n",
            "          (lin2): Linear(in_features=128, out_features=128, bias=True)\n",
            "        )\n",
            "      )\n",
            "      (lin): Linear(in_features=128, out_features=128, bias=True)\n",
            "      (layers_after_skip): ModuleList(\n",
            "        (0): ResidualLayer(\n",
            "          (lin1): Linear(in_features=128, out_features=128, bias=True)\n",
            "          (lin2): Linear(in_features=128, out_features=128, bias=True)\n",
            "        )\n",
            "        (1): ResidualLayer(\n",
            "          (lin1): Linear(in_features=128, out_features=128, bias=True)\n",
            "          (lin2): Linear(in_features=128, out_features=128, bias=True)\n",
            "        )\n",
            "      )\n",
            "    )\n",
            "    (4): InteractionBlock(\n",
            "      (lin_rbf): Linear(in_features=6, out_features=128, bias=False)\n",
            "      (lin_sbf): Linear(in_features=42, out_features=8, bias=False)\n",
            "      (lin_kj): Linear(in_features=128, out_features=128, bias=True)\n",
            "      (lin_ji): Linear(in_features=128, out_features=128, bias=True)\n",
            "      (layers_before_skip): ModuleList(\n",
            "        (0): ResidualLayer(\n",
            "          (lin1): Linear(in_features=128, out_features=128, bias=True)\n",
            "          (lin2): Linear(in_features=128, out_features=128, bias=True)\n",
            "        )\n",
            "      )\n",
            "      (lin): Linear(in_features=128, out_features=128, bias=True)\n",
            "      (layers_after_skip): ModuleList(\n",
            "        (0): ResidualLayer(\n",
            "          (lin1): Linear(in_features=128, out_features=128, bias=True)\n",
            "          (lin2): Linear(in_features=128, out_features=128, bias=True)\n",
            "        )\n",
            "        (1): ResidualLayer(\n",
            "          (lin1): Linear(in_features=128, out_features=128, bias=True)\n",
            "          (lin2): Linear(in_features=128, out_features=128, bias=True)\n",
            "        )\n",
            "      )\n",
            "    )\n",
            "    (5): InteractionBlock(\n",
            "      (lin_rbf): Linear(in_features=6, out_features=128, bias=False)\n",
            "      (lin_sbf): Linear(in_features=42, out_features=8, bias=False)\n",
            "      (lin_kj): Linear(in_features=128, out_features=128, bias=True)\n",
            "      (lin_ji): Linear(in_features=128, out_features=128, bias=True)\n",
            "      (layers_before_skip): ModuleList(\n",
            "        (0): ResidualLayer(\n",
            "          (lin1): Linear(in_features=128, out_features=128, bias=True)\n",
            "          (lin2): Linear(in_features=128, out_features=128, bias=True)\n",
            "        )\n",
            "      )\n",
            "      (lin): Linear(in_features=128, out_features=128, bias=True)\n",
            "      (layers_after_skip): ModuleList(\n",
            "        (0): ResidualLayer(\n",
            "          (lin1): Linear(in_features=128, out_features=128, bias=True)\n",
            "          (lin2): Linear(in_features=128, out_features=128, bias=True)\n",
            "        )\n",
            "        (1): ResidualLayer(\n",
            "          (lin1): Linear(in_features=128, out_features=128, bias=True)\n",
            "          (lin2): Linear(in_features=128, out_features=128, bias=True)\n",
            "        )\n",
            "      )\n",
            "    )\n",
            "    (6): InteractionBlock(\n",
            "      (lin_rbf): Linear(in_features=6, out_features=128, bias=False)\n",
            "      (lin_sbf): Linear(in_features=42, out_features=8, bias=False)\n",
            "      (lin_kj): Linear(in_features=128, out_features=128, bias=True)\n",
            "      (lin_ji): Linear(in_features=128, out_features=128, bias=True)\n",
            "      (layers_before_skip): ModuleList(\n",
            "        (0): ResidualLayer(\n",
            "          (lin1): Linear(in_features=128, out_features=128, bias=True)\n",
            "          (lin2): Linear(in_features=128, out_features=128, bias=True)\n",
            "        )\n",
            "      )\n",
            "      (lin): Linear(in_features=128, out_features=128, bias=True)\n",
            "      (layers_after_skip): ModuleList(\n",
            "        (0): ResidualLayer(\n",
            "          (lin1): Linear(in_features=128, out_features=128, bias=True)\n",
            "          (lin2): Linear(in_features=128, out_features=128, bias=True)\n",
            "        )\n",
            "        (1): ResidualLayer(\n",
            "          (lin1): Linear(in_features=128, out_features=128, bias=True)\n",
            "          (lin2): Linear(in_features=128, out_features=128, bias=True)\n",
            "        )\n",
            "      )\n",
            "    )\n",
            "  )\n",
            ")\n",
            "Optimizer: Adam (\n",
            "Parameter Group 0\n",
            "    amsgrad: False\n",
            "    betas: (0.9, 0.999)\n",
            "    eps: 1e-08\n",
            "    lr: 0.0001\n",
            "    weight_decay: 0\n",
            ")\n",
            "Scheduler: <torch.optim.lr_scheduler.ReduceLROnPlateau object at 0x7f865a1bfe50>\n",
            "Max epochs: 100\n"
          ]
        }
      ]
    },
    {
      "cell_type": "code",
      "metadata": {
        "colab": {
          "base_uri": "https://localhost:8080/",
          "height": 35
        },
        "id": "yKqnNmmi-FuT",
        "outputId": "44b91f14-c57d-4ca3-f399-8cd1b1809a28"
      },
      "source": [
        "torch.cuda.get_device_name(device=DEVICE)"
      ],
      "execution_count": null,
      "outputs": [
        {
          "output_type": "execute_result",
          "data": {
            "application/vnd.google.colaboratory.intrinsic+json": {
              "type": "string"
            },
            "text/plain": [
              "'Tesla K80'"
            ]
          },
          "metadata": {},
          "execution_count": 35
        }
      ]
    },
    {
      "cell_type": "code",
      "metadata": {
        "colab": {
          "base_uri": "https://localhost:8080/"
        },
        "id": "KRxUXTjY5cO1",
        "outputId": "77a51a0c-1b12-40be-9f57-c491f8358a14"
      },
      "source": [
        "#@title  { vertical-output: true, display-mode: \"both\" }\n",
        "from psutil import *\n",
        "print(cpu_count())\n",
        "print(cpu_stats())\n",
        "!cat /proc/cpuinfo\n",
        "!df -h\n",
        "print(virtual_memory())\n"
      ],
      "execution_count": null,
      "outputs": [
        {
          "output_type": "stream",
          "name": "stdout",
          "text": [
            "2\n",
            "scpustats(ctx_switches=9175930, interrupts=6448809, soft_interrupts=3856515, syscalls=0)\n",
            "processor\t: 0\n",
            "vendor_id\t: GenuineIntel\n",
            "cpu family\t: 6\n",
            "model\t\t: 63\n",
            "model name\t: Intel(R) Xeon(R) CPU @ 2.30GHz\n",
            "stepping\t: 0\n",
            "microcode\t: 0x1\n",
            "cpu MHz\t\t: 2299.998\n",
            "cache size\t: 46080 KB\n",
            "physical id\t: 0\n",
            "siblings\t: 2\n",
            "core id\t\t: 0\n",
            "cpu cores\t: 1\n",
            "apicid\t\t: 0\n",
            "initial apicid\t: 0\n",
            "fpu\t\t: yes\n",
            "fpu_exception\t: yes\n",
            "cpuid level\t: 13\n",
            "wp\t\t: yes\n",
            "flags\t\t: fpu vme de pse tsc msr pae mce cx8 apic sep mtrr pge mca cmov pat pse36 clflush mmx fxsr sse sse2 ss ht syscall nx pdpe1gb rdtscp lm constant_tsc rep_good nopl xtopology nonstop_tsc cpuid tsc_known_freq pni pclmulqdq ssse3 fma cx16 pcid sse4_1 sse4_2 x2apic movbe popcnt aes xsave avx f16c rdrand hypervisor lahf_lm abm invpcid_single ssbd ibrs ibpb stibp fsgsbase tsc_adjust bmi1 avx2 smep bmi2 erms invpcid xsaveopt arat md_clear arch_capabilities\n",
            "bugs\t\t: cpu_meltdown spectre_v1 spectre_v2 spec_store_bypass l1tf mds swapgs\n",
            "bogomips\t: 4599.99\n",
            "clflush size\t: 64\n",
            "cache_alignment\t: 64\n",
            "address sizes\t: 46 bits physical, 48 bits virtual\n",
            "power management:\n",
            "\n",
            "processor\t: 1\n",
            "vendor_id\t: GenuineIntel\n",
            "cpu family\t: 6\n",
            "model\t\t: 63\n",
            "model name\t: Intel(R) Xeon(R) CPU @ 2.30GHz\n",
            "stepping\t: 0\n",
            "microcode\t: 0x1\n",
            "cpu MHz\t\t: 2299.998\n",
            "cache size\t: 46080 KB\n",
            "physical id\t: 0\n",
            "siblings\t: 2\n",
            "core id\t\t: 0\n",
            "cpu cores\t: 1\n",
            "apicid\t\t: 1\n",
            "initial apicid\t: 1\n",
            "fpu\t\t: yes\n",
            "fpu_exception\t: yes\n",
            "cpuid level\t: 13\n",
            "wp\t\t: yes\n",
            "flags\t\t: fpu vme de pse tsc msr pae mce cx8 apic sep mtrr pge mca cmov pat pse36 clflush mmx fxsr sse sse2 ss ht syscall nx pdpe1gb rdtscp lm constant_tsc rep_good nopl xtopology nonstop_tsc cpuid tsc_known_freq pni pclmulqdq ssse3 fma cx16 pcid sse4_1 sse4_2 x2apic movbe popcnt aes xsave avx f16c rdrand hypervisor lahf_lm abm invpcid_single ssbd ibrs ibpb stibp fsgsbase tsc_adjust bmi1 avx2 smep bmi2 erms invpcid xsaveopt arat md_clear arch_capabilities\n",
            "bugs\t\t: cpu_meltdown spectre_v1 spectre_v2 spec_store_bypass l1tf mds swapgs\n",
            "bogomips\t: 4599.99\n",
            "clflush size\t: 64\n",
            "cache_alignment\t: 64\n",
            "address sizes\t: 46 bits physical, 48 bits virtual\n",
            "power management:\n",
            "\n",
            "Filesystem      Size  Used Avail Use% Mounted on\n",
            "overlay          74G   47G   28G  63% /\n",
            "tmpfs            64M     0   64M   0% /dev\n",
            "tmpfs           6.4G     0  6.4G   0% /sys/fs/cgroup\n",
            "shm             5.8G     0  5.8G   0% /dev/shm\n",
            "/dev/sda1        81G   52G   30G  64% /opt/bin/.nvidia\n",
            "tmpfs           6.4G   28K  6.4G   1% /var/colab\n",
            "tmpfs           6.4G     0  6.4G   0% /proc/acpi\n",
            "tmpfs           6.4G     0  6.4G   0% /proc/scsi\n",
            "tmpfs           6.4G     0  6.4G   0% /sys/firmware\n",
            "drive            15G   13G  2.7G  83% /content/drive\n",
            "svmem(total=13622194176, available=11395624960, percent=16.3, used=2377801728, free=256737280, active=2737504256, inactive=10040406016, buffers=156717056, cached=10830938112, shared=5402624, slab=414134272)\n"
          ]
        }
      ]
    },
    {
      "cell_type": "code",
      "metadata": {
        "id": "-G4PXuDW9Hgt"
      },
      "source": [
        "train_and_test(model, train_loader, test_loader, optimizer, scheduler, \n",
        "               energy_coeff, forces_coeff, virial_coeff,\n",
        "               epochs=max_epochs, starting_epoch=1, save_every=1,\n",
        "               early_stopping_starting_epoch=40, patience=10,\n",
        "               name=model_name, description=model_description)"
      ],
      "execution_count": null,
      "outputs": []
    },
    {
      "cell_type": "code",
      "metadata": {
        "id": "_WVNFKGa8IXH"
      },
      "source": [
        "torch.save(train_maes, MODELS_PATH + '/' + model_name + '/train_MAE')\n",
        "torch.save(test_maes, MODELS_PATH + '/' + model_name + '/test_MAE')"
      ],
      "execution_count": null,
      "outputs": []
    },
    {
      "cell_type": "code",
      "metadata": {
        "id": "6BLuauxJ8Jz8"
      },
      "source": [
        "lista_train_mae = torch.load(MODELS_PATH + '/' + model_name + '/train_MAE')\n",
        "lista_test_mae = torch.load(MODELS_PATH + '/' + model_name + '/test_MAE')\n",
        "print(len(lista_train_mae))\n",
        "print(lista_train_mae)\n",
        "print(len(lista_test_mae))\n",
        "print(lista_test_mae)"
      ],
      "execution_count": null,
      "outputs": []
    },
    {
      "cell_type": "code",
      "metadata": {
        "id": "hWckcSvmts5C"
      },
      "source": [
        "# train_and_test(model, train_loader, test_loader, optimizer, scheduler, \n",
        "#                use_forces=use_forces, energy_coeff=energy_coeff,\n",
        "#                epochs=max_epochs, starting_epoch=1, save_every=1,\n",
        "#                name=model_name, description=model_description)"
      ],
      "execution_count": null,
      "outputs": []
    },
    {
      "cell_type": "markdown",
      "metadata": {
        "id": "APtIHa1UrGEx"
      },
      "source": [
        "## [Clean memory]"
      ]
    },
    {
      "cell_type": "code",
      "metadata": {
        "id": "tPyeH_HJrLau"
      },
      "source": [
        "import gc\n",
        "if model:\n",
        "  model.cpu()\n",
        "  del model\n",
        "  gc.collect()\n",
        "  torch.cuda.empty_cache()"
      ],
      "execution_count": null,
      "outputs": []
    }
  ]
}